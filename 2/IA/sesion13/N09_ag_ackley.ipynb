{
 "cells": [
  {
   "cell_type": "markdown",
   "metadata": {},
   "source": [
    "# N09. Algortimos Genéticos y Función de Ackley\n",
    "\n",
    "__Borja González Seoane, Computación Inteligente y Ética de la IA. Curso 2022-23__"
   ]
  },
  {
   "cell_type": "markdown",
   "metadata": {},
   "source": [
    "## Preámbulo\n",
    "\n",
    "Este nuevo _notebook_ sobre algoritmos genéticos es una copia de N08. En este caso, se parte de la implementación alcanzada en el anterior _notebook_ y mejora el algoritmo genético dotándolo de más flexibilidad en cuanto a parametrización. También se añaden nuevas piezas necesarias para poder abarcar el problema de optimización de la función de Ackley.\n"
   ]
  },
  {
   "cell_type": "code",
   "execution_count": 1,
   "metadata": {},
   "outputs": [],
   "source": [
    "# %pip install numpy"
   ]
  },
  {
   "cell_type": "code",
   "execution_count": 2,
   "metadata": {},
   "outputs": [],
   "source": [
    "from typing import Callable, Tuple\n",
    "import numpy as np\n",
    "import random"
   ]
  },
  {
   "cell_type": "markdown",
   "metadata": {},
   "source": [
    "## Función de Ackley\n",
    "\n",
    "Se propone un problema de optimización típico, como lo es la optimización de una función continua. La función de Ackley es una función de dos variables que tiene un mínimo global teórico en (0, 0), de valor 0. La función de Ackley se define como:\n",
    "\n",
    "$$\n",
    "f(x, y) = -20 \\exp\\left(-0.2 \\sqrt{0.5(x^2 + y^2)}\\right) - \\exp\\left(0.5(\\cos(2\\pi x) + \\cos(2\\pi y))\\right) + 20 + e\n",
    "$$\n",
    "\n",
    "Para más información, se puede consultar https://www.sfu.ca/~ssurjano/ackley.html.\n",
    "\n",
    "Para con el propósito de este _notebook_, lo más relevante es que aunque la función de Ackley tiene un mínimo global en (0, 0), de valor 0, también tiene muchos mínimos locales. Un algoritmo de optimización puede tener dificultades para encontrar el mínimo global si se estanca en un mínimo local. Así pues, constituye un problema de optimización no trivial interesante para probar la implementación del algoritmo genético.\n",
    "\n",
    "La implementación del algoritmo genético deberá ser capaz de:\n",
    "\n",
    "- Representar individuos con valores reales.\n",
    "- Minimizar en lugar de maximizar.\n",
    "\n",
    "Así pues, son necesarias algunas modificaciones en la implementación del algoritmo genético de N08.\n",
    "\n",
    "No obstante, lo primero es implementar la función de Ackley."
   ]
  },
  {
   "cell_type": "code",
   "execution_count": 3,
   "metadata": {},
   "outputs": [
    {
     "data": {
      "text/plain": [
       "3.9677748886824635"
      ]
     },
     "metadata": {},
     "output_type": "display_data"
    },
    {
     "data": {
      "text/plain": [
       "4.440892098500626e-16"
      ]
     },
     "metadata": {},
     "output_type": "display_data"
    }
   ],
   "source": [
    "def fun_ackley(individuo: np.ndarray) -> float:\n",
    "    \"\"\"\n",
    "    Función de Ackley para probar el algoritmo genético.\n",
    "\n",
    "    :param individuo: Individuo a evaluar.\n",
    "    :return: Valor de la función de Ackley para el individuo.\n",
    "    \"\"\"\n",
    "    # Se comprueba que el individuo sea de dimensión 2\n",
    "    assert len(individuo) == 2, \"El individuo debe ser de dimensión 2.\"\n",
    "\n",
    "    a = 20\n",
    "    b = 0.2\n",
    "    c = 2 * np.pi\n",
    "\n",
    "    x = individuo[0]\n",
    "    y = individuo[1]\n",
    "\n",
    "    termino_1 = -a * np.exp(-b * np.sqrt(0.5 * (x**2 + y**2))) # Primera parte función ackley\n",
    "    termino_2 = -np.exp(0.5 * (np.cos(c * x) + np.cos(c * y))) # Segunda parte función ackley\n",
    "\n",
    "    return termino_1 + termino_2 + a + np.exp(1) # Función de ackley entera\n",
    "\n",
    "\n",
    "# Pruebas\n",
    "test = fun_ackley(np.random.rand(2))\n",
    "display(test)\n",
    "\n",
    "# Se comprueba el mínimo teórico de la función de Ackley. Hay que tener en cuenta la precisión\n",
    "# del tipo de dato flotante en Python, que es del orden de 10^-16. Ergo se considera error si la\n",
    "# desviación es mayor a 10^-15\n",
    "test = fun_ackley(np.array([0, 0]))\n",
    "display(test)\n",
    "assert np.isclose( # assert es para verificar si la condición de que está cerca es verdadera\n",
    "    test, 0, atol=1e-15\n",
    "), f\"Función mal implementada. Resultado diferente al esperado.\""
   ]
  },
  {
   "cell_type": "code",
   "execution_count": 4,
   "metadata": {},
   "outputs": [],
   "source": [
    "def fun_ackley_neg(individuo: np.ndarray) -> float:\n",
    "    return -fun_ackley(individuo)"
   ]
  },
  {
   "cell_type": "markdown",
   "metadata": {},
   "source": [
    "## Recuperar piezas necesarias de N08\n"
   ]
  },
  {
   "cell_type": "markdown",
   "metadata": {},
   "source": [
    "## Implementar las nuevas piezas necesarias para el algoritmo"
   ]
  },
  {
   "cell_type": "code",
   "execution_count": 5,
   "metadata": {},
   "outputs": [
    {
     "data": {
      "text/plain": [
       "array([1, 0, 1, 1, 0, 1, 0, 0, 1, 1])"
      ]
     },
     "metadata": {},
     "output_type": "display_data"
    },
    {
     "data": {
      "text/plain": [
       "array([[1, 0, 1, 1, 0, 1, 0, 0, 1, 1],\n",
       "       [0, 1, 1, 0, 1, 0, 1, 1, 0, 0],\n",
       "       [1, 1, 1, 1, 1, 1, 1, 1, 1, 1],\n",
       "       [0, 0, 0, 0, 0, 0, 0, 0, 0, 0]])"
      ]
     },
     "metadata": {},
     "output_type": "display_data"
    }
   ],
   "source": [
    "# Para pruebas\n",
    "\n",
    "individuo_test = np.array([1, 0, 1, 1, 0, 1, 0, 0, 1, 1])\n",
    "\n",
    "display(individuo_test)\n",
    "\n",
    "poblacion_test = np.array(\n",
    "    [\n",
    "        individuo_test,\n",
    "        [0, 1, 1, 0, 1, 0, 1, 1, 0, 0],\n",
    "        [1, 1, 1, 1, 1, 1, 1, 1, 1, 1],\n",
    "        [0, 0, 0, 0, 0, 0, 0, 0, 0, 0],\n",
    "    ]\n",
    ")\n",
    "\n",
    "display(poblacion_test)"
   ]
  },
  {
   "cell_type": "markdown",
   "metadata": {},
   "source": [
    "### Modificaciones necesarias del algoritmo genético\n",
    "\n",
    "Para adaptar el algoritmo genético al problema de optimización de la función de Ackley, se requieren las siguientes modificaciones:\n",
    "\n",
    "- Representar individuos con valores reales.\n",
    "- Modificar la función de evaluación para que calcule el valor de la función de Ackley.\n",
    "\n",
    "Así pues, se añaden dos piezas adicionales al algoritmo genético y se modifica la firma del algortimo genético para que se puedan pasar todas las piezas necesarias como argumentos, permitiendo así una mayor flexibilidad. También se añaden algunas mejoras adicionales, como la consideración del elitismo."
   ]
  },
  {
   "cell_type": "code",
   "execution_count": 6,
   "metadata": {},
   "outputs": [],
   "source": [
    "def mutacion(individuo: np.ndarray, prob_mutacion: float, representacion_reales: bool) -> np.ndarray:\n",
    "    if representacion_reales:\n",
    "        # Generar una máscara de mutación que tiene la misma longitud del individuo pero lleno de números boolenaos.\n",
    "        # Para cada elemento del individuo se genera un número aleatorio entre 0 y 1, si es menor que la probabilidad de mutación el valor será True y se mutará.\n",
    "        mascara_mutacion = np.random.uniform(size=individuo.shape) < prob_mutacion\n",
    "\n",
    "        # Añadir un pequeño valor aleatorio a los elementos mutados, de media 0 y desviación típica 0.1\n",
    "        individuo[mascara_mutacion] += np.random.normal(scale=0.1, size=np.sum(mascara_mutacion))\n",
    "    else:\n",
    "        for i in range(len(individuo)):\n",
    "            if random.random() < prob_mutacion:\n",
    "                individuo[i] = 1 - individuo[i]  # Cambia 0 a 1 y viceversa\n",
    "    return individuo\n",
    "\n",
    "# Seleccion mediante el método de torneo\n",
    "def seleccion(poblacion: np.ndarray, fun_eval, tam_torneo: int) -> np.ndarray:\n",
    "    # Selecciona 'tam_torneo' individuos al azar de la población\n",
    "    competidores = random.choices(poblacion, k=tam_torneo)\n",
    "    \n",
    "    # Evalúa la aptitud de los competidores\n",
    "    aptitudes = np.apply_along_axis(fun_eval, 1, competidores)\n",
    "    \n",
    "    # Encuentra el índice del competidor con la mayor aptitud\n",
    "    ganador_idx = np.argmax(aptitudes)\n",
    "    \n",
    "    # Devuelve el ganador\n",
    "    return competidores[ganador_idx]\n",
    "\n",
    "def reproduccion(individuo1: np.ndarray, individuo2: np.ndarray, representacion_reales: bool) -> Tuple[np.ndarray, np.ndarray]:\n",
    "    punto_cruce = random.randint(1, len(individuo1)-1)\n",
    "    hijo1 = np.concatenate((individuo1[:punto_cruce], individuo2[punto_cruce:]))\n",
    "    hijo2 = np.concatenate((individuo2[:punto_cruce], individuo1[punto_cruce:]))\n",
    "    return hijo1, hijo2"
   ]
  },
  {
   "cell_type": "code",
   "execution_count": 7,
   "metadata": {},
   "outputs": [],
   "source": [
    "def algoritmo_genetico(\n",
    "    fun_eval: Callable[[np.ndarray], float], # Función de evaluación (fun_ackley)\n",
    "    tam_cromosoma: int,\n",
    "    tam_poblacion: int,\n",
    "    num_generaciones: int,\n",
    "    tam_torneo: int,\n",
    "    prob_mutacion: float = 0.01,\n",
    "    representacion_reales: bool = False, # hiperparámetro para representar los individuos como vector de dos números binarios o números reales\n",
    ") -> Tuple[np.ndarray, float]:\n",
    "    # Inicializar población\n",
    "    if representacion_reales:\n",
    "        # En el caso de que se representen los individuos con números reales, generamos una población de individuos con valores aleatorios entre -10 y 10\n",
    "        poblacion = np.random.uniform(low=-10.0, high=10.0, size=(tam_poblacion, tam_cromosoma))\n",
    "    else:\n",
    "        poblacion = np.random.randint(2, size=(tam_poblacion, tam_cromosoma))\n",
    "\n",
    "    for _ in range(num_generaciones):\n",
    "        # Evaluar población\n",
    "        aptitudes = np.apply_along_axis(fun_eval, 1, poblacion)\n",
    "\n",
    "        # Seleccionar padres\n",
    "        padre1 = seleccion(poblacion, fun_eval, tam_torneo)\n",
    "        padre2 = seleccion(poblacion, fun_eval, tam_torneo)\n",
    "\n",
    "        # Reproducción\n",
    "        hijo1, hijo2 = reproduccion(padre1, padre2, representacion_reales)\n",
    "\n",
    "        # Mutación\n",
    "        hijo1 = mutacion(hijo1, prob_mutacion, representacion_reales)\n",
    "        hijo2 = mutacion(hijo2, prob_mutacion, representacion_reales)\n",
    "\n",
    "        # Reemplazar dos individuos menos aptos\n",
    "        indices_menos_aptos = np.argpartition(aptitudes, 2)[:2]\n",
    "        poblacion[indices_menos_aptos[0]] = hijo1\n",
    "        poblacion[indices_menos_aptos[1]] = hijo2\n",
    "\n",
    "    # Evaluar población final\n",
    "    aptitudes = np.apply_along_axis(fun_eval, 1, poblacion)\n",
    "\n",
    "    # Encontrar el mejor individuo\n",
    "    indice_mejor = np.argmax(aptitudes)\n",
    "    mejor_individuo = poblacion[indice_mejor]\n",
    "    mejor_aptitud = aptitudes[indice_mejor]\n",
    "\n",
    "    return mejor_individuo, mejor_aptitud"
   ]
  },
  {
   "cell_type": "code",
   "execution_count": 9,
   "metadata": {},
   "outputs": [
    {
     "name": "stdout",
     "output_type": "stream",
     "text": [
      "Mejor individuo:  [0 0]\n",
      "Mejor aptitud:  -4.440892098500626e-16\n"
     ]
    }
   ],
   "source": [
    "# Parámetros del algoritmo genético\n",
    "tam_cromosoma = 2\n",
    "tam_poblacion = 500\n",
    "num_generaciones = 1000\n",
    "prob_mutacion = 0.01\n",
    "tam_torneo = 200\n",
    "representacion_reales = True\n",
    "\n",
    "# Ejecutar el algoritmo genético\n",
    "mejor_individuo, mejor_aptitud = algoritmo_genetico(\n",
    "    fun_ackley_neg,\n",
    "    tam_cromosoma,\n",
    "    tam_poblacion,\n",
    "    num_generaciones,\n",
    "    tam_torneo,\n",
    "    prob_mutacion,\n",
    "    representacion_reales\n",
    ")\n",
    "\n",
    "print(\"Mejor individuo: \", mejor_individuo)\n",
    "print(\"Mejor aptitud: \", mejor_aptitud)"
   ]
  }
 ],
 "metadata": {
  "kernelspec": {
   "display_name": "uie-cieia-laboratorio-jAuB2EJ2-py3.11",
   "language": "python",
   "name": "python3"
  },
  "language_info": {
   "codemirror_mode": {
    "name": "ipython",
    "version": 3
   },
   "file_extension": ".py",
   "mimetype": "text/x-python",
   "name": "python",
   "nbconvert_exporter": "python",
   "pygments_lexer": "ipython3",
   "version": "3.11.6"
  }
 },
 "nbformat": 4,
 "nbformat_minor": 2
}
