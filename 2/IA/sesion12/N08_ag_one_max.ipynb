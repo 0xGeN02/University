{
 "cells": [
  {
   "cell_type": "markdown",
   "metadata": {},
   "source": [
    "# N08. Algortimos Genéticos y _One-Max_\n",
    "\n",
    "__Borja González Seoane, Computación Inteligente y Ética de la IA. Cursó2022-23__"
   ]
  },
  {
   "cell_type": "markdown",
   "metadata": {},
   "source": [
    "## Preámbulo\n",
    "\n",
    "En esta parte de la práctica se trabajar ́a con algoritmos genéticos y se aplicarán a un problema sencillo, el problema _one-max_. Este problema consiste en encontrar una cadena de bits de longitud L que contenga el mayor número de unos posible. Por ejemplo, para L = 10, la cadena `1111111111` sería la solución óptima, con un total de 10 unos; mientras que la cadena 0101010101 sería una solución con un total de 5 unos.\n",
    "\n",
    "Instalación:\n",
    "\n",
    "```sh\n",
    "pip install numpy\n",
    "```\n",
    "\n",
    "Recordatorio: las librerías necesarias pueden ser instaladas desde el propio _notebook_ mediante un comando _magic_ de Jupyter. Descomentar la siguiente línea y ejecutar:"
   ]
  },
  {
   "cell_type": "code",
   "execution_count": 2,
   "metadata": {
    "metadata": {}
   },
   "outputs": [],
   "source": [
    "# %pip install numpy"
   ]
  },
  {
   "cell_type": "code",
   "execution_count": 3,
   "metadata": {
    "metadata": {}
   },
   "outputs": [],
   "source": [
    "from typing import Callable, Tuple\n",
    "\n",
    "import numpy as np\n",
    "\n",
    "import time"
   ]
  },
  {
   "cell_type": "markdown",
   "metadata": {},
   "source": [
    "## Implementar las piezas necesarias para el algoritmo"
   ]
  },
  {
   "cell_type": "code",
   "execution_count": 4,
   "metadata": {
    "metadata": {}
   },
   "outputs": [
    {
     "data": {
      "text/plain": [
       "array([1, 0, 1, 1, 0, 1, 0, 0, 1, 1])"
      ]
     },
     "metadata": {},
     "output_type": "display_data"
    }
   ],
   "source": [
    "individuo_test = np.array([1, 0, 1, 1, 0, 1, 0, 0, 1, 1])\n",
    "display(individuo_test)"
   ]
  },
  {
   "cell_type": "code",
   "execution_count": 5,
   "metadata": {
    "metadata": {}
   },
   "outputs": [
    {
     "data": {
      "text/plain": [
       "0.6"
      ]
     },
     "metadata": {},
     "output_type": "display_data"
    }
   ],
   "source": [
    "# funcion one max hace la suma de los unos y divide por la longitud del individuo para obtener el ratio de unos en el array individuo\n",
    "def fun_one_max(individuo: np.ndarray) -> float:\n",
    "    \"\"\"\n",
    "    Función de evaluación en particular para el problema One-Max.\n",
    "\n",
    "    :param individuo: El individuo que evaluar:\n",
    "    :return: Ratio de adecuación al entorno en base 0 a 1.\n",
    "    \"\"\"\n",
    "    return np.sum(individuo) / len(individuo) # Ratio de unos en el array\n",
    "\n",
    "\n",
    "test = fun_one_max(individuo_test) \n",
    "display(test)\n",
    "assert test == 0.6, f\"Función mal implementada. Resultado diferente al esperado.\""
   ]
  },
  {
   "cell_type": "markdown",
   "metadata": {},
   "source": [
    "## Implementar el algoritmo genético a partir de las piezas anteriores"
   ]
  },
  {
   "cell_type": "code",
   "execution_count": 6,
   "metadata": {
    "metadata": {}
   },
   "outputs": [],
   "source": [
    "# algoritmo genetico recibe la funcion de evaluacion, el tamaño del cromosoma, el tamaño de la poblacion, el numero de generaciones y la probabilidad de mutacion\n",
    "def algoritmo_genetico(\n",
    "    fun_eval: Callable[[np.ndarray], float],\n",
    "    tam_cromosoma: int,\n",
    "    tam_poblacion: int,\n",
    "    num_generaciones: int,\n",
    "    prob_mutacion: float = 0.01,\n",
    ") -> Tuple[np.ndarray, float]:\n",
    "    \"\"\"\n",
    "    Implementación de un algoritmo genético para la resolución de problemas de optimización.\n",
    "\n",
    "    :param fun_eval: Función de evaluación a optimizar.\n",
    "    :param tam_cromosoma: Tamaño del cromosoma de los individuos.\n",
    "    :param tam_poblacion: Tamaño de la población.\n",
    "    :param num_generaciones: Número de generaciones a evolucionar. Criterio de parada.\n",
    "    :param prob_mutacion: Probabilidad de mutación de un gen.\n",
    "    :return: Tupla con el mejor individuo encontrado y su valor de la función de evaluación.\n",
    "    \"\"\"\n",
    "\n",
    "    mejor_individuo = None\n",
    "    mejor_valor = 0.0\n",
    "\n",
    "    # Inicialización de la población\n",
    "    poblacion = np.random.randint(0, 2, (tam_poblacion, tam_cromosoma)) # Matriz de 0s y 1s de tamaño tam_poblacion x tam_cromosoma\n",
    "\n",
    "    for _ in range(int(num_generaciones*tam_poblacion/2)):\n",
    "        # Evaluación de la población\n",
    "        valores = np.array([fun_eval(individuo) for individuo in poblacion]) # Evaluación de cada individuo de la población\n",
    "\n",
    "        # Selección de los dos mejores individuos\n",
    "        indices = np.argsort(valores)[::-1] # Orden descendente\n",
    "        padres = poblacion[indices[:2]] # Los dos primeros son los mejores padres\n",
    "\n",
    "        # Cruce de los padres\n",
    "        punto_cruce = np.random.randint(1, tam_cromosoma) # Punto de cruce aleatorio\n",
    "        hijos = np.array(\n",
    "            [np.concatenate([padres[0, :punto_cruce], padres[1, punto_cruce:]])] \n",
    "            + [np.concatenate([padres[1, :punto_cruce], padres[0, punto_cruce:]])]\n",
    "        ) # Un hijo se obtiene con la primera mitad de un padre y la segunda de otro\n",
    "\n",
    "        # Mutación de los hijos\n",
    "        for hijo in hijos:\n",
    "            for i in range(tam_cromosoma):\n",
    "                if np.random.rand() < prob_mutacion: # Si el número aleatorio es menor que la probabilidad de mutación se cambia el gen\n",
    "                    hijo[i] = 1 - hijo[i]\n",
    "\n",
    "        # Reemplazo de los peores individuos\n",
    "        peores = np.argsort(valores)[:2]\n",
    "        poblacion[peores] = hijos\n",
    "\n",
    "        # Actualización del mejor individuo\n",
    "        mejor_valor_gen = np.max(valores)\n",
    "        if mejor_valor_gen > mejor_valor:\n",
    "            mejor_individuo = poblacion[np.argmax(valores)] # Mejor individuo de la generación\n",
    "            mejor_valor = mejor_valor_gen\n",
    "        \n",
    "    return mejor_individuo, mejor_valor"
   ]
  },
  {
   "cell_type": "markdown",
   "metadata": {},
   "source": [
    "## Pruebas con problema _one-max_"
   ]
  },
  {
   "cell_type": "code",
   "execution_count": 12,
   "metadata": {},
   "outputs": [
    {
     "data": {
      "text/plain": [
       "array([1, 1, 1, 1, 1, 1, 1, 1, 1, 1])"
      ]
     },
     "metadata": {},
     "output_type": "display_data"
    },
    {
     "data": {
      "text/plain": [
       "1.0"
      ]
     },
     "metadata": {},
     "output_type": "display_data"
    },
    {
     "name": "stdout",
     "output_type": "stream",
     "text": [
      "END 1\n"
     ]
    },
    {
     "data": {
      "text/plain": [
       "array([1, 1, 1, 1, 1, 1, 1, 1, 1, 1, 1, 1, 1, 1, 1, 1, 1, 1, 1, 1, 0, 0,\n",
       "       1, 1, 1, 1, 1, 0, 1, 1, 1, 1, 1, 1, 1, 1, 1, 1, 1, 0, 1, 1, 1, 1,\n",
       "       0, 1, 1, 1, 1, 1, 1, 1, 1, 1, 1, 1, 1, 1, 1, 1, 1, 1, 1, 0, 1, 1,\n",
       "       1, 1, 1, 1, 1, 1, 1, 1, 0, 1, 0, 1, 1, 0, 1, 0, 1, 1, 0, 1, 1, 1,\n",
       "       0, 1, 1, 1, 1, 0, 1, 1, 1, 1, 1, 1, 1, 1, 1, 1, 0, 1, 1, 1, 1, 1,\n",
       "       1, 1, 1, 1, 1, 1, 1, 1, 1, 1, 0, 1, 1, 1, 1, 1, 1, 1, 1, 1, 1, 1,\n",
       "       1, 1, 1, 1, 1, 1, 1, 1, 1, 1, 1, 1, 0, 1, 1, 1, 1, 1, 1, 1, 1, 0,\n",
       "       1, 1, 1, 1, 1, 1, 0, 1, 1, 1, 1, 1, 1, 1, 1, 1, 1, 0, 1, 0, 0, 1,\n",
       "       1, 1, 1, 0, 1, 1, 1, 1, 1, 1, 1, 1, 1, 1, 1, 1, 1, 1, 1, 1, 1, 1,\n",
       "       1, 1, 1, 1, 1, 0, 1, 1, 1, 1, 1, 1, 1, 1, 1, 1, 1, 1, 1, 1, 1, 1,\n",
       "       1, 1, 1, 0, 1, 0, 1, 1, 0, 1, 1, 1, 1, 1, 1, 1, 1, 1, 1, 0, 1, 1,\n",
       "       1, 1, 1, 1, 1, 1, 1, 1, 1, 1, 1, 1, 0, 1, 1, 1, 1, 1, 1, 0, 1, 1,\n",
       "       1, 0, 1, 1, 1, 1, 1, 1, 1, 1, 1, 0, 1, 1, 1, 1, 1, 1, 1, 1, 1, 1,\n",
       "       1, 1, 0, 1, 1, 1, 1, 1, 1, 1, 1, 1, 0, 1, 1, 1, 1, 1, 1, 1, 1, 1,\n",
       "       0, 1, 1, 0, 1, 0, 0, 1, 1, 1, 1, 1, 0, 1, 1, 1, 1, 1, 1, 1, 1, 0,\n",
       "       1, 1, 1, 1, 1, 1, 1, 1, 1, 1, 1, 1, 1, 1, 1, 1, 1, 1, 1, 1, 1, 1,\n",
       "       0, 1, 1, 1, 1, 1, 0, 1, 1, 1, 1, 1, 1, 1, 1, 0, 1, 1, 1, 1, 1, 1,\n",
       "       1, 1, 1, 1, 1, 1, 1, 1, 1, 1, 1, 0, 1, 1, 1, 1, 1, 1, 0, 1, 1, 1,\n",
       "       1, 0, 1, 1, 1, 1, 1, 1, 1, 1, 1, 1, 1, 1, 1, 1, 1, 0, 1, 0, 1, 1,\n",
       "       1, 1, 0, 1, 1, 1, 1, 1, 1, 1, 1, 1, 1, 0, 1, 1, 1, 1, 1, 1, 1, 1,\n",
       "       1, 1, 1, 1, 1, 1, 0, 0, 1, 1, 1, 1, 1, 1, 1, 1, 1, 1, 1, 1, 0, 1,\n",
       "       1, 1, 1, 1, 1, 1, 1, 1, 1, 1, 1, 1, 1, 1, 1, 1, 1, 1, 1, 1, 1, 1,\n",
       "       1, 1, 1, 1, 1, 1, 1, 1, 1, 1, 1, 1, 1, 1, 0, 1, 1, 1, 1, 0, 1, 1,\n",
       "       1, 1, 1, 1, 1, 1, 1, 1, 1, 1, 1, 1, 0, 1, 1, 1, 1, 1, 0, 1, 1, 1,\n",
       "       1, 1, 1, 1, 1, 1, 1, 1, 1, 1, 1, 0, 1, 0, 1, 1, 1, 1, 1, 1, 0, 1,\n",
       "       1, 1, 1, 1, 1, 1, 1, 1, 1, 1, 1, 1, 1, 1, 1, 1, 1, 0, 0, 1, 1, 1,\n",
       "       1, 1, 1, 1, 1, 1, 1, 1, 1, 1, 1, 1, 0, 1, 0, 1, 1, 1, 1, 1, 1, 1,\n",
       "       1, 1, 1, 1, 1, 0, 1, 1, 1, 1, 0, 1, 0, 0, 1, 1, 0, 1, 0, 1, 1, 1,\n",
       "       0, 1, 1, 1, 1, 0, 1, 1, 1, 1, 0, 0, 1, 1, 1, 0, 1, 1, 1, 0, 1, 1,\n",
       "       1, 0, 1, 1, 1, 1, 1, 1, 1, 1, 1, 1, 1, 1, 0, 1, 1, 1, 0, 0, 0, 1,\n",
       "       1, 0, 1, 1, 1, 1, 1, 1, 0, 1, 1, 1, 1, 1, 1, 1, 1, 1, 1, 1, 1, 1,\n",
       "       0, 1, 1, 0, 1, 0, 1, 1, 1, 1, 1, 1, 1, 1, 1, 1, 1, 1, 1, 1, 1, 0,\n",
       "       1, 1, 1, 0, 1, 1, 1, 1, 1, 0, 1, 1, 1, 1, 0, 1, 0, 1, 1, 1, 1, 1,\n",
       "       1, 1, 1, 1, 1, 1, 1, 1, 1, 1, 1, 1, 1, 1, 1, 1, 0, 0, 1, 1, 1, 1,\n",
       "       1, 1, 1, 1, 1, 0, 1, 1, 1, 1, 0, 1, 1, 1, 1, 1, 1, 1, 1, 1, 1, 1,\n",
       "       0, 1, 0, 1, 1, 1, 1, 1, 1, 1, 1, 1, 1, 1, 1, 0, 0, 1, 1, 1, 1, 1,\n",
       "       1, 1, 1, 1, 1, 1, 1, 0, 1, 1, 1, 0, 1, 1, 1, 1, 0, 1, 1, 1, 1, 1,\n",
       "       1, 1, 1, 1, 1, 1, 1, 1, 1, 1, 1, 1, 1, 0, 1, 1, 1, 1, 1, 1, 1, 1,\n",
       "       1, 1, 1, 1, 1, 1, 1, 1, 1, 1, 1, 1, 1, 1, 1, 1, 1, 0, 1, 1, 1, 1,\n",
       "       0, 0, 1, 1, 1, 1, 0, 1, 1, 1, 1, 1, 1, 1, 1, 1, 1, 0, 1, 0, 1, 1,\n",
       "       1, 1, 0, 1, 1, 0, 1, 1, 1, 0, 1, 1, 1, 1, 1, 1, 1, 1, 1, 1, 1, 1,\n",
       "       1, 1, 1, 1, 1, 0, 1, 1, 1, 1, 1, 1, 1, 1, 1, 1, 1, 1, 1, 1, 1, 1,\n",
       "       1, 1, 1, 1, 1, 1, 1, 1, 1, 1, 1, 1, 1, 1, 1, 1, 1, 1, 1, 0, 1, 1,\n",
       "       1, 1, 1, 0, 1, 1, 1, 1, 1, 1, 1, 1, 1, 1, 1, 1, 1, 1, 1, 1, 1, 1,\n",
       "       1, 1, 1, 1, 1, 1, 1, 1, 1, 1, 1, 1, 1, 1, 1, 1, 1, 1, 1, 0, 1, 1,\n",
       "       1, 1, 1, 1, 0, 1, 1, 1, 1, 1])"
      ]
     },
     "metadata": {},
     "output_type": "display_data"
    },
    {
     "data": {
      "text/plain": [
       "0.884"
      ]
     },
     "metadata": {},
     "output_type": "display_data"
    },
    {
     "name": "stdout",
     "output_type": "stream",
     "text": [
      "END 2\n"
     ]
    },
    {
     "data": {
      "text/plain": [
       "array([1, 1, 1, 1, 1, 1, 1, 1, 1, 1])"
      ]
     },
     "metadata": {},
     "output_type": "display_data"
    },
    {
     "data": {
      "text/plain": [
       "1.0"
      ]
     },
     "metadata": {},
     "output_type": "display_data"
    },
    {
     "name": "stdout",
     "output_type": "stream",
     "text": [
      "END 3\n"
     ]
    },
    {
     "data": {
      "text/plain": [
       "array([1, 1, 1, 1, 1, 1, 1, 1, 1, 1])"
      ]
     },
     "metadata": {},
     "output_type": "display_data"
    },
    {
     "data": {
      "text/plain": [
       "1.0"
      ]
     },
     "metadata": {},
     "output_type": "display_data"
    },
    {
     "name": "stdout",
     "output_type": "stream",
     "text": [
      "END 4\n"
     ]
    }
   ],
   "source": [
    "# se ejecuta el algoritmo genetico con la funcion one max\n",
    "(individuo1, valor1) = algoritmo_genetico(fun_one_max, 10, 100, 100)\n",
    "display(individuo1)\n",
    "display(valor1)\n",
    "print(\"END 1\")\n",
    "\n",
    "# intentamos obtener el mejor individuo con un cromosoma de 1000 alelos\n",
    "(individuo2, valor2) = algoritmo_genetico(fun_one_max, 1000, 100, 100)\n",
    "display(individuo2)\n",
    "display(valor2)\n",
    "print(\"END 2\")\n",
    "\n",
    "# intentamos obtener el mejor individuo de una poblacion de 1000 individuos\n",
    "start_chrono1 = time.time()\n",
    "(individuo3, valor3) = algoritmo_genetico(fun_one_max, 10, 1000, 100)\n",
    "end_chrono1 = time.time()\n",
    "display(individuo3)\n",
    "display(valor3)\n",
    "print(\"Response time: \", end_chrono1 - start_chrono1)\n",
    "print(\"END 3\")\n",
    "\n",
    "# intentamos obtener el mejor individuo de una poblacion de 1000 individuos y 1000 generaciones\n",
    "start_chrono2 = time.time()\n",
    "(individuo4, valor4) = algoritmo_genetico(fun_one_max, 10, 1000, 1000)\n",
    "end_chrono2 = time.time()\n",
    "display(individuo4)\n",
    "display(valor4)\n",
    "print(\"Response time: \", end_chrono2 - start_chrono2)\n",
    "print(\"END 4\")\n"
   ]
  }
 ],
 "metadata": {
  "kernelspec": {
   "display_name": "uie-cieia-laboratorio-jAuB2EJ2-py3.11",
   "language": "python",
   "name": "python3"
  },
  "language_info": {
   "codemirror_mode": {
    "name": "ipython",
    "version": 3
   },
   "file_extension": ".py",
   "mimetype": "text/x-python",
   "name": "python",
   "nbconvert_exporter": "python",
   "pygments_lexer": "ipython3",
   "version": "3.11.6"
  }
 },
 "nbformat": 4,
 "nbformat_minor": 2
}
