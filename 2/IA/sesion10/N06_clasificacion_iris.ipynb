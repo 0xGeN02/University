{
 "cells": [
  {
   "cell_type": "markdown",
   "metadata": {},
   "source": [
    "# N06. Clasificación Iris\n",
    "\n",
    "__Borja González Seoane, Computación Inteligente y Ética de la IA. Curso 2022-23__"
   ]
  },
  {
   "cell_type": "markdown",
   "metadata": {},
   "source": [
    "## Preámbulo\n",
    "\n",
    "El conjunto de datos Iris es uno de los más clásicos para la docencia en aprendizaje automático. En esta práctica se va a proceder a clasificar las flores de iris empleando el perceptrón simple implementado en la segunda parte de la práctica y el perceptrón multicapa (MLP) de Scikit-Learn.\n",
    "\n",
    "Para este _notebook_ sólo añadimos necesariamente la librería Scikit-Learn. No obstante, también podemos emplear UCI-ML-Repo, que es una utilidad para descargar los _datasets_ de los repositorios de [UC Irvine Machine Learning](https://archive.ics.uci.edu) muy cómodamente desde Python.\n",
    "\n",
    "Instalación:\n",
    "\n",
    "```sh\n",
    "pip install scikit-learn ucimlrepo\n",
    "```\n",
    "\n",
    "Recordatorio: las librerías necesarias pueden ser instaladas desde el propio _notebook_ mediante un comando _magic_ de Jupyter. Descomentar la siguiente línea y ejecutar:"
   ]
  },
  {
   "cell_type": "code",
   "execution_count": null,
   "metadata": {},
   "outputs": [],
   "source": [
    "# %pip install scikit-learn ucimlrepo"
   ]
  },
  {
   "cell_type": "markdown",
   "metadata": {},
   "source": [
    "Sckit-Learn es una de las librerías de Python más utilizadas para aprendizaje automático. Proporciona un conjunto de utilidades para la creación de modelos de aprendizaje supervisado y no supervisado, además de otros cometidos como la selección de modelos, la evaluación de modelos, la selección de hiperparámetros, la partición de conjuntos de datos, etc. Sin duda, es una de las librerías de referencia en el campo del aprendizaje automático, que todo profesional de la ciencia de datos debería conocer.\n",
    "\n",
    "En esta práctica se empleará Scikit-Learn para la partición del conjunto de datos Iris y para utilizar su implementación del perceptrón multicapa.\n",
    "\n",
    "<img src=\"data:image/png;base64,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\" width=\"400\" />"
   ]
  },
  {
   "cell_type": "code",
   "execution_count": null,
   "metadata": {},
   "outputs": [],
   "source": [
    "# Todas las importaciones que deberían ser necesarias, aunque pueden emplearse otras a voluntad\n",
    "import numpy as np\n",
    "from sklearn.model_selection import train_test_split\n",
    "from sklearn.neural_network import MLPClassifier\n",
    "from ucimlrepo import fetch_ucirepo"
   ]
  },
  {
   "cell_type": "markdown",
   "metadata": {},
   "source": [
    "## Objetivos"
   ]
  },
  {
   "cell_type": "markdown",
   "metadata": {},
   "source": [
    "----"
   ]
  },
  {
   "cell_type": "markdown",
   "metadata": {},
   "source": [
    "### 1. _Cargar el_ dataset _Iris y explorar sus características. Se debe descargar el_ dataset _desde la URL proporcionada y cargarlo en el notebook con la librería Pandas. Otra posibilidad es cargarlo directamente con la librería UCI-ML-Repo (`ucimlrepo`). Procédase a explorar las características del_ dataset _, como el número de instancias, el número de atributos, el número de clases, el nombre de las clases, etc. Esto se correspondería con una primera exploración de los datos con los que trabajar._"
   ]
  },
  {
   "cell_type": "code",
   "execution_count": null,
   "metadata": {},
   "outputs": [],
   "source": [
    "# Descargar dataset a memoria\n",
    "iris = fetch_ucirepo(id=53)\n",
    "\n",
    "# Selecciona los datos como Pandas\n",
    "X = iris.data.features\n",
    "y = iris.data.targets\n",
    "\n",
    "# ..."
   ]
  },
  {
   "cell_type": "markdown",
   "metadata": {},
   "source": [
    "### 2. _Se pretende trabajar en un contexto de clasificación binaria, pero el_ dataset _Iris tiene tres tipos de flores. Por simplicidad, se eliminarán del_ dataset _las filas correspondientes a `Iris-virginica`. Luego, se deben mapear las etiquetas de `Iris-setosa` a `0` e `Iris-versicolor` a `1`. De esta forma se consigue un conjunto de datos para clasificación binaria con dos clases numéricas. Este paso se correspondería con una fase de selección y corrección de características_"
   ]
  },
  {
   "cell_type": "code",
   "execution_count": null,
   "metadata": {},
   "outputs": [],
   "source": [
    "# ..."
   ]
  },
  {
   "cell_type": "markdown",
   "metadata": {},
   "source": [
    "### 3. _Se crearán dos particiones de Iris: una para entrenamiento y otra para test. Selecciónese el 70 % de los datos para entrenamiento y el 30 % restante para test. Utilícese la función `train_test_split` de Scikit-Learn para dividir el conjunto de datos. Se usará una semilla de 42 —número escogido al azar— para que los resultados sean reproducibles entre todos los estudiantes. Compruébese que la repartición tiene el mismo número de casos de ambos tipos de flores_"
   ]
  },
  {
   "cell_type": "code",
   "execution_count": null,
   "metadata": {},
   "outputs": [],
   "source": [
    "# Separamos los datos en entrenamiento y prueba. El parámetro `stratify` nos permite mantener la proporción de las\n",
    "# clases en ambos conjuntos. `random_state` nos permite fijar la semilla para que los resultados sean reproducibles,\n",
    "# es decir, que siempre se obtengan los mismos resultados al ejecutar el código. De lo contrario, cada vez que se\n",
    "# ejecute el código, se obtendrán resultados diferentes —lo cual sería lo deseable en un entorno productivo o\n",
    "# experimento real, pero no para esta práctica\n",
    "X_train, X_test, y_train, y_test = train_test_split(\n",
    "    # ...,\n",
    "    test_size=#..., \n",
    "    random_state=42, \n",
    "    stratify=y\n",
    ")\n",
    "\n",
    "# ..."
   ]
  },
  {
   "cell_type": "markdown",
   "metadata": {},
   "source": [
    "### 4. _Emplear el perceptrón simple implementado en la parte segunda de la práctica para clasificar las flores de iris. Téngase en cuenta que la implementación de la segunda parte de la práctica trabajaba con vectores de NumPy y no con_ dataframes _de Pandas, tal vez sea necesario realizar alguna conversión adicional... ¿Cuál es la precisión que alcanza el modelo? ¿Es adecuado el perceptrón simple para este escenario y conjunto de datos?_"
   ]
  },
  {
   "cell_type": "code",
   "execution_count": null,
   "metadata": {},
   "outputs": [],
   "source": [
    "# Impórtese clase del perceptrón simple\n",
    "\n",
    "# ..."
   ]
  },
  {
   "cell_type": "code",
   "execution_count": null,
   "metadata": {},
   "outputs": [],
   "source": [
    "# Convertimos dataframes a vectores de NumPy, que es lo que la clase se espera\n",
    "X_train_np = #...\n",
    "\n",
    "display(X_train_np)"
   ]
  },
  {
   "cell_type": "code",
   "execution_count": null,
   "metadata": {},
   "outputs": [],
   "source": [
    "# Usar el perceptrón simple con Iris\n",
    "\n",
    "# ..."
   ]
  },
  {
   "cell_type": "markdown",
   "metadata": {},
   "source": [
    "### 5. _Utilizar la implementación de perceptrón multicapa de Scikit-Learn para clasificar las flores de iris. Investigar la documentación de la clase `sklearn.neural_network.MLPClassifier`. ¿Es posible emplear los_ dataframes _Pandas en esta clase? ¿Cuál es la precisión que alcanza el modelo?_"
   ]
  },
  {
   "cell_type": "code",
   "execution_count": null,
   "metadata": {},
   "outputs": [],
   "source": [
    "# Usar el MLP de SciKit-Learn con Iris\n",
    "\n",
    "# ..."
   ]
  },
  {
   "cell_type": "markdown",
   "metadata": {},
   "source": [
    "### 6. _Utilícese el propio_ notebook _para responder a las cuestiones planteadas_"
   ]
  }
 ],
 "metadata": {
  "kernelspec": {
   "display_name": "uie-cieia-laboratorio-jAuB2EJ2-py3.11",
   "language": "python",
   "name": "python3"
  },
  "language_info": {
   "codemirror_mode": {
    "name": "ipython",
    "version": 3
   },
   "file_extension": ".py",
   "mimetype": "text/x-python",
   "name": "python",
   "nbconvert_exporter": "python",
   "pygments_lexer": "ipython3",
   "version": "3.11.0"
  }
 },
 "nbformat": 4,
 "nbformat_minor": 2
}
