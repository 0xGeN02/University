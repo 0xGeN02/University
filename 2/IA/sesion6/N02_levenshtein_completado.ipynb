{
 "cells": [
  {
   "cell_type": "markdown",
   "metadata": {},
   "source": [
    "# N02. Levenshtein\n",
    "\n",
    "__Borja González Seoane, Computación Inteligente y Ética de la IA. Curso 2022-23__\n"
   ]
  },
  {
   "cell_type": "markdown",
   "metadata": {},
   "source": [
    "## Preámbulo\n",
    "\n",
    "En este _notebook_ se afrontará el caso de uso del ejemplo _Motor de búsqueda para compañía inmobiliaria_, visto en las transparencias de clase. Se replica aquí el enunciado:\n",
    "\n",
    ">- Sea una compañía que pretende desarrollar un motor de búsqueda para uso interno.\n",
    ">- Se dedica al sector inmobiliario y tiene una base de datos con expedientes de propiedades.\n",
    ">- La compañía quiere que un empleado pueda buscar un expediente mediante una consulta en lenguaje natural al respecto de la descripción de la propiedad.\n",
    ">- Por ejemplo: «Chalet en Ciudad Jardín, A Coruña» debería devolver el mismo expediente que «Casa chalet adosado en Ciudad Jardín, A Coruña, 15008».\n",
    "\n",
    "Para resolver el problema, se empleará la distancia de Levenshtein, que mide el número de operaciones necesarias para transformar una cadena de caracteres en otra. Inicialmente se usará la implementación de la librería `Levenshtein`, que ofrece una interfaz sencilla para Python. Posteriormente, quedará propuesta la implementación de un algoritmo propio, como actividad para el Foro 04.\n",
    "\n",
    "Como se dice en las transparencias, la compañía ha proporcionado una muestra de la base de datos con la que se trabajará. Por simplicidad, se presenta aquí la muestra como un diccionario fácilmente manipulable:"
   ]
  },
  {
   "cell_type": "code",
   "execution_count": 15,
   "metadata": {},
   "outputs": [],
   "source": [
    "BD = [\n",
    "    {\n",
    "        \"expediente\": \"GA00000010\",\n",
    "        \"descripcion\": \"Casa chalet adosado. Virrey Osorio, Ciudad Jardín, A Coruña. 350 m. 15008\",\n",
    "    },\n",
    "    {\n",
    "        \"expediente\": \"GA00000020\",\n",
    "        \"descripcion\": \"Chalet independiente. Ciudad Jardín, A Coruña. 450 m. 5 hab. 4 baños. Piscina\",\n",
    "    },\n",
    "    {\n",
    "        \"expediente\": \"GA00000030\",\n",
    "        \"descripcion\": \"Mansión de lujo. O Grove, Pontevedra. 720 m. 6 hab. 5 baños. Cerca playa Os Raeiros\",\n",
    "    },\n",
    "    {\n",
    "        \"expediente\": \"GA00000040\",\n",
    "        \"descripcion\": \"Villa de lujo en Vigo. Vistas al mar. 600 m. 4 hab. 3 baños. Jardín, piscina\",\n",
    "    },\n",
    "    {\n",
    "        \"expediente\": \"GA00000051\",\n",
    "        \"descripcion\": \"Adosado urbanizacion. Villalonga, Sanxenxo. 300 m. Vistas mar. Piscina comunitaria\",\n",
    "    },\n",
    "    {\n",
    "        \"expediente\": \"GA00000052\",\n",
    "        \"descripcion\": \"Adosado urbanización Las Torres. Sanxenxo. 300 m. Vistas mar. Piscina comunidad. Amueblado\",\n",
    "    },\n",
    "    {\n",
    "        \"expediente\": \"GA00000053\",\n",
    "        \"descripcion\": \"Adosado urbanización Las Torres. Sanxenxo. 300 m. Vistas mar. Piscina comunidad. Amueblado\",\n",
    "    },\n",
    "    {\n",
    "        \"expediente\": \"GA00000060\",\n",
    "        \"descripcion\": \"Piso céntrico. Estudio. Rúa Real, A Coruña. 120 m. 2 hab. 1 baño. 15001. Primer piso\",\n",
    "    },\n",
    "    {\n",
    "        \"expediente\": \"GA00000061\",\n",
    "        \"descripcion\": \"Piso céntrico. Estudio. Rúa Real, A Coruña. 120 m. 2 hab. 1 baño. 15001. Primer piso\",\n",
    "    },\n",
    "    {\n",
    "        \"expediente\": \"GA00000062\",\n",
    "        \"descripcion\": \"Piso céntrico. Estudio. Rúa Real, A Coruña. 120 m. 2 hab. 1 baño. 15001. Primer piso\",\n",
    "    },\n",
    "]"
   ]
  },
  {
   "cell_type": "code",
   "execution_count": 16,
   "metadata": {},
   "outputs": [
    {
     "name": "stdout",
     "output_type": "stream",
     "text": [
      "GA00000010: Casa chalet adosado. Virrey Osorio, Ciudad Jardín, A Coruña. 350 m. 15008\n",
      "GA00000020: Chalet independiente. Ciudad Jardín, A Coruña. 450 m. 5 hab. 4 baños. Piscina\n",
      "GA00000030: Mansión de lujo. O Grove, Pontevedra. 720 m. 6 hab. 5 baños. Cerca playa Os Raeiros\n",
      "GA00000040: Villa de lujo en Vigo. Vistas al mar. 600 m. 4 hab. 3 baños. Jardín, piscina\n",
      "GA00000051: Adosado urbanizacion. Villalonga, Sanxenxo. 300 m. Vistas mar. Piscina comunitaria\n",
      "GA00000052: Adosado urbanización Las Torres. Sanxenxo. 300 m. Vistas mar. Piscina comunidad. Amueblado\n",
      "GA00000053: Adosado urbanización Las Torres. Sanxenxo. 300 m. Vistas mar. Piscina comunidad. Amueblado\n",
      "GA00000060: Piso céntrico. Estudio. Rúa Real, A Coruña. 120 m. 2 hab. 1 baño. 15001. Primer piso\n",
      "GA00000061: Piso céntrico. Estudio. Rúa Real, A Coruña. 120 m. 2 hab. 1 baño. 15001. Primer piso\n",
      "GA00000062: Piso céntrico. Estudio. Rúa Real, A Coruña. 120 m. 2 hab. 1 baño. 15001. Primer piso\n"
     ]
    }
   ],
   "source": [
    "# Examina la BD\n",
    "for i in range(len(BD)):\n",
    "    print(f'{BD[i][\"expediente\"]}: {BD[i][\"descripcion\"]}')"
   ]
  },
  {
   "cell_type": "code",
   "execution_count": 17,
   "metadata": {},
   "outputs": [
    {
     "name": "stdout",
     "output_type": "stream",
     "text": [
      "Villa de lujo en Vigo. Vistas al mar. 600 m. 4 hab. 3 baños. Jardín, piscina\n"
     ]
    }
   ],
   "source": [
    "import random\n",
    "\n",
    "# Accede a una descripción al azar\n",
    "print(BD[random.randint(0, len(BD) - 1)][\"descripcion\"])"
   ]
  },
  {
   "cell_type": "markdown",
   "metadata": {},
   "source": [
    "## Ej. Foro 04. Implementación propia de la distancia de Levenshtein\n",
    "\n",
    "Se propone implementar un algoritmo propio para calcular la distancia de Levenshtein, para emplear en vez de la librería `Levenshtein`."
   ]
  },
  {
   "cell_type": "code",
   "execution_count": 18,
   "metadata": {},
   "outputs": [],
   "source": [
    "def lev_distance(a: str, b: str) -> int:\n",
    "    \"\"\"\n",
    "    Calcula la distancia de Levenshtein entre dos cadenas.\n",
    "\n",
    "    :param a: Cadena 1.\n",
    "    :param b: Cadena 2.\n",
    "    :return: Distancia de Levenshtein entre `a` y `b`.\n",
    "    \"\"\"\n",
    "    raise NotImplementedError(\"Función no implementada. Propuesta para el Foro 04.\")"
   ]
  },
  {
   "cell_type": "code",
   "execution_count": 19,
   "metadata": {},
   "outputs": [
    {
     "name": "stdout",
     "output_type": "stream",
     "text": [
      "Couldn't find program: 'false'\n"
     ]
    }
   ],
   "source": [
    "%%script false --no-raise-error # Salta la ejecución de la celda hasta implementar `lev_distance` de celda anterior\n",
    "\n",
    "import Levenshtein\n",
    "\n",
    "# Tests para la función `lev_distance`, comparando con el resultado de la librería `Levenshtein`\n",
    "\n",
    "assert lev_distance(\"casa\", \"casa\") == 0, \"Error en test 1.\"\n",
    "assert lev_distance(\"casa\", \"casa grande\") == 7, \"Error en test 2.\"\n",
    "\n",
    "charset = \"ABCDEFGHIJKLMNOPQRSTUVWXYZabcdefghijklmnopqrstuvwxyz \"\n",
    "for i in range(3, 6):  # Varios test con palabras aleatorias\n",
    "    a = \"\".join(random.choices(charset, k=10))\n",
    "    b = \"\".join(random.choices(charset, k=10 * i))\n",
    "    print(f\"Test {i}: `{a}` - `{b}`.\")\n",
    "    assert lev_distance(a, b) == Levenshtein.distance(\n",
    "        a, b), f\"Error en test {i}.\"\n"
   ]
  },
  {
   "cell_type": "markdown",
   "metadata": {},
   "source": [
    "## Ej. 1. Implementar el motor de búsqueda de la compañía\n",
    "\n",
    "- Desarrollar una función en Python que acepte una consulta en lenguaje natural y devuelva los _N_ expedientes más relevantes. Considérese _N=3_, por ejemplo.\n",
    "- La función empleará la distancia de Levenshtein para comparar la consulta con la descripción de cada expediente.\n",
    "- Puede emplearse la librería `Levenshtein` para calcular la distancia de Levenshtein.\n"
   ]
  },
  {
   "cell_type": "code",
   "execution_count": 20,
   "metadata": {},
   "outputs": [],
   "source": [
    "N = 3\n",
    "\n",
    "from Levenshtein import (\n",
    "    distance as lev_distance,  # Comentar si implementación propia Foro 04. Mismo nombre para sobreescribir función\n",
    ")"
   ]
  },
  {
   "cell_type": "code",
   "execution_count": 32,
   "metadata": {},
   "outputs": [
    {
     "name": "stdout",
     "output_type": "stream",
     "text": [
      "34\n",
      "1\n",
      "1\n",
      "7\n"
     ]
    }
   ],
   "source": [
    "# Prueba la función de la librería `thefuzz` para obtener la distancia de Levenshtein\n",
    "print(lev_distance(\"Computación Inteligente y Ética de la IA\", \"Manuel Mateo Delgado-Gambino López\"))\n",
    "print(lev_distance(\"casa\", \"cama\"))\n",
    "print(lev_distance(\"casa\", \"asa\"))\n",
    "print(lev_distance(\"casa\", \"casa grande\"))"
   ]
  },
  {
   "cell_type": "code",
   "execution_count": 30,
   "metadata": {},
   "outputs": [
    {
     "name": "stdout",
     "output_type": "stream",
     "text": [
      "0\n",
      "50\n",
      "69\n"
     ]
    }
   ],
   "source": [
    "# Prueba la función sobre algunas descripciones de la BD\n",
    "print(lev_distance(BD[0][\"descripcion\"], BD[0][\"descripcion\"]))\n",
    "print(lev_distance(BD[0][\"descripcion\"], BD[1][\"descripcion\"]))\n",
    "print(lev_distance(BD[0][\"descripcion\"], BD[2][\"descripcion\"]))"
   ]
  },
  {
   "cell_type": "markdown",
   "metadata": {},
   "source": [
    "### Búsqueda de una métrica relativa\n",
    "\n",
    "La librería `Levenshtein` proporciona la distancia de Levenshtein entre dos cadenas. Sin embargo, típicamente, nos interesa trabajar con una métrica relativa que nos permita comparar similitudes entre cadenas de diferente longitud. De lo contrario, comparaciones entre cadenas de diferente longitud serían siempre desfavorables para la cadena más larga y no tendrían sentido.\n",
    "\n",
    "Podemos emplear un ratio de similitud, que se define como:\n",
    "\n",
    "\\begin{equation}\n",
    "\\text{ratio}_\\text{Levenshtein}(a, b) = 1 - \\frac{\\text{Levenshtein}(a, b)}{\\max(\\text{longitud}(a), \\text{longitud}(b))}\n",
    "\\end{equation}\n",
    "\n",
    "Siendo $a$ y $b$ las cadenas a comparar. El ratio de similitud toma valores entre 0 y 1, donde 1 indica que las cadenas son idénticas y 0 que no tienen caracteres en común."
   ]
  },
  {
   "cell_type": "code",
   "execution_count": 23,
   "metadata": {},
   "outputs": [],
   "source": [
    "def lev_ratio(a: str, b: str) -> float:\n",
    "    return 1 - lev_distance(a, b) / max(len(a), len(b))"
   ]
  },
  {
   "cell_type": "code",
   "execution_count": 31,
   "metadata": {},
   "outputs": [
    {
     "name": "stdout",
     "output_type": "stream",
     "text": [
      "0.15000000000000002\n",
      "0.75\n",
      "0.75\n",
      "0.36363636363636365\n"
     ]
    }
   ],
   "source": [
    "# Volvemos a probar sobre las palabras anteriores, esta vez con la función ratio\n",
    "print(lev_ratio(\"Computación Inteligente y Ëtica de la IA\", \"Manuel Mateo Delgado-Gambino López\"))\n",
    "print(lev_ratio(\"casa\", \"cama\"))\n",
    "print(lev_ratio(\"casa\", \"asa\"))\n",
    "print(lev_ratio(\"casa\", \"casa grande\"))"
   ]
  },
  {
   "cell_type": "code",
   "execution_count": 25,
   "metadata": {},
   "outputs": [
    {
     "name": "stdout",
     "output_type": "stream",
     "text": [
      "0.35064935064935066\n",
      "0.1686746987951807\n"
     ]
    }
   ],
   "source": [
    "# Ídem sobre algunas descripciones de la BD\n",
    "print(lev_ratio(BD[0][\"descripcion\"], BD[1][\"descripcion\"]))\n",
    "print(lev_ratio(BD[0][\"descripcion\"], BD[2][\"descripcion\"]))"
   ]
  },
  {
   "cell_type": "markdown",
   "metadata": {},
   "source": [
    "### Implementación del motor de búsqueda\n",
    "\n",
    "Se propone la siguiente implementación del motor de búsqueda:"
   ]
  },
  {
   "cell_type": "code",
   "execution_count": 26,
   "metadata": {},
   "outputs": [],
   "source": [
    "from typing import Dict, List\n",
    "\n",
    "\n",
    "def motor_busqueda(consulta: str, BD: list = BD, N: int = N) -> List[Dict]:\n",
    "    \"\"\"\n",
    "    Motor de búsqueda que devuelve los `N` elementos más similares a `consulta` en la base de datos `BD`.\n",
    "\n",
    "    :param consulta: Consulta a buscar.\n",
    "    :param BD: Base de datos.\n",
    "    :param N: Número de elementos a devolver.\n",
    "    :return: Lista con los elementos más similares a la consulta. Formato de diccionario con las\n",
    "        claves `expediente`, `descripcion` y `similitud`.\n",
    "    \"\"\"\n",
    "    # Calcula la similitud de la consulta con cada elemento de la BD\n",
    "    similitudes = [lev_ratio(consulta, BD[i][\"descripcion\"]) for i in range(len(BD))]\n",
    "\n",
    "    # Devuelve una lista con las `N` descripciones más similares. Incluye la similitud\n",
    "    return [\n",
    "        {\n",
    "            \"expediente\": BD[i][\"expediente\"],\n",
    "            \"descripcion\": BD[i][\"descripcion\"],\n",
    "            \"similitud\": similitudes[i],\n",
    "        }\n",
    "        # Se ordena la BD de acuerdo a las similitudes\n",
    "        for i in sorted(range(len(BD)), key=lambda i: similitudes[i], reverse=True)[:N]\n",
    "    ]"
   ]
  },
  {
   "cell_type": "markdown",
   "metadata": {},
   "source": [
    "### Prueba del motor de búsqueda\n",
    "\n",
    "Con algunas consultas de ejemplo, se probará el motor de búsqueda."
   ]
  },
  {
   "cell_type": "code",
   "execution_count": 27,
   "metadata": {},
   "outputs": [
    {
     "data": {
      "text/plain": [
       "[{'expediente': 'GA00000010',\n",
       "  'descripcion': 'Casa chalet adosado. Virrey Osorio, Ciudad Jardín, A Coruña. 350 m. 15008',\n",
       "  'similitud': 0.4657534246575342},\n",
       " {'expediente': 'GA00000020',\n",
       "  'descripcion': 'Chalet independiente. Ciudad Jardín, A Coruña. 450 m. 5 hab. 4 baños. Piscina',\n",
       "  'similitud': 0.35064935064935066},\n",
       " {'expediente': 'GA00000051',\n",
       "  'descripcion': 'Adosado urbanizacion. Villalonga, Sanxenxo. 300 m. Vistas mar. Piscina comunitaria',\n",
       "  'similitud': 0.24390243902439024}]"
      ]
     },
     "execution_count": 27,
     "metadata": {},
     "output_type": "execute_result"
    }
   ],
   "source": [
    "consulta = \"chalet adosado en ciudad jardín coruña\"\n",
    "motor_busqueda(consulta)"
   ]
  },
  {
   "cell_type": "code",
   "execution_count": 28,
   "metadata": {},
   "outputs": [
    {
     "data": {
      "text/plain": [
       "[{'expediente': 'GA00000040',\n",
       "  'descripcion': 'Villa de lujo en Vigo. Vistas al mar. 600 m. 4 hab. 3 baños. Jardín, piscina',\n",
       "  'similitud': 0.21052631578947367},\n",
       " {'expediente': 'GA00000052',\n",
       "  'descripcion': 'Adosado urbanización Las Torres. Sanxenxo. 300 m. Vistas mar. Piscina comunidad. Amueblado',\n",
       "  'similitud': 0.19999999999999996},\n",
       " {'expediente': 'GA00000053',\n",
       "  'descripcion': 'Adosado urbanización Las Torres. Sanxenxo. 300 m. Vistas mar. Piscina comunidad. Amueblado',\n",
       "  'similitud': 0.19999999999999996}]"
      ]
     },
     "execution_count": 28,
     "metadata": {},
     "output_type": "execute_result"
    }
   ],
   "source": [
    "consulta = \"vistas mar piscina chalet independiente\"\n",
    "motor_busqueda(consulta)"
   ]
  },
  {
   "cell_type": "code",
   "execution_count": 29,
   "metadata": {},
   "outputs": [
    {
     "data": {
      "text/plain": [
       "[{'expediente': 'GA00000060',\n",
       "  'descripcion': 'Piso céntrico. Estudio. Rúa Real, A Coruña. 120 m. 2 hab. 1 baño. 15001. Primer piso',\n",
       "  'similitud': 0.27380952380952384},\n",
       " {'expediente': 'GA00000061',\n",
       "  'descripcion': 'Piso céntrico. Estudio. Rúa Real, A Coruña. 120 m. 2 hab. 1 baño. 15001. Primer piso',\n",
       "  'similitud': 0.27380952380952384},\n",
       " {'expediente': 'GA00000062',\n",
       "  'descripcion': 'Piso céntrico. Estudio. Rúa Real, A Coruña. 120 m. 2 hab. 1 baño. 15001. Primer piso',\n",
       "  'similitud': 0.27380952380952384}]"
      ]
     },
     "execution_count": 29,
     "metadata": {},
     "output_type": "execute_result"
    }
   ],
   "source": [
    "consulta = \"piso estudio centro coruña calle real\"\n",
    "motor_busqueda(consulta)"
   ]
  }
 ],
 "metadata": {
  "kernelspec": {
   "display_name": "uie-cieia-laboratorio-jAuB2EJ2-py3.11",
   "language": "python",
   "name": "python3"
  },
  "language_info": {
   "codemirror_mode": {
    "name": "ipython",
    "version": 3
   },
   "file_extension": ".py",
   "mimetype": "text/x-python",
   "name": "python",
   "nbconvert_exporter": "python",
   "pygments_lexer": "ipython3",
   "version": "3.11.6"
  }
 },
 "nbformat": 4,
 "nbformat_minor": 2
}
