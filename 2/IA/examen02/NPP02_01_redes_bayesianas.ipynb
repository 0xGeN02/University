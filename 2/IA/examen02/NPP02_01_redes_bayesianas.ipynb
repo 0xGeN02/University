{
 "cells": [
  {
   "cell_type": "markdown",
   "metadata": {},
   "source": [
    "# N01. Redes Bayesianas\n",
    "\n",
    "__Manuel Mateo Delgado, Computación Inteligente y Ética de la IA. Curso 2024__\n"
   ]
  },
  {
   "cell_type": "markdown",
   "metadata": {},
   "source": [
    "## Preámbulo\n",
    "\n",
    "En este _notebook_ se afrontará un ejemplo sencillo de una red bayesiana. Se trata de un caso de estudio en el que se pretende modelar la probabilidad de que un paciente tenga una enfermedad en función de los síntomas que presenta.\n",
    "\n",
    "Las redes bayesianas son un tipo de modelo gráfico probabilístico que permite representar de forma compacta y eficiente las relaciones de dependencia entre variables aleatorias. En este caso, se pretende modelar la probabilidad de que un paciente tenga una enfermedad en función de los síntomas que presenta. La enfermedad y los síntomas son variables aleatorias, y la red bayesiana permite representar las relaciones de dependencia entre ellas.\n",
    "\n",
    "### Formulación del problema\n",
    "\n",
    "> A patient has been suffering from shortness of breath (called dyspnoea) and visits the doctor, worried that he has lung cancer. The doctor knows that other diseases, such as tuberculosis and bronchitis, are possible causes, as well as lung cancer. She also knows that other relevant information includes whether or not the patient is a smoker (increasing the chances of cancer and bronchitis) and what sort of air pollution he has been exposed to. A positive X-ray would indicate either TB or lung cancer. [Korb, K. B., & Nicholson, A. E. (2023). Bayesian Artificial Intelligence. CRC Press]\n",
    "\n",
    "Así pues, tenemos las siguientes variables aleatorias:\n",
    "\n",
    "- `C`: cáncer de pulmón.\n",
    "- `D`: disnea (dificultad para respirar), síntoma común a varias enfermedades.\n",
    "- `F`: paciente fumador.\n",
    "- `P`: exposición a la contaminación del aire (polución).\n",
    "- `X`: radiografía positiva (indica tuberculosis o cáncer de pulmón).\n",
    "- `B`: prueba de biopsia\n",
    "\n",
    "La red bayesiana que modela estas relaciones es la siguiente, según el razonamiento del experto médico:\n"
   ]
  },
  {
   "cell_type": "code",
   "execution_count": 53,
   "metadata": {},
   "outputs": [
    {
     "data": {
      "image/png": "[encoded data removed]",
      "text/plain": [
       "<Figure size 640x480 with 1 Axes>"
      ]
     },
     "metadata": {},
     "output_type": "display_data"
    }
   ],
   "source": [
    "# Representación de la red bayesiana como grafo con la librería NetworkX\n",
    "\n",
    "import networkx as nx\n",
    "\n",
    "dag_red = nx.DiGraph(\n",
    "    nodos_red := [\n",
    "        (\"P\", \"C\"),\n",
    "        (\"F\", \"C\"),\n",
    "        (\"C\", \"X\"),\n",
    "        (\"C\", \"D\"),\n",
    "        (\"C\", \"B\"),\n",
    "    ]\n",
    ")\n",
    "\n",
    "# Dibujar el grafo. Primera fila, `P` y `F`; segunda fila, `E`; tercera fila, `X` y `D`\n",
    "nx.draw(\n",
    "    dag_red,\n",
    "    with_labels=True,\n",
    "    node_color=\"lightgray\",\n",
    "    node_size=4000,\n",
    "    font_size=13,\n",
    "    font_color=\"black\",\n",
    "    font_weight=\"bold\",\n",
    "    pos={\"X\": (0, 0), \"D\": (1, 0), \"C\": (0.5, 0.5), \"P\": (0, 1.5), \"F\": (1, 1.5), \"B\": (0.5, -1)},\n",
    ")"
   ]
  },
  {
   "cell_type": "markdown",
   "metadata": {},
   "source": [
    "Los posibles valores de los nodos son:\n",
    "\n",
    "| Nodo | Valores    |\n",
    "|------|------------|\n",
    "|  C   | no, sí     |\n",
    "|  D   | no, sí     |\n",
    "|  F   | no, sí     |\n",
    "|  P   | baja, alta |\n",
    "|  X   | no, sí     |\n",
    "|  B   | no, sí |\n",
    "\n",
    "Se sabe lo siguiente sobre las relaciones de probabilidad condicionada entre las variables:\n",
    "\n",
    "- La probabilidad de haber estado expuesto a una alta contaminación del aire es del 10 %.\n",
    "- La probabilidad de haber estado expuesto a una baja contaminación del aire es del 90 %.\n",
    "- La probabilidad de que un paciente sea fumador es del 30 %.\n",
    "- La probabilidad de que un paciente no sea fumador es del 70 %.\n",
    "- La probabilidad de que una prueba de rayos X sea positiva si el paciente tiene cáncer de pulmón es del 90 %.\n",
    "- La probabilidad de que una prueba de rayos X sea negativa si el paciente tiene cáncer de pulmón es del 20 %.\n",
    "- La probabilidad de que un paciente padezca disnea si tiene cáncer de pulmón es del 65 %.\n",
    "- La probabilidad de que un paciente no padezca disnea si tiene cáncer de pulmón es del 30 %.\n",
    "- La probabilidad de que un paciente tenga cáncer de pulmón si es fumador y ha estado expuesto a una alta contaminación del aire es del 5 %.\n",
    "- La probabilidad de que un paciente tenga cáncer de pulmón si es fumador y ha estado expuesto a una baja contaminación del aire es del 3 %.\n",
    "- La probabilidad de que un paciente tenga cáncer de pulmón si no es fumador y ha estado expuesto a una alta contaminación del aire es del 2 %.\n",
    "- La probabilidad de que un paciente tenga cáncer de pulmón si no es fumador y ha estado expuesto a una baja contaminación del aire es del 0,1 %.\n",
    "- La probabilidad de que una prueba de biopsia sea positiva si el paciente tiene cáncer de pulmón es del 98 %.\n",
    "- La probabilidad de que una prueba de biopsia sea negativa si el paciente tiene cáncer de pulmón es del 5 %.\n"
   ]
  },
  {
   "cell_type": "markdown",
   "metadata": {},
   "source": [
    "## Ej. 1. Modelado de la red bayesiana\n",
    "\n",
    "Se pide modelar la red bayesiana en Python, utilizando la librería `pgmpy`.\n",
    "\n",
    "`pgmpy` es una librería de Python para modelado y aprendizaje de redes bayesianas. Permite la creación de redes bayesianas, la inferencia y el aprendizaje de parámetros. Es una librería avanzada, que en este _notebook_ sólo se utilizará someramente para este sencillo ejemplo."
   ]
  },
  {
   "cell_type": "code",
   "execution_count": 54,
   "metadata": {},
   "outputs": [],
   "source": [
    "import pgmpy.models as pgm"
   ]
  },
  {
   "cell_type": "markdown",
   "metadata": {},
   "source": [
    "### Nodos"
   ]
  },
  {
   "cell_type": "code",
   "execution_count": 55,
   "metadata": {},
   "outputs": [
    {
     "name": "stdout",
     "output_type": "stream",
     "text": [
      "['P', 'C', 'F', 'X', 'D', 'B']\n"
     ]
    }
   ],
   "source": [
    "# Se añaden los mismos nodos que en el grafo superior\n",
    "red = pgm.BayesianNetwork(nodos_red)\n",
    "\n",
    "print(red.nodes())"
   ]
  },
  {
   "cell_type": "markdown",
   "metadata": {},
   "source": [
    "### DPC (distribución de probabilidad condicionada)\n",
    "\n",
    "Las variables aleatorias de la red bayesiana se relacionan mediante la distribución de probabilidad condicionada (DPC). La DPC de una variable aleatoria es la probabilidad de que tome un valor dado el valor de sus padres en la red bayesiana. En inglés, la DPC se llama _conditional probability distribution_ (CPD)."
   ]
  },
  {
   "cell_type": "code",
   "execution_count": 56,
   "metadata": {},
   "outputs": [
    {
     "name": "stdout",
     "output_type": "stream",
     "text": [
      "+---------+-----+\n",
      "| P(baja) | 0.9 |\n",
      "+---------+-----+\n",
      "| P(alta) | 0.1 |\n",
      "+---------+-----+\n",
      "+-------+-----+\n",
      "| F(sí) | 0.3 |\n",
      "+-------+-----+\n",
      "| F(no) | 0.7 |\n",
      "+-------+-----+\n"
     ]
    }
   ],
   "source": [
    "# Hay definir la DPC de cada nodo\n",
    "import pgmpy.factors.discrete as pgmf\n",
    "\n",
    "dpc_p = pgmf.TabularCPD(\n",
    "    variable=\"P\",\n",
    "    variable_card=2,  # Número de valores posibles que puede tomar una variable en la red bayesiana\n",
    "    values=[\n",
    "        [0.9],\n",
    "        [0.1],\n",
    "    ],  # Probabilidad de que la variable `P` tome el valor `baja` o `alta`\n",
    "    state_names={\"P\": [\"baja\", \"alta\"]},\n",
    ")\n",
    "print(dpc_p)\n",
    "\n",
    "dpc_f = pgmf.TabularCPD(\n",
    "    variable=\"F\",\n",
    "    variable_card=2,\n",
    "    values=[[0.3], [0.7]],\n",
    "    state_names={\"F\": [\"sí\", \"no\"]},\n",
    ")\n",
    "print(dpc_f)"
   ]
  },
  {
   "cell_type": "code",
   "execution_count": 57,
   "metadata": {},
   "outputs": [],
   "source": [
    "from typing import List\n",
    "\n",
    "\n",
    "def prob_complementaria(probs: List[float]):\n",
    "    \"\"\"\n",
    "    Funciión auxiliar que, dado una lista de probabilidades, devuelve el complemento de cada una de ellas.\n",
    "    \"\"\"\n",
    "    # return [1 - prob for prob in probs] # Compresión de lista equivalente a la siguiente forma\n",
    "\n",
    "    probs_comp = []\n",
    "    for prob in probs:\n",
    "        probs_comp.append(1 - prob)\n",
    "\n",
    "    return probs_comp"
   ]
  },
  {
   "cell_type": "code",
   "execution_count": 58,
   "metadata": {},
   "outputs": [
    {
     "name": "stdout",
     "output_type": "stream",
     "text": [
      "+-------+---------+---------+---------+---------+\n",
      "| P     | P(baja) | P(baja) | P(alta) | P(alta) |\n",
      "+-------+---------+---------+---------+---------+\n",
      "| F     | F(sí)   | F(no)   | F(sí)   | F(no)   |\n",
      "+-------+---------+---------+---------+---------+\n",
      "| C(sí) | 0.03    | 0.001   | 0.05    | 0.02    |\n",
      "+-------+---------+---------+---------+---------+\n",
      "| C(no) | 0.97    | 0.999   | 0.95    | 0.98    |\n",
      "+-------+---------+---------+---------+---------+\n",
      "+-------+---------------------+-------+\n",
      "| C     | C(sí)               | C(no) |\n",
      "+-------+---------------------+-------+\n",
      "| X(sí) | 0.9                 | 0.2   |\n",
      "+-------+---------------------+-------+\n",
      "| X(no) | 0.09999999999999998 | 0.8   |\n",
      "+-------+---------------------+-------+\n",
      "+-------+-------+-------+\n",
      "| C     | C(sí) | C(no) |\n",
      "+-------+-------+-------+\n",
      "| D(sí) | 0.65  | 0.3   |\n",
      "+-------+-------+-------+\n",
      "| D(no) | 0.35  | 0.7   |\n",
      "+-------+-------+-------+\n",
      "+-------+----------------------+-------+\n",
      "| C     | C(sí)                | C(no) |\n",
      "+-------+----------------------+-------+\n",
      "| B(sí) | 0.98                 | 0.05  |\n",
      "+-------+----------------------+-------+\n",
      "| B(no) | 0.020000000000000018 | 0.95  |\n",
      "+-------+----------------------+-------+\n"
     ]
    }
   ],
   "source": [
    "dpc_c = pgmf.TabularCPD(\n",
    "    variable=\"C\",\n",
    "    variable_card=2,\n",
    "    values=[probs := [0.03, 0.001, 0.05, 0.02], prob_complementaria(probs)],\n",
    "    evidence=[\"P\", \"F\"],  # Variables que influyen en la variable `C`\n",
    "    evidence_card=[2, 2],\n",
    "    state_names={\"C\": [\"sí\", \"no\"], \"P\": [\"baja\", \"alta\"], \"F\": [\"sí\", \"no\"]},\n",
    ")\n",
    "print(dpc_c)\n",
    "\n",
    "dpc_x = pgmf.TabularCPD(\n",
    "    variable=\"X\",\n",
    "    variable_card=2,\n",
    "    values=[probs := [0.9, 0.2], prob_complementaria(probs)],\n",
    "    evidence=[\"C\"],\n",
    "    evidence_card=[2],\n",
    "    state_names={\"X\": [\"sí\", \"no\"], \"C\": [\"sí\", \"no\"]},\n",
    ")\n",
    "print(dpc_x)\n",
    "\n",
    "dpc_d = pgmf.TabularCPD(\n",
    "    variable=\"D\",\n",
    "    variable_card=2,\n",
    "    values=[probs := [0.65, 0.3], prob_complementaria(probs)],\n",
    "    evidence=[\"C\"],\n",
    "    evidence_card=[2],\n",
    "    state_names={\"D\": [\"sí\", \"no\"], \"C\": [\"sí\", \"no\"]},\n",
    ")\n",
    "print(dpc_d)\n",
    "\n",
    "dcp_b = pgmf.TabularCPD(\n",
    "    variable=\"B\",\n",
    "    variable_card=2,\n",
    "    values=[probs := [0.98, 0.05], prob_complementaria(probs)],\n",
    "    evidence=[\"C\"],\n",
    "    evidence_card=[2],\n",
    "    state_names={\"B\": [\"sí\", \"no\"], \"C\": [\"sí\", \"no\"]},\n",
    ")\n",
    "print(dcp_b)"
   ]
  },
  {
   "cell_type": "markdown",
   "metadata": {},
   "source": [
    "### Creación del modelo\n",
    "\n",
    "Una vez creados los nodos y las DPC, se ensamblan en un modelo de red bayesiana."
   ]
  },
  {
   "cell_type": "code",
   "execution_count": 59,
   "metadata": {},
   "outputs": [],
   "source": [
    "# Asignar las probabilidades condicionales al modelo\n",
    "red.add_cpds(dpc_p, dpc_f, dpc_c, dpc_x, dpc_d, dcp_b)\n",
    "\n",
    "# Verificar si el modelo es válido\n",
    "assert red.check_model()"
   ]
  },
  {
   "cell_type": "markdown",
   "metadata": {},
   "source": [
    "## Ej. 2. Inferencia en la red bayesiana\n",
    "\n",
    "Una vez creada la red bayesiana, se puede emplear para hacer inferencias. Por ejemplo, se puede preguntar por la probabilidad de que un paciente tenga cáncer de pulmón dado que es fumador y ha estado expuesto a una alta contaminación del aire, o cualquier otra combinación dada."
   ]
  },
  {
   "cell_type": "code",
   "execution_count": 60,
   "metadata": {},
   "outputs": [],
   "source": [
    "from pgmpy.inference import (  # Algoritmo de eliminación de variables, para hacer inferencia en la red bayesiana. No aplica el detalle a este respecto\n",
    "    VariableElimination,\n",
    ")"
   ]
  },
  {
   "cell_type": "code",
   "execution_count": 61,
   "metadata": {},
   "outputs": [],
   "source": [
    "# Crear un objeto motor de inferencia\n",
    "infer = VariableElimination(red)"
   ]
  },
  {
   "cell_type": "code",
   "execution_count": 62,
   "metadata": {},
   "outputs": [
    {
     "name": "stdout",
     "output_type": "stream",
     "text": [
      "+-------+----------+\n",
      "| C     |   phi(C) |\n",
      "+=======+==========+\n",
      "| C(sí) |   0.0249 |\n",
      "+-------+----------+\n",
      "| C(no) |   0.9751 |\n",
      "+-------+----------+\n"
     ]
    }
   ],
   "source": [
    "# Calcular la probabilidad de que un paciente tenga cáncer si sólo se conoce que padece disnea\n",
    "res = infer.query(variables=[\"C\"], evidence={\"D\": \"sí\"})\n",
    "print(res)"
   ]
  },
  {
   "cell_type": "code",
   "execution_count": 63,
   "metadata": {},
   "outputs": [
    {
     "name": "stdout",
     "output_type": "stream",
     "text": [
      "+-------+----------+\n",
      "| C     |   phi(C) |\n",
      "+=======+==========+\n",
      "| C(sí) |   0.0320 |\n",
      "+-------+----------+\n",
      "| C(no) |   0.9680 |\n",
      "+-------+----------+\n"
     ]
    }
   ],
   "source": [
    "# Calcular la probabilidad de que un paciente fumador tenga cáncer\n",
    "res = infer.query(variables=[\"C\"], evidence={\"F\": \"sí\"})\n",
    "print(res)"
   ]
  },
  {
   "cell_type": "code",
   "execution_count": 64,
   "metadata": {},
   "outputs": [
    {
     "name": "stdout",
     "output_type": "stream",
     "text": [
      "+-------+----------+\n",
      "| C     |   phi(C) |\n",
      "+=======+==========+\n",
      "| C(sí) |   0.0300 |\n",
      "+-------+----------+\n",
      "| C(no) |   0.9700 |\n",
      "+-------+----------+\n"
     ]
    }
   ],
   "source": [
    "# Calcular la probabilidad de que un paciente fumador tenga cáncer, habiendo estado expuesto a una baja contaminación del aire\n",
    "res = infer.query(variables=[\"C\"], evidence={\"F\": \"sí\", \"P\": \"baja\"})\n",
    "print(res)"
   ]
  },
  {
   "cell_type": "code",
   "execution_count": 65,
   "metadata": {},
   "outputs": [
    {
     "name": "stdout",
     "output_type": "stream",
     "text": [
      "+-------+----------+\n",
      "| C     |   phi(C) |\n",
      "+=======+==========+\n",
      "| C(sí) |   0.0010 |\n",
      "+-------+----------+\n",
      "| C(no) |   0.9990 |\n",
      "+-------+----------+\n"
     ]
    }
   ],
   "source": [
    "# Calcular la probabilidad de que un paciente no fumador tenga cáncer, habiendo estado expuesto a una baja contaminación del aire\n",
    "res = infer.query(variables=[\"C\"], evidence={\"F\": \"no\", \"P\": \"baja\"})\n",
    "print(res)"
   ]
  },
  {
   "cell_type": "code",
   "execution_count": 66,
   "metadata": {},
   "outputs": [
    {
     "name": "stdout",
     "output_type": "stream",
     "text": [
      "+-------+----------+\n",
      "| C     |   phi(C) |\n",
      "+=======+==========+\n",
      "| C(sí) |   0.1915 |\n",
      "+-------+----------+\n",
      "| C(no) |   0.8085 |\n",
      "+-------+----------+\n"
     ]
    }
   ],
   "source": [
    "# Calcular la probabilidad de que un paciente fumador tenga cáncer, habiendo estado expuesto a una alta contaminación del aire, y habiendo dado positivo en la prueba de rayos X\n",
    "res = infer.query(variables=[\"C\"], evidence={\"F\": \"sí\", \"P\": \"alta\", \"X\": \"sí\"})\n",
    "print(res)"
   ]
  },
  {
   "cell_type": "code",
   "execution_count": 67,
   "metadata": {},
   "outputs": [
    {
     "name": "stdout",
     "output_type": "stream",
     "text": [
      "+-------+----------+\n",
      "| C     |   phi(C) |\n",
      "+=======+==========+\n",
      "| C(sí) |   0.3391 |\n",
      "+-------+----------+\n",
      "| C(no) |   0.6609 |\n",
      "+-------+----------+\n"
     ]
    }
   ],
   "source": [
    "# Ídem que el caso anterior, pero el paciente también padece de disnea\n",
    "res = infer.query(variables=[\"C\"], evidence={\"F\": \"sí\", \"P\": \"alta\", \"X\": \"sí\", \"D\": \"sí\"})\n",
    "print(res)"
   ]
  },
  {
   "cell_type": "code",
   "execution_count": 68,
   "metadata": {},
   "outputs": [
    {
     "name": "stdout",
     "output_type": "stream",
     "text": [
      "+-------+----------+\n",
      "| C     |   phi(C) |\n",
      "+=======+==========+\n",
      "| C(sí) |   0.3932 |\n",
      "+-------+----------+\n",
      "| C(no) |   0.6068 |\n",
      "+-------+----------+\n"
     ]
    }
   ],
   "source": [
    "# Paciente fumador que da positivo en la preuba de biopsia\n",
    "res = infer.query(variables=[\"C\"], evidence={\"F\": \"sí\", \"B\": \"sí\"})\n",
    "print(res)"
   ]
  }
 ],
 "metadata": {
  "kernelspec": {
   "display_name": "uie-cieia",
   "language": "python",
   "name": "python3"
  },
  "language_info": {
   "codemirror_mode": {
    "name": "ipython",
    "version": 3
   },
   "file_extension": ".py",
   "mimetype": "text/x-python",
   "name": "python",
   "nbconvert_exporter": "python",
   "pygments_lexer": "ipython3",
   "version": "3.11.6"
  }
 },
 "nbformat": 4,
 "nbformat_minor": 2
}
