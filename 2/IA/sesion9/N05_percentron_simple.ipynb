{
 "cells": [
  {
   "cell_type": "markdown",
   "metadata": {},
   "source": [
    "# N05. Perceptrón Simple\n",
    "\n",
    "__Borja González Seoane, Computación Inteligente y Ética de la IA. Curso 2022-23__"
   ]
  },
  {
   "cell_type": "markdown",
   "metadata": {},
   "source": [
    "## Preámbulo\n",
    "\n",
    "El perceptron simple es un modelo de red neuronal de una sola capa. Ha sido uno de los primeros modelos de red neuronal, utilizado para problemas de clasificación binaria. La función de activación es una función escalón, que toma valores de 0 o 1. El perceptron simple es un modelo lineal, lo que significa que solo puede resolver problemas linealmente separables.\n",
    "\n",
    "En esta práctica se implementará un perceptrón simple basándose en un diseño orientado a objetos. El perceptron simple se utilizará _a porteriori_ para resolver un problema de clasificación binaria sencillo. El perceptrón debe implementar la regla de aprendizaje de Rosenblatt embebida en un método para entrenar el modelo (`fit`). El método de entrenamiento debe tomar como argumentos un conjunto de ejemplos de entrenamiento y un conjunto de etiquetas (salidas deseadas). El método de entrenamiento debe actualizar los pesos del perceptrón de acuerdo con la regla de aprendizaje, iterando sobre el conjunto de datos de entrenamiento hasta que el perceptrón haya convergido o hasta que se alcance un número máximo de iteraciones, que se debe especificar como un parámetro del método de entrenamiento.\n",
    "\n",
    "Instalación:\n",
    "\n",
    "```sh\n",
    "pip install numpy # Probablemente necesaria para los objetivos de la práctica\n",
    "```\n",
    "\n",
    "Recordatorio: las librerías necesarias pueden ser instaladas desde el propio _notebook_ mediante un comando _magic_ de Jupyter. Descomentar la siguiente línea y ejecutar:"
   ]
  },
  {
   "cell_type": "code",
   "execution_count": 1,
   "metadata": {},
   "outputs": [],
   "source": [
    "# %pip install numpy"
   ]
  },
  {
   "cell_type": "code",
   "execution_count": 2,
   "metadata": {},
   "outputs": [],
   "source": [
    "import numpy as np"
   ]
  },
  {
   "cell_type": "markdown",
   "metadata": {},
   "source": [
    "## Firma de implementación\n",
    "\n",
    "```py\n",
    "class PerceptronSimple:\n",
    "    def __init__(self, n_entradas, tasa_aprendizaje=0.01):\n",
    "        ...\n",
    "\n",
    "    def fit(self, X, y, n_iteraciones=100):\n",
    "        ...\n",
    "\n",
    "    def predict(self, X):\n",
    "        ...\n",
    "```"
   ]
  },
  {
   "cell_type": "markdown",
   "metadata": {},
   "source": [
    "------------\n",
    "_Implemente la clase `PerceptronSimple` aquí..._"
   ]
  },
  {
   "cell_type": "code",
   "execution_count": 3,
   "metadata": {},
   "outputs": [],
   "source": [
    "class PerceptronSimple:\n",
    "    def __init__(self, n_entradas, tasa_aprendizaje=0.01):\n",
    "        self.n_entradas = n_entradas\n",
    "        self.tasa_aprendizaje = tasa_aprendizaje\n",
    "        self.pesos = np.zeros(n_entradas + 1) # +1 Es el umbral\n",
    "        self.umbral = np.random.rand()\n",
    "    def fit(self, X, y, n_iteraciones=100):\n",
    "        for _ in range(n_iteraciones):\n",
    "            for xi, yi in zip(X, y):\n",
    "                yi_pred = self.predict(xi)\n",
    "                error = yi - yi_pred\n",
    "                self.pesos[1:] += self.tasa_aprendizaje * error * xi\n",
    "                self.pesos[0] += self.tasa_aprendizaje * error\n",
    "    def predict(self, X):\n",
    "        suma = np.dot(X, self.pesos[1:]) + self.pesos[0]\n",
    "        return 1 if suma > 0 else 0"
   ]
  },
  {
   "cell_type": "markdown",
   "metadata": {},
   "source": [
    "----------"
   ]
  },
  {
   "cell_type": "code",
   "execution_count": 5,
   "metadata": {},
   "outputs": [
    {
     "name": "stdout",
     "output_type": "stream",
     "text": [
      "Predicciones:\n",
      "Entrada: [0 0], Salida esperada: 0, Predicción: 0\n",
      "Entrada: [0 1], Salida esperada: 0, Predicción: 0\n",
      "Entrada: [1 0], Salida esperada: 0, Predicción: 0\n",
      "Entrada: [1 1], Salida esperada: 1, Predicción: 1\n"
     ]
    }
   ],
   "source": [
    "# Datos de entrenamiento (AND)\n",
    "X_train = np.array(\n",
    "    [[0, 0], [0, 1], [1, 0], [1, 1]]\n",
    ")  # Típicamente notamos a las entradas como `X`\n",
    "y_train = np.array([0, 0, 0, 1])  # Típicamente notamos a las salidas como `y`\n",
    "\n",
    "# Crear un perceptrón con 2 entradas (para los dos bits de entrada de AND)\n",
    "perceptron = PerceptronSimple(n_entradas=2)\n",
    "\n",
    "# Entrenar el perceptrón\n",
    "perceptron.fit(X_train, y_train)\n",
    "\n",
    "# Hacer predicciones\n",
    "print(\"Predicciones:\")\n",
    "for entrada, salida_esperada in zip(X_train, y_train):\n",
    "    prediccion = perceptron.predict(entrada)\n",
    "    print(\n",
    "        f\"Entrada: {entrada}, Salida esperada: {salida_esperada}, Predicción: {prediccion}\"\n",
    "    )"
   ]
  },
  {
   "cell_type": "markdown",
   "metadata": {},
   "source": [
    "## Ejercicios\n",
    "\n",
    "1. Añada una nueva prueba para que el perceptrón aprenda la función OR de tres entradas.\n",
    "2. Haga pruebas variando la tasa de aprendizaje y el número de iteraciones del entrenamiento.\n",
    "3. Añada a la clase `PerceptronSimple` un método para evaluar la precisión del modelo, con la siguiente especificación:\n",
    "\n",
    "```py\n",
    "def score(self, X, y):\n",
    "    ...\n",
    "```\n",
    "\n",
    "La función debe devolver el ratio de aciertos del modelo en el conjunto de datos `X` con salidas esperadas `y`. Rango de valores: [0, 1]. Deberá llamar a la función `predict` para hacer las predicciones.\n",
    "\n",
    "4. Emplee la función `score` para evaluar los experimentos que haya completado al respecto de OR."
   ]
  },
  {
   "cell_type": "markdown",
   "metadata": {},
   "source": [
    "------------\n",
    "_Resuelva los ejercicios propuestos en celdas a partir de aquí..._"
   ]
  },
  {
   "cell_type": "code",
   "execution_count": null,
   "metadata": {},
   "outputs": [],
   "source": [
    "# Perceptrón OR de tres entradas\n",
    "class PerceptronSimpleOR:\n",
    "    def __init__(self, n_entradas, tasa_aprendizaje=0.01):\n",
    "        self.n_entradas = n_entradas\n",
    "        self.tasa_aprendizaje = tasa_aprendizaje\n",
    "        self.pesos = np.zeros(n_entradas + 1) # +1 Es el umbral\n",
    "        self.umbral = np.random.rand()\n",
    "    def fit(self, X, y, n_iteraciones=100):\n",
    "        for _ in range(n_iteraciones):\n",
    "            for xi, yi in zip(X,y):\n",
    "               y_pred = self.predict(xi)\n",
    "               error = yi - y_pred\n",
    "               self.pesos[1:] = self.tasa_aprendizaje * error * xi\n",
    "               self.pesos[0] = self.tasa_aprendizaje * xi\n",
    "    def predict(self, X):\n",
    "        suma = np.logical_or        \n",
    "\n",
    "        "
   ]
  }
 ],
 "metadata": {
  "kernelspec": {
   "display_name": "uie-cieia-laboratorio-jAuB2EJ2-py3.11",
   "language": "python",
   "name": "python3"
  },
  "language_info": {
   "codemirror_mode": {
    "name": "ipython",
    "version": 3
   },
   "file_extension": ".py",
   "mimetype": "text/x-python",
   "name": "python",
   "nbconvert_exporter": "python",
   "pygments_lexer": "ipython3",
   "version": "3.11.6"
  }
 },
 "nbformat": 4,
 "nbformat_minor": 2
}
