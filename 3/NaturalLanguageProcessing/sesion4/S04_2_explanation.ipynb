{
 "cells": [
  {
   "cell_type": "markdown",
   "metadata": {},
   "source": [
    "# Tokenization\n",
    "\n",
    "- With custom regexp and NLTK. \n",
    "- With default NLTK tokenizer.\n"
   ]
  },
  {
   "cell_type": "code",
   "execution_count": 2,
   "metadata": {},
   "outputs": [
    {
     "name": "stdout",
     "output_type": "stream",
     "text": [
      "['Dr', '.', \"O'Connor's\", 'Tesla', 'Model', 'Y', 'costs', '$49,999.99', 'Meanwhile', ',', 'U.K.', 'inflation', 'hits', '5.4%', 'in', 'Jan', '.']\n"
     ]
    }
   ],
   "source": [
    "import nltk\n",
    "import re\n",
    "from nltk.tokenize import regexp_tokenize\n",
    "\n",
    "# Sample realistic text from a news headline\n",
    "text = \"Dr. O'Connor's Tesla Model Y costs $49,999.99! Meanwhile, U.K. inflation hits 5.4% in Jan.\"\n",
    "\n",
    "# Define a verbose regex pattern for complex tokenization\n",
    "pattern = r'''(?x)   # Enable verbose mode\n",
    "    (?:[A-Z]\\.)+            # Abbreviations like U.S.A., U.K.\n",
    "  | \\$?\\d+(?:,\\d{3})*(?:\\.\\d+)?%?  # Currency and percentages ($49,999.99, 5.4%)\n",
    "  | \\w+(?:[-']\\w+)*         # Words with optional hyphens/apostrophes (O'Connor, Model-Y)\n",
    "  | \\.\\.\\.                 # Ellipsis (...)\n",
    "  | [][.,;\"’?():_‘-]       # Separate punctuation tokens\n",
    "'''\n",
    "\n",
    "# Tokenize the text\n",
    "tokens = regexp_tokenize(text, pattern)\n",
    "\n",
    "# Print the tokenized output\n",
    "print(tokens)\n"
   ]
  },
  {
   "cell_type": "code",
   "execution_count": null,
   "metadata": {},
   "outputs": [
    {
     "name": "stderr",
     "output_type": "stream",
     "text": [
      "[nltk_data] Downloading package punkt to /home/xgen0/nltk_data...\n",
      "[nltk_data]   Unzipping tokenizers/punkt.zip.\n",
      "[nltk_data] Downloading package punkt_tab to /home/xgen0/nltk_data...\n"
     ]
    },
    {
     "name": "stdout",
     "output_type": "stream",
     "text": [
      "['Dr.', \"O'Connor\", \"'s\", 'Tesla', 'Model', 'Y', 'costs', '$', '49,999.99', '!', 'Meanwhile', ',', 'U.K.', 'inflation', 'hits', '5.4', '%', 'in', 'Jan', '.']\n"
     ]
    },
    {
     "name": "stderr",
     "output_type": "stream",
     "text": [
      "[nltk_data]   Unzipping tokenizers/punkt_tab.zip.\n"
     ]
    }
   ],
   "source": [
    "\n",
    "# Download the 'punkt' and 'punkt_tab' resources needed for tokenization\n",
    "#nltk.download('punkt')\n",
    "#nltk.download('punkt_tab')\n",
    "\n",
    "tokens = nltk.word_tokenize(text)\n",
    "print(tokens)\n"
   ]
  },
  {
   "cell_type": "markdown",
   "metadata": {},
   "source": [
    "# BPE subword tokenization\n",
    "\n",
    "Example using sentencepiece"
   ]
  },
  {
   "cell_type": "code",
   "execution_count": 5,
   "metadata": {},
   "outputs": [
    {
     "name": "stdout",
     "output_type": "stream",
     "text": [
      "BPE Tokens: ['▁', 'S', 'he', '▁', 'd', 'r', 'iv', 'e', 's', '▁the', '▁newest', '▁', 'an', 'd', '▁slo', 'west', '▁c', 'ar', '.']\n"
     ]
    },
    {
     "name": "stderr",
     "output_type": "stream",
     "text": [
      "sentencepiece_trainer.cc(178) LOG(INFO) Running command: --input=corpus.txt --model_prefix=bpe --vocab_size=50 --model_type=bpe\n",
      "sentencepiece_trainer.cc(78) LOG(INFO) Starts training with : \n",
      "trainer_spec {\n",
      "  input: corpus.txt\n",
      "  input_format: \n",
      "  model_prefix: bpe\n",
      "  model_type: BPE\n",
      "  vocab_size: 50\n",
      "  self_test_sample_size: 0\n",
      "  character_coverage: 0.9995\n",
      "  input_sentence_size: 0\n",
      "  shuffle_input_sentence: 1\n",
      "  seed_sentencepiece_size: 1000000\n",
      "  shrinking_factor: 0.75\n",
      "  max_sentence_length: 4192\n",
      "  num_threads: 16\n",
      "  num_sub_iterations: 2\n",
      "  max_sentencepiece_length: 16\n",
      "  split_by_unicode_script: 1\n",
      "  split_by_number: 1\n",
      "  split_by_whitespace: 1\n",
      "  split_digits: 0\n",
      "  pretokenization_delimiter: \n",
      "  treat_whitespace_as_suffix: 0\n",
      "  allow_whitespace_only_pieces: 0\n",
      "  required_chars: \n",
      "  byte_fallback: 0\n",
      "  vocabulary_output_piece_score: 1\n",
      "  train_extremely_large_corpus: 0\n",
      "  seed_sentencepieces_file: \n",
      "  hard_vocab_limit: 1\n",
      "  use_all_vocab: 0\n",
      "  unk_id: 0\n",
      "  bos_id: 1\n",
      "  eos_id: 2\n",
      "  pad_id: -1\n",
      "  unk_piece: <unk>\n",
      "  bos_piece: <s>\n",
      "  eos_piece: </s>\n",
      "  pad_piece: <pad>\n",
      "  unk_surface:  ⁇ \n",
      "  enable_differential_privacy: 0\n",
      "  differential_privacy_noise_level: 0\n",
      "  differential_privacy_clipping_threshold: 0\n",
      "}\n",
      "normalizer_spec {\n",
      "  name: nmt_nfkc\n",
      "  add_dummy_prefix: 1\n",
      "  remove_extra_whitespaces: 1\n",
      "  escape_whitespaces: 1\n",
      "  normalization_rule_tsv: \n",
      "}\n",
      "denormalizer_spec {}\n",
      "trainer_interface.cc(353) LOG(INFO) SentenceIterator is not specified. Using MultiFileSentenceIterator.\n",
      "trainer_interface.cc(185) LOG(INFO) Loading corpus: corpus.txt\n",
      "trainer_interface.cc(409) LOG(INFO) Loaded all 4 sentences\n",
      "trainer_interface.cc(425) LOG(INFO) Adding meta_piece: <unk>\n",
      "trainer_interface.cc(425) LOG(INFO) Adding meta_piece: <s>\n",
      "trainer_interface.cc(425) LOG(INFO) Adding meta_piece: </s>\n",
      "trainer_interface.cc(430) LOG(INFO) Normalizing sentences...\n",
      "trainer_interface.cc(539) LOG(INFO) all chars count=121\n",
      "trainer_interface.cc(560) LOG(INFO) Alphabet size=19\n",
      "trainer_interface.cc(561) LOG(INFO) Final character coverage=1\n",
      "trainer_interface.cc(592) LOG(INFO) Done! preprocessed 3 sentences.\n",
      "trainer_interface.cc(598) LOG(INFO) Tokenizing input sentences with whitespace: 3\n",
      "trainer_interface.cc(609) LOG(INFO) Done! 17\n",
      "bpe_model_trainer.cc(159) LOG(INFO) Updating active symbols. max_freq=8 min_freq=1\n",
      "bpe_model_trainer.cc(268) LOG(INFO) Added: freq=1 size=20 all=83 active=64 piece=bo\n",
      "trainer_interface.cc(687) LOG(INFO) Saving model: bpe.model\n",
      "trainer_interface.cc(699) LOG(INFO) Saving vocabs: bpe.vocab\n"
     ]
    }
   ],
   "source": [
    "#!pip install sentencepiece\n",
    "import sentencepiece as spm\n",
    "\n",
    "# Step 1: Create a training corpus\n",
    "corpus = \"\"\" \n",
    "newer lower lowest slowest newest \n",
    "the newer cars are slower than the older ones\n",
    "she bought the newest model of the phone\n",
    "\"\"\"\n",
    "\n",
    "# Save the corpus to a file\n",
    "with open(\"corpus.txt\", \"w\", encoding=\"utf-8\") as f:\n",
    "    f.write(corpus)\n",
    "\n",
    "# Step 2: Train a BPE tokenizer\n",
    "spm.SentencePieceTrainer.Train('--input=corpus.txt --model_prefix=bpe --vocab_size=50 --model_type=bpe')\n",
    "\n",
    "# Step 3: Load the trained model\n",
    "sp = spm.SentencePieceProcessor(model_file='bpe.model')\n",
    "\n",
    "# Step 4: Tokenize a new sentence using the trained BPE tokenizer\n",
    "test_sentence = \"She drives the newest and slowest car.\"\n",
    "tokens = sp.encode_as_pieces(test_sentence)\n",
    "\n",
    "# Print the BPE tokens\n",
    "print(\"BPE Tokens:\", tokens)"
   ]
  },
  {
   "cell_type": "markdown",
   "metadata": {},
   "source": []
  },
  {
   "cell_type": "code",
   "execution_count": 6,
   "metadata": {},
   "outputs": [
    {
     "name": "stderr",
     "output_type": "stream",
     "text": [
      "[nltk_data] Downloading package punkt to /home/xgen0/nltk_data...\n",
      "[nltk_data]   Package punkt is already up-to-date!\n",
      "[nltk_data] Downloading package wordnet to /home/xgen0/nltk_data...\n"
     ]
    },
    {
     "name": "stdout",
     "output_type": "stream",
     "text": [
      "Dr. Smith is an expert. He works at U.K. Tech Inc. His email is dr.smith@example.com. Running, runs, and ran are similar words. He paid $45.55 on 01/02/2024.\n",
      "\n",
      "--- Case Folding ---\n",
      "dr. smith is an expert. he works at u.k. tech inc. his email is dr.smith@example.com. running, runs, and ran are similar words. he paid $45.55 on 01/02/2024.\n",
      "\n",
      "--- Removing Special Characters ---\n",
      "dr smith is an expert he works at uk tech inc his email is drsmithexamplecom running runs and ran are similar words he paid  on \n",
      "\n",
      "--- Tokenization ---\n",
      "Pure Python: ['dr', 'smith', 'is', 'an', 'expert', 'he', 'works', 'at', 'uk', 'tech', 'inc', 'his', 'email', 'is', 'drsmithexamplecom', 'running', 'runs', 'and', 'ran', 'are', 'similar', 'words', 'he', 'paid', 'on']\n",
      "NLTK: ['dr', 'smith', 'is', 'an', 'expert', 'he', 'works', 'at', 'uk', 'tech', 'inc', 'his', 'email', 'is', 'drsmithexamplecom', 'running', 'runs', 'and', 'ran', 'are', 'similar', 'words', 'he', 'paid', 'on']\n",
      "\n",
      "--- Stemming ---\n",
      "Pure Python: ['dr', 'smith', 'is', 'a', 'expert', 'he', 'works', 'at', 'uk', 'tech', 'inc', 'his', 'email', 'is', 'drsmithexamplecom', 'ru', 'runs', 'and', 'ra', 'are', 'similar', 'words', 'he', 'paid', 'o']\n",
      "NLTK: ['dr', 'smith', 'is', 'an', 'expert', 'he', 'work', 'at', 'uk', 'tech', 'inc', 'hi', 'email', 'is', 'drsmithexamplecom', 'run', 'run', 'and', 'ran', 'are', 'similar', 'word', 'he', 'paid', 'on']\n",
      "\n",
      "--- Lemmatization ---\n",
      "NLTK: ['dr', 'smith', 'be', 'an', 'expert', 'he', 'work', 'at', 'uk', 'tech', 'inc', 'his', 'email', 'be', 'drsmithexamplecom', 'run', 'run', 'and', 'run', 'be', 'similar', 'word', 'he', 'pay', 'on']\n",
      "\n",
      "--- Sentence Segmentation ---\n",
      "Pure Python: ['Dr. Smith is an expert.', 'He works at U.K. Tech Inc.', 'His email is dr.smith@example.com.', 'Running, runs, and ran are similar words.', 'He paid $45.55 on 01/02/2024.']\n",
      "NLTK: ['Dr. Smith is an expert.', 'He works at U.K. Tech Inc. His email is dr.smith@example.com.', 'Running, runs, and ran are similar words.', 'He paid $45.55 on 01/02/2024.']\n"
     ]
    }
   ],
   "source": [
    "import re\n",
    "import nltk\n",
    "from nltk.tokenize import sent_tokenize\n",
    "from nltk.stem import PorterStemmer, WordNetLemmatizer\n",
    "\n",
    "# Ensure NLTK resources are downloaded\n",
    "nltk.download('punkt')\n",
    "nltk.download('wordnet')\n",
    "\n",
    "# Sample text\n",
    "text = \"Dr. Smith is an expert. He works at U.K. Tech Inc. His email is dr.smith@example.com. Running, runs, and ran are similar words. He paid $45.55 on 01/02/2024.\"\n",
    "print(text)\n",
    "\n",
    "# 1️ Case Folding (Lowercasing)\n",
    "print(\"\\n--- Case Folding ---\")\n",
    "pure_lower = text.lower()  # Pure Python\n",
    "print(pure_lower)\n",
    "\n",
    "# 2️ Removing Special Characters and Numbers\n",
    "print(\"\\n--- Removing Special Characters ---\")\n",
    "pure_clean = re.sub(r'[^a-zA-Z\\s]', '', pure_lower)  # Pure Python\n",
    "print(pure_clean)\n",
    "\n",
    "# 3️ Tokenization\n",
    "print(\"\\n--- Tokenization ---\")\n",
    "pure_tokens = pure_clean.split()  # Pure Python\n",
    "nltk_tokens = nltk.word_tokenize(pure_clean)  # Using NLTK\n",
    "print(\"Pure Python:\", pure_tokens)\n",
    "print(\"NLTK:\", nltk_tokens)\n",
    "\n",
    "# 4️ Stemming\n",
    "print(\"\\n--- Stemming ---\")\n",
    "stemmer = PorterStemmer()\n",
    "pure_stemmed = [word.rstrip(\"ing\") for word in pure_tokens]  # Simple Pure Python Example\n",
    "nltk_stemmed = [stemmer.stem(word) for word in nltk_tokens]  # Using NLTK\n",
    "print(\"Pure Python:\", pure_stemmed)\n",
    "print(\"NLTK:\", nltk_stemmed)\n",
    "\n",
    "# 5️ Lemmatization\n",
    "print(\"\\n--- Lemmatization ---\")\n",
    "lemmatizer = WordNetLemmatizer()\n",
    "nltk_lemmatized = [lemmatizer.lemmatize(word, pos=\"v\") for word in nltk_tokens]  # NLTK has proper lemmatization\n",
    "print(\"NLTK:\", nltk_lemmatized)\n",
    "\n",
    "# 6️ Sentence Segmentation\n",
    "print(\"\\n--- Sentence Segmentation ---\")\n",
    "pure_sentences = re.split(r'(?<!\\w\\.\\w.)(?<![A-Z][a-z]\\.)(?<=\\.|\\?)\\s', text)  # Pure Python Regex Approach\n",
    "nltk_sentences = sent_tokenize(text)  # Using NLTK\n",
    "print(\"Pure Python:\", pure_sentences)\n",
    "print(\"NLTK:\", nltk_sentences)\n",
    "\n"
   ]
  }
 ],
 "metadata": {
  "kernelspec": {
   "display_name": ".venv",
   "language": "python",
   "name": "python3"
  },
  "language_info": {
   "codemirror_mode": {
    "name": "ipython",
    "version": 3
   },
   "file_extension": ".py",
   "mimetype": "text/x-python",
   "name": "python",
   "nbconvert_exporter": "python",
   "pygments_lexer": "ipython3",
   "version": "3.12.9"
  }
 },
 "nbformat": 4,
 "nbformat_minor": 2
}
