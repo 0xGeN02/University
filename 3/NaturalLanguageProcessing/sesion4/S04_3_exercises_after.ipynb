{
 "cells": [
  {
   "cell_type": "markdown",
   "metadata": {},
   "source": [
    "# Exercise after class\n",
    "\n",
    "The goal of this exercise is to explore the NLTK library using the manual or online tutorials (avoid AI usage). First, create one (or more) texts in spanish (just copy paste it somewhere). The use the NLTK library of pure Python to performe at least this action to the text(s). \n",
    "\n",
    "1. Case folding\n",
    "2. Word normalization\n",
    "3. Tokenization\n",
    "4. Stemming\n",
    "5. Lemmatization\n",
    "6. Sentence segmentation\n",
    "7. PoS Tagging\n",
    "8. Named Entity Recognition (NER)\n",
    "\n",
    "Just try to explore and understand the library. Check in the reference book and NLTK manual for the new concepts."
   ]
  },
  {
   "cell_type": "code",
   "execution_count": 26,
   "metadata": {},
   "outputs": [
    {
     "ename": "ModuleNotFoundError",
     "evalue": "No module named 'spacy'",
     "output_type": "error",
     "traceback": [
      "\u001b[1;31m---------------------------------------------------------------------------\u001b[0m",
      "\u001b[1;31mModuleNotFoundError\u001b[0m                       Traceback (most recent call last)",
      "Cell \u001b[1;32mIn[26], line 8\u001b[0m\n\u001b[0;32m      6\u001b[0m \u001b[38;5;28;01mfrom\u001b[39;00m \u001b[38;5;21;01mnltk\u001b[39;00m\u001b[38;5;21;01m.\u001b[39;00m\u001b[38;5;21;01mtag\u001b[39;00m \u001b[38;5;28;01mimport\u001b[39;00m pos_tag\n\u001b[0;32m      7\u001b[0m \u001b[38;5;28;01mfrom\u001b[39;00m \u001b[38;5;21;01mnltk\u001b[39;00m\u001b[38;5;21;01m.\u001b[39;00m\u001b[38;5;21;01mchunk\u001b[39;00m \u001b[38;5;28;01mimport\u001b[39;00m ne_chunk\n\u001b[1;32m----> 8\u001b[0m \u001b[38;5;28;01mimport\u001b[39;00m \u001b[38;5;21;01mspacy\u001b[39;00m\n",
      "\u001b[1;31mModuleNotFoundError\u001b[0m: No module named 'spacy'"
     ]
    }
   ],
   "source": [
    "import nltk\n",
    "from nltk.tokenize import word_tokenize, sent_tokenize\n",
    "from nltk.corpus import stopwords\n",
    "from nltk.stem import SnowballStemmer\n",
    "from nltk.stem import WordNetLemmatizer\n",
    "from nltk.tag import pos_tag\n",
    "from nltk.chunk import ne_chunk\n",
    "import spacy"
   ]
  },
  {
   "cell_type": "code",
   "execution_count": 25,
   "metadata": {},
   "outputs": [
    {
     "name": "stderr",
     "output_type": "stream",
     "text": [
      "[nltk_data] Downloading package punkt to\n",
      "[nltk_data]     C:\\Users\\manue\\AppData\\Roaming\\nltk_data...\n",
      "[nltk_data]   Package punkt is already up-to-date!\n",
      "[nltk_data] Downloading package stopwords to\n",
      "[nltk_data]     C:\\Users\\manue\\AppData\\Roaming\\nltk_data...\n",
      "[nltk_data]   Package stopwords is already up-to-date!\n",
      "[nltk_data] Downloading package averaged_perceptron_tagger to\n",
      "[nltk_data]     C:\\Users\\manue\\AppData\\Roaming\\nltk_data...\n",
      "[nltk_data]   Package averaged_perceptron_tagger is already up-to-\n",
      "[nltk_data]       date!\n",
      "[nltk_data] Downloading package maxent_ne_chunker to\n",
      "[nltk_data]     C:\\Users\\manue\\AppData\\Roaming\\nltk_data...\n",
      "[nltk_data]   Package maxent_ne_chunker is already up-to-date!\n",
      "[nltk_data] Downloading package words to\n",
      "[nltk_data]     C:\\Users\\manue\\AppData\\Roaming\\nltk_data...\n",
      "[nltk_data]   Package words is already up-to-date!\n",
      "[nltk_data] Downloading package wordnet to\n",
      "[nltk_data]     C:\\Users\\manue\\AppData\\Roaming\\nltk_data...\n",
      "[nltk_data]   Package wordnet is already up-to-date!\n"
     ]
    },
    {
     "ename": "NameError",
     "evalue": "name 'spacy' is not defined",
     "output_type": "error",
     "traceback": [
      "\u001b[1;31m---------------------------------------------------------------------------\u001b[0m",
      "\u001b[1;31mNameError\u001b[0m                                 Traceback (most recent call last)",
      "Cell \u001b[1;32mIn[25], line 8\u001b[0m\n\u001b[0;32m      6\u001b[0m nltk\u001b[38;5;241m.\u001b[39mdownload(\u001b[38;5;124m'\u001b[39m\u001b[38;5;124mwords\u001b[39m\u001b[38;5;124m'\u001b[39m)\n\u001b[0;32m      7\u001b[0m nltk\u001b[38;5;241m.\u001b[39mdownload(\u001b[38;5;124m'\u001b[39m\u001b[38;5;124mwordnet\u001b[39m\u001b[38;5;124m'\u001b[39m)\n\u001b[1;32m----> 8\u001b[0m \u001b[43mspacy\u001b[49m\u001b[38;5;241m.\u001b[39mdownload(\u001b[38;5;124m'\u001b[39m\u001b[38;5;124men_core_web_sm\u001b[39m\u001b[38;5;124m'\u001b[39m)\n",
      "\u001b[1;31mNameError\u001b[0m: name 'spacy' is not defined"
     ]
    }
   ],
   "source": [
    "# Descargar recursos necesarios\n",
    "nltk.download('punkt')\n",
    "nltk.download('stopwords')\n",
    "nltk.download('averaged_perceptron_tagger')\n",
    "nltk.download('maxent_ne_chunker')\n",
    "nltk.download('words')\n",
    "nltk.download('wordnet')\n",
    "spacy.download('en_core_web_sm')"
   ]
  },
  {
   "cell_type": "code",
   "execution_count": 16,
   "metadata": {},
   "outputs": [],
   "source": [
    "text = 'Lorem ipsum dolor sit amet, consectetur adipiscing elit. Integer ut justo nec nulla auctor sollicitudin vitae sit amet tellus. Suspendisse mollis tellus eu nisl volutpat sodales. Aenean ornare eget ligula ut iaculis. Duis placerat nec nisl vel sodales. Ut pharetra risus ac sem faucibus hendrerit. Donec vel ultrices massa. Nunc in nibh ac orci mollis finibus. Sed non purus sit amet nunc interdum malesuada eu ac ligula. Morbi vitae leo sit amet elit tristique scelerisque. Praesent lacinia est sed congue finibus. Vivamus ultrices eros nisi, id facilisis risus porttitor id. Cras lobortis eros tortor, gravida malesuada quam vulputate eu. Sed finibus sem libero, ac rutrum nisl malesuada at. Etiam maximus est est, non fringilla libero lobortis sed. Nam in lorem dignissim, egestas ex sed, efficitur leo. Ut blandit id neque quis finibus. Cras et scelerisque est. Morbi luctus, nunc nec consequat feugiat, purus orci rutrum mauris, vel dapibus sapien massa et elit. Maecenas id maximus dolor, nec congue diam. Donec fermentum auctor blandit. Vestibulum aliquet mi orci, eget tincidunt sem consequat sed. Integer euismod ligula sit amet eros malesuada, sed pulvinar nibh placerat. Proin bibendum nibh maximus enim venenatis, in consequat ipsum egestas. Suspendisse potenti. Donec tempus mauris at lorem ultrices accumsan. In eleifend, nisi eu blandit vestibulum, ex arcu eleifend nisl, quis maximus magna nunc nec tellus. Suspendisse viverra eu sapien sit amet posuere. Donec aliquam sem eu lectus sollicitudin, sed vehicula eros pellentesque. Phasellus est nibh, eleifend ut orci et, rhoncus sodales neque. Aenean mollis convallis dui, et fermentum lorem maximus eu. Donec sed scelerisque mauris, vitae dictum magna. Sed quis aliquet erat. Nullam vitae metus nibh. Suspendisse odio nulla, condimentum eget nibh ut, lacinia pharetra nibh. Aenean sed augue pulvinar, vehicula libero et, molestie dolor. Donec ut sapien id diam finibus iaculis. Ut commodo justo vel leo luctus aliquam in a risus. Sed felis est, semper non ornare at, accumsan eget libero. Quisque tincidunt, dui quis consequat accumsan, tellus libero aliquet elit, vitae porta velit quam eu ligula. Integer ut odio leo. Aliquam sodales consectetur erat a placerat. Proin ullamcorper facilisis feugiat. Vivamus ac varius tellus. Donec dignissim ac nunc vel vestibulum. Donec a felis pretium, aliquet diam id, faucibus metus. Aenean tempus sem ac dui commodo finibus. Fusce ac tempor dui. Fusce dictum volutpat tellus et aliquet. Orci varius natoque penatibus et magnis dis parturient montes, nascetur ridiculus mus. Nam non nisl ante. Pellentesque habitant morbi tristique senectus et netus et malesuada fames ac turpis egestas. Curabitur ac ex ante. Quisque feugiat mauris at dui sodales venenatis. Aliquam sit amet dui ac dolor condimentum facilisis sit amet non lorem. Integer efficitur vel risus at feugiat. Nunc tortor ligula, tristique in mattis suscipit, blandit vitae leo. In lobortis convallis quam, ac vehicula ex pretium vitae. Integer eleifend nisi eget posuere placerat.'"
   ]
  },
  {
   "cell_type": "code",
   "execution_count": 17,
   "metadata": {},
   "outputs": [
    {
     "name": "stdout",
     "output_type": "stream",
     "text": [
      "Case folding:\n",
      " lorem ipsum dolor sit amet, consectetur adipiscing elit. integer ut justo nec nulla auctor sollicitudin vitae sit amet tellus. suspendisse mollis tellus eu nisl volutpat sodales. aenean ornare eget ligula ut iaculis. duis placerat nec nisl vel sodales. ut pharetra risus ac sem faucibus hendrerit. donec vel ultrices massa. nunc in nibh ac orci mollis finibus. sed non purus sit amet nunc interdum malesuada eu ac ligula. morbi vitae leo sit amet elit tristique scelerisque. praesent lacinia est sed congue finibus. vivamus ultrices eros nisi, id facilisis risus porttitor id. cras lobortis eros tortor, gravida malesuada quam vulputate eu. sed finibus sem libero, ac rutrum nisl malesuada at. etiam maximus est est, non fringilla libero lobortis sed. nam in lorem dignissim, egestas ex sed, efficitur leo. ut blandit id neque quis finibus. cras et scelerisque est. morbi luctus, nunc nec consequat feugiat, purus orci rutrum mauris, vel dapibus sapien massa et elit. maecenas id maximus dolor, nec congue diam. donec fermentum auctor blandit. vestibulum aliquet mi orci, eget tincidunt sem consequat sed. integer euismod ligula sit amet eros malesuada, sed pulvinar nibh placerat. proin bibendum nibh maximus enim venenatis, in consequat ipsum egestas. suspendisse potenti. donec tempus mauris at lorem ultrices accumsan. in eleifend, nisi eu blandit vestibulum, ex arcu eleifend nisl, quis maximus magna nunc nec tellus. suspendisse viverra eu sapien sit amet posuere. donec aliquam sem eu lectus sollicitudin, sed vehicula eros pellentesque. phasellus est nibh, eleifend ut orci et, rhoncus sodales neque. aenean mollis convallis dui, et fermentum lorem maximus eu. donec sed scelerisque mauris, vitae dictum magna. sed quis aliquet erat. nullam vitae metus nibh. suspendisse odio nulla, condimentum eget nibh ut, lacinia pharetra nibh. aenean sed augue pulvinar, vehicula libero et, molestie dolor. donec ut sapien id diam finibus iaculis. ut commodo justo vel leo luctus aliquam in a risus. sed felis est, semper non ornare at, accumsan eget libero. quisque tincidunt, dui quis consequat accumsan, tellus libero aliquet elit, vitae porta velit quam eu ligula. integer ut odio leo. aliquam sodales consectetur erat a placerat. proin ullamcorper facilisis feugiat. vivamus ac varius tellus. donec dignissim ac nunc vel vestibulum. donec a felis pretium, aliquet diam id, faucibus metus. aenean tempus sem ac dui commodo finibus. fusce ac tempor dui. fusce dictum volutpat tellus et aliquet. orci varius natoque penatibus et magnis dis parturient montes, nascetur ridiculus mus. nam non nisl ante. pellentesque habitant morbi tristique senectus et netus et malesuada fames ac turpis egestas. curabitur ac ex ante. quisque feugiat mauris at dui sodales venenatis. aliquam sit amet dui ac dolor condimentum facilisis sit amet non lorem. integer efficitur vel risus at feugiat. nunc tortor ligula, tristique in mattis suscipit, blandit vitae leo. in lobortis convallis quam, ac vehicula ex pretium vitae. integer eleifend nisi eget posuere placerat.\n"
     ]
    }
   ],
   "source": [
    "# 1. Case folding\n",
    "texto_lower = text.lower()\n",
    "print(\"Case folding:\\n\", texto_lower)"
   ]
  },
  {
   "cell_type": "code",
   "execution_count": 18,
   "metadata": {},
   "outputs": [
    {
     "name": "stdout",
     "output_type": "stream",
     "text": [
      "\n",
      "Word normalization:\n",
      " ['lorem', 'ipsum', 'dolor', 'sit', 'amet', 'consectetur', 'adipiscing', 'elit', 'integer', 'ut', 'justo', 'nec', 'nulla', 'auctor', 'sollicitudin', 'vitae', 'sit', 'amet', 'tellus', 'suspendisse', 'mollis', 'tellus', 'eu', 'nisl', 'volutpat', 'sodales', 'aenean', 'ornare', 'eget', 'ligula', 'ut', 'iaculis', 'duis', 'placerat', 'nec', 'nisl', 'vel', 'sodales', 'ut', 'pharetra', 'risus', 'ac', 'sem', 'faucibus', 'hendrerit', 'donec', 'vel', 'ultrices', 'massa', 'nunc', 'in', 'nibh', 'ac', 'orci', 'mollis', 'finibus', 'sed', 'non', 'purus', 'sit', 'amet', 'nunc', 'interdum', 'malesuada', 'eu', 'ac', 'ligula', 'morbi', 'vitae', 'leo', 'sit', 'amet', 'elit', 'tristique', 'scelerisque', 'praesent', 'lacinia', 'est', 'sed', 'congue', 'finibus', 'vivamus', 'ultrices', 'eros', 'nisi', 'id', 'facilisis', 'risus', 'porttitor', 'id', 'cras', 'lobortis', 'eros', 'tortor', 'gravida', 'malesuada', 'quam', 'vulputate', 'eu', 'sed', 'finibus', 'sem', 'libero', 'ac', 'rutrum', 'nisl', 'malesuada', 'at', 'etiam', 'maximus', 'est', 'est', 'non', 'fringilla', 'libero', 'lobortis', 'sed', 'nam', 'in', 'lorem', 'dignissim', 'egestas', 'ex', 'sed', 'efficitur', 'leo', 'ut', 'blandit', 'id', 'neque', 'quis', 'finibus', 'cras', 'et', 'scelerisque', 'est', 'morbi', 'luctus', 'nunc', 'nec', 'consequat', 'feugiat', 'purus', 'orci', 'rutrum', 'mauris', 'vel', 'dapibus', 'sapien', 'massa', 'et', 'elit', 'maecenas', 'id', 'maximus', 'dolor', 'nec', 'congue', 'diam', 'donec', 'fermentum', 'auctor', 'blandit', 'vestibulum', 'aliquet', 'orci', 'eget', 'tincidunt', 'sem', 'consequat', 'sed', 'integer', 'euismod', 'ligula', 'sit', 'amet', 'eros', 'malesuada', 'sed', 'pulvinar', 'nibh', 'placerat', 'proin', 'bibendum', 'nibh', 'maximus', 'enim', 'venenatis', 'in', 'consequat', 'ipsum', 'egestas', 'suspendisse', 'potenti', 'donec', 'tempus', 'mauris', 'at', 'lorem', 'ultrices', 'accumsan', 'in', 'eleifend', 'nisi', 'eu', 'blandit', 'vestibulum', 'ex', 'arcu', 'eleifend', 'nisl', 'quis', 'maximus', 'magna', 'nunc', 'nec', 'tellus', 'suspendisse', 'viverra', 'eu', 'sapien', 'sit', 'amet', 'posuere', 'donec', 'aliquam', 'sem', 'eu', 'lectus', 'sollicitudin', 'sed', 'vehicula', 'eros', 'pellentesque', 'phasellus', 'est', 'nibh', 'eleifend', 'ut', 'orci', 'et', 'rhoncus', 'sodales', 'neque', 'aenean', 'mollis', 'convallis', 'dui', 'et', 'fermentum', 'lorem', 'maximus', 'eu', 'donec', 'sed', 'scelerisque', 'mauris', 'vitae', 'dictum', 'magna', 'sed', 'quis', 'aliquet', 'erat', 'nullam', 'vitae', 'metus', 'nibh', 'suspendisse', 'odio', 'nulla', 'condimentum', 'eget', 'nibh', 'ut', 'lacinia', 'pharetra', 'nibh', 'aenean', 'sed', 'augue', 'pulvinar', 'vehicula', 'libero', 'et', 'molestie', 'dolor', 'donec', 'ut', 'sapien', 'id', 'diam', 'finibus', 'iaculis', 'ut', 'commodo', 'justo', 'vel', 'leo', 'luctus', 'aliquam', 'in', 'risus', 'sed', 'felis', 'est', 'semper', 'non', 'ornare', 'at', 'accumsan', 'eget', 'libero', 'quisque', 'tincidunt', 'dui', 'quis', 'consequat', 'accumsan', 'tellus', 'libero', 'aliquet', 'elit', 'vitae', 'porta', 'velit', 'quam', 'eu', 'ligula', 'integer', 'ut', 'odio', 'leo', 'aliquam', 'sodales', 'consectetur', 'erat', 'placerat', 'proin', 'ullamcorper', 'facilisis', 'feugiat', 'vivamus', 'ac', 'varius', 'tellus', 'donec', 'dignissim', 'ac', 'nunc', 'vel', 'vestibulum', 'donec', 'felis', 'pretium', 'aliquet', 'diam', 'id', 'faucibus', 'metus', 'aenean', 'tempus', 'sem', 'ac', 'dui', 'commodo', 'finibus', 'fusce', 'ac', 'tempor', 'dui', 'fusce', 'dictum', 'volutpat', 'tellus', 'et', 'aliquet', 'orci', 'varius', 'natoque', 'penatibus', 'et', 'magnis', 'dis', 'parturient', 'montes', 'nascetur', 'ridiculus', 'mus', 'nam', 'non', 'nisl', 'pellentesque', 'habitant', 'morbi', 'tristique', 'senectus', 'et', 'netus', 'et', 'malesuada', 'fames', 'ac', 'turpis', 'egestas', 'curabitur', 'ac', 'ex', 'quisque', 'feugiat', 'mauris', 'at', 'dui', 'sodales', 'venenatis', 'aliquam', 'sit', 'amet', 'dui', 'ac', 'dolor', 'condimentum', 'facilisis', 'sit', 'amet', 'non', 'lorem', 'integer', 'efficitur', 'vel', 'risus', 'at', 'feugiat', 'nunc', 'tortor', 'ligula', 'tristique', 'in', 'mattis', 'suscipit', 'blandit', 'vitae', 'leo', 'in', 'lobortis', 'convallis', 'quam', 'ac', 'vehicula', 'ex', 'pretium', 'vitae', 'integer', 'eleifend', 'nisi', 'eget', 'posuere', 'placerat']\n"
     ]
    }
   ],
   "source": [
    "# 2. Word normalization (removing stopwords)\n",
    "stop_words = set(stopwords.words('spanish'))\n",
    "words = word_tokenize(texto_lower)\n",
    "normalized_words = [word for word in words if word.isalnum() and word not in stop_words]\n",
    "print(\"\\nWord normalization:\\n\", normalized_words)"
   ]
  },
  {
   "cell_type": "code",
   "execution_count": 19,
   "metadata": {},
   "outputs": [
    {
     "name": "stdout",
     "output_type": "stream",
     "text": [
      "\n",
      "Tokenization:\n",
      " ['Lorem', 'ipsum', 'dolor', 'sit', 'amet', ',', 'consectetur', 'adipiscing', 'elit', '.', 'Integer', 'ut', 'justo', 'nec', 'nulla', 'auctor', 'sollicitudin', 'vitae', 'sit', 'amet', 'tellus', '.', 'Suspendisse', 'mollis', 'tellus', 'eu', 'nisl', 'volutpat', 'sodales', '.', 'Aenean', 'ornare', 'eget', 'ligula', 'ut', 'iaculis', '.', 'Duis', 'placerat', 'nec', 'nisl', 'vel', 'sodales', '.', 'Ut', 'pharetra', 'risus', 'ac', 'sem', 'faucibus', 'hendrerit', '.', 'Donec', 'vel', 'ultrices', 'massa', '.', 'Nunc', 'in', 'nibh', 'ac', 'orci', 'mollis', 'finibus', '.', 'Sed', 'non', 'purus', 'sit', 'amet', 'nunc', 'interdum', 'malesuada', 'eu', 'ac', 'ligula', '.', 'Morbi', 'vitae', 'leo', 'sit', 'amet', 'elit', 'tristique', 'scelerisque', '.', 'Praesent', 'lacinia', 'est', 'sed', 'congue', 'finibus', '.', 'Vivamus', 'ultrices', 'eros', 'nisi', ',', 'id', 'facilisis', 'risus', 'porttitor', 'id', '.', 'Cras', 'lobortis', 'eros', 'tortor', ',', 'gravida', 'malesuada', 'quam', 'vulputate', 'eu', '.', 'Sed', 'finibus', 'sem', 'libero', ',', 'ac', 'rutrum', 'nisl', 'malesuada', 'at', '.', 'Etiam', 'maximus', 'est', 'est', ',', 'non', 'fringilla', 'libero', 'lobortis', 'sed', '.', 'Nam', 'in', 'lorem', 'dignissim', ',', 'egestas', 'ex', 'sed', ',', 'efficitur', 'leo', '.', 'Ut', 'blandit', 'id', 'neque', 'quis', 'finibus', '.', 'Cras', 'et', 'scelerisque', 'est', '.', 'Morbi', 'luctus', ',', 'nunc', 'nec', 'consequat', 'feugiat', ',', 'purus', 'orci', 'rutrum', 'mauris', ',', 'vel', 'dapibus', 'sapien', 'massa', 'et', 'elit', '.', 'Maecenas', 'id', 'maximus', 'dolor', ',', 'nec', 'congue', 'diam', '.', 'Donec', 'fermentum', 'auctor', 'blandit', '.', 'Vestibulum', 'aliquet', 'mi', 'orci', ',', 'eget', 'tincidunt', 'sem', 'consequat', 'sed', '.', 'Integer', 'euismod', 'ligula', 'sit', 'amet', 'eros', 'malesuada', ',', 'sed', 'pulvinar', 'nibh', 'placerat', '.', 'Proin', 'bibendum', 'nibh', 'maximus', 'enim', 'venenatis', ',', 'in', 'consequat', 'ipsum', 'egestas', '.', 'Suspendisse', 'potenti', '.', 'Donec', 'tempus', 'mauris', 'at', 'lorem', 'ultrices', 'accumsan', '.', 'In', 'eleifend', ',', 'nisi', 'eu', 'blandit', 'vestibulum', ',', 'ex', 'arcu', 'eleifend', 'nisl', ',', 'quis', 'maximus', 'magna', 'nunc', 'nec', 'tellus', '.', 'Suspendisse', 'viverra', 'eu', 'sapien', 'sit', 'amet', 'posuere', '.', 'Donec', 'aliquam', 'sem', 'eu', 'lectus', 'sollicitudin', ',', 'sed', 'vehicula', 'eros', 'pellentesque', '.', 'Phasellus', 'est', 'nibh', ',', 'eleifend', 'ut', 'orci', 'et', ',', 'rhoncus', 'sodales', 'neque', '.', 'Aenean', 'mollis', 'convallis', 'dui', ',', 'et', 'fermentum', 'lorem', 'maximus', 'eu', '.', 'Donec', 'sed', 'scelerisque', 'mauris', ',', 'vitae', 'dictum', 'magna', '.', 'Sed', 'quis', 'aliquet', 'erat', '.', 'Nullam', 'vitae', 'metus', 'nibh', '.', 'Suspendisse', 'odio', 'nulla', ',', 'condimentum', 'eget', 'nibh', 'ut', ',', 'lacinia', 'pharetra', 'nibh', '.', 'Aenean', 'sed', 'augue', 'pulvinar', ',', 'vehicula', 'libero', 'et', ',', 'molestie', 'dolor', '.', 'Donec', 'ut', 'sapien', 'id', 'diam', 'finibus', 'iaculis', '.', 'Ut', 'commodo', 'justo', 'vel', 'leo', 'luctus', 'aliquam', 'in', 'a', 'risus', '.', 'Sed', 'felis', 'est', ',', 'semper', 'non', 'ornare', 'at', ',', 'accumsan', 'eget', 'libero', '.', 'Quisque', 'tincidunt', ',', 'dui', 'quis', 'consequat', 'accumsan', ',', 'tellus', 'libero', 'aliquet', 'elit', ',', 'vitae', 'porta', 'velit', 'quam', 'eu', 'ligula', '.', 'Integer', 'ut', 'odio', 'leo', '.', 'Aliquam', 'sodales', 'consectetur', 'erat', 'a', 'placerat', '.', 'Proin', 'ullamcorper', 'facilisis', 'feugiat', '.', 'Vivamus', 'ac', 'varius', 'tellus', '.', 'Donec', 'dignissim', 'ac', 'nunc', 'vel', 'vestibulum', '.', 'Donec', 'a', 'felis', 'pretium', ',', 'aliquet', 'diam', 'id', ',', 'faucibus', 'metus', '.', 'Aenean', 'tempus', 'sem', 'ac', 'dui', 'commodo', 'finibus', '.', 'Fusce', 'ac', 'tempor', 'dui', '.', 'Fusce', 'dictum', 'volutpat', 'tellus', 'et', 'aliquet', '.', 'Orci', 'varius', 'natoque', 'penatibus', 'et', 'magnis', 'dis', 'parturient', 'montes', ',', 'nascetur', 'ridiculus', 'mus', '.', 'Nam', 'non', 'nisl', 'ante', '.', 'Pellentesque', 'habitant', 'morbi', 'tristique', 'senectus', 'et', 'netus', 'et', 'malesuada', 'fames', 'ac', 'turpis', 'egestas', '.', 'Curabitur', 'ac', 'ex', 'ante', '.', 'Quisque', 'feugiat', 'mauris', 'at', 'dui', 'sodales', 'venenatis', '.', 'Aliquam', 'sit', 'amet', 'dui', 'ac', 'dolor', 'condimentum', 'facilisis', 'sit', 'amet', 'non', 'lorem', '.', 'Integer', 'efficitur', 'vel', 'risus', 'at', 'feugiat', '.', 'Nunc', 'tortor', 'ligula', ',', 'tristique', 'in', 'mattis', 'suscipit', ',', 'blandit', 'vitae', 'leo', '.', 'In', 'lobortis', 'convallis', 'quam', ',', 'ac', 'vehicula', 'ex', 'pretium', 'vitae', '.', 'Integer', 'eleifend', 'nisi', 'eget', 'posuere', 'placerat', '.']\n"
     ]
    }
   ],
   "source": [
    "# 3. Tokenization\n",
    "tokens = word_tokenize(text)\n",
    "print(\"\\nTokenization:\\n\", tokens)"
   ]
  },
  {
   "cell_type": "code",
   "execution_count": 20,
   "metadata": {},
   "outputs": [
    {
     "name": "stdout",
     "output_type": "stream",
     "text": [
      "\n",
      "Stemming:\n",
      " ['lorem', 'ipsum', 'dolor', 'sit', 'amet', 'consectetur', 'adipiscing', 'elit', 'integ', 'ut', 'just', 'nec', 'null', 'auctor', 'sollicitudin', 'vita', 'sit', 'amet', 'tellus', 'suspendiss', 'mollis', 'tellus', 'eu', 'nisl', 'volutpat', 'sodal', 'aen', 'ornar', 'eget', 'ligul', 'ut', 'iaculis', 'duis', 'placerat', 'nec', 'nisl', 'vel', 'sodal', 'ut', 'pharetr', 'risus', 'ac', 'sem', 'faucibus', 'hendrerit', 'donec', 'vel', 'ultric', 'mass', 'nunc', 'in', 'nibh', 'ac', 'orci', 'mollis', 'finibus', 'sed', 'non', 'purus', 'sit', 'amet', 'nunc', 'interdum', 'malesu', 'eu', 'ac', 'ligul', 'morbi', 'vita', 'leo', 'sit', 'amet', 'elit', 'tristiqu', 'scelerisqu', 'praesent', 'lacini', 'est', 'sed', 'cong', 'finibus', 'vivamus', 'ultric', 'eros', 'nisi', 'id', 'facilisis', 'risus', 'porttitor', 'id', 'cras', 'lobortis', 'eros', 'tortor', 'grav', 'malesu', 'quam', 'vulputat', 'eu', 'sed', 'finibus', 'sem', 'liber', 'ac', 'rutrum', 'nisl', 'malesu', 'at', 'etiam', 'maximus', 'est', 'est', 'non', 'fringill', 'liber', 'lobortis', 'sed', 'nam', 'in', 'lorem', 'dignissim', 'egest', 'ex', 'sed', 'efficitur', 'leo', 'ut', 'blandit', 'id', 'nequ', 'quis', 'finibus', 'cras', 'et', 'scelerisqu', 'est', 'morbi', 'luctus', 'nunc', 'nec', 'consequat', 'feugiat', 'purus', 'orci', 'rutrum', 'mauris', 'vel', 'dapibus', 'sapi', 'mass', 'et', 'elit', 'maecen', 'id', 'maximus', 'dolor', 'nec', 'cong', 'diam', 'donec', 'fermentum', 'auctor', 'blandit', 'vestibulum', 'aliquet', 'orci', 'eget', 'tincidunt', 'sem', 'consequat', 'sed', 'integ', 'euismod', 'ligul', 'sit', 'amet', 'eros', 'malesu', 'sed', 'pulvin', 'nibh', 'placerat', 'proin', 'bibendum', 'nibh', 'maximus', 'enim', 'venenatis', 'in', 'consequat', 'ipsum', 'egest', 'suspendiss', 'potenti', 'donec', 'tempus', 'mauris', 'at', 'lorem', 'ultric', 'accums', 'in', 'eleifend', 'nisi', 'eu', 'blandit', 'vestibulum', 'ex', 'arcu', 'eleifend', 'nisl', 'quis', 'maximus', 'magn', 'nunc', 'nec', 'tellus', 'suspendiss', 'viverr', 'eu', 'sapi', 'sit', 'amet', 'posuer', 'donec', 'aliquam', 'sem', 'eu', 'lectus', 'sollicitudin', 'sed', 'vehicul', 'eros', 'pellentesqu', 'phasellus', 'est', 'nibh', 'eleifend', 'ut', 'orci', 'et', 'rhoncus', 'sodal', 'nequ', 'aen', 'mollis', 'convallis', 'dui', 'et', 'fermentum', 'lorem', 'maximus', 'eu', 'donec', 'sed', 'scelerisqu', 'mauris', 'vita', 'dictum', 'magn', 'sed', 'quis', 'aliquet', 'erat', 'nullam', 'vita', 'metus', 'nibh', 'suspendiss', 'odi', 'null', 'condimentum', 'eget', 'nibh', 'ut', 'lacini', 'pharetr', 'nibh', 'aen', 'sed', 'aug', 'pulvin', 'vehicul', 'liber', 'et', 'molesti', 'dolor', 'donec', 'ut', 'sapi', 'id', 'diam', 'finibus', 'iaculis', 'ut', 'commod', 'just', 'vel', 'leo', 'luctus', 'aliquam', 'in', 'risus', 'sed', 'felis', 'est', 'semp', 'non', 'ornar', 'at', 'accums', 'eget', 'liber', 'quisqu', 'tincidunt', 'dui', 'quis', 'consequat', 'accums', 'tellus', 'liber', 'aliquet', 'elit', 'vita', 'port', 'velit', 'quam', 'eu', 'ligul', 'integ', 'ut', 'odi', 'leo', 'aliquam', 'sodal', 'consectetur', 'erat', 'placerat', 'proin', 'ullamcorp', 'facilisis', 'feugiat', 'vivamus', 'ac', 'varius', 'tellus', 'donec', 'dignissim', 'ac', 'nunc', 'vel', 'vestibulum', 'donec', 'felis', 'pretium', 'aliquet', 'diam', 'id', 'faucibus', 'metus', 'aen', 'tempus', 'sem', 'ac', 'dui', 'commod', 'finibus', 'fusc', 'ac', 'tempor', 'dui', 'fusc', 'dictum', 'volutpat', 'tellus', 'et', 'aliquet', 'orci', 'varius', 'natoqu', 'penatibus', 'et', 'magnis', 'dis', 'parturient', 'mont', 'nascetur', 'ridiculus', 'mus', 'nam', 'non', 'nisl', 'pellentesqu', 'habitant', 'morbi', 'tristiqu', 'senectus', 'et', 'netus', 'et', 'malesu', 'fam', 'ac', 'turpis', 'egest', 'curabitur', 'ac', 'ex', 'quisqu', 'feugiat', 'mauris', 'at', 'dui', 'sodal', 'venenatis', 'aliquam', 'sit', 'amet', 'dui', 'ac', 'dolor', 'condimentum', 'facilisis', 'sit', 'amet', 'non', 'lorem', 'integ', 'efficitur', 'vel', 'risus', 'at', 'feugiat', 'nunc', 'tortor', 'ligul', 'tristiqu', 'in', 'mattis', 'suscipit', 'blandit', 'vita', 'leo', 'in', 'lobortis', 'convallis', 'quam', 'ac', 'vehicul', 'ex', 'pretium', 'vita', 'integ', 'eleifend', 'nisi', 'eget', 'posuer', 'placerat']\n"
     ]
    }
   ],
   "source": [
    "# 4. Stemming\n",
    "stemmer = SnowballStemmer('spanish')\n",
    "stemmed_words = [stemmer.stem(word) for word in normalized_words]\n",
    "print(\"\\nStemming:\\n\", stemmed_words)"
   ]
  },
  {
   "cell_type": "code",
   "execution_count": 21,
   "metadata": {},
   "outputs": [
    {
     "name": "stdout",
     "output_type": "stream",
     "text": [
      "\n",
      "Lemmatization:\n",
      " ['lorem', 'ipsum', 'dolor', 'sit', 'amet', 'consectetur', 'adipiscing', 'elit', 'integer', 'ut', 'justo', 'nec', 'nulla', 'auctor', 'sollicitudin', 'vitae', 'sit', 'amet', 'tellus', 'suspendisse', 'mollis', 'tellus', 'eu', 'nisl', 'volutpat', 'sodales', 'aenean', 'ornare', 'eget', 'ligula', 'ut', 'iaculis', 'duis', 'placerat', 'nec', 'nisl', 'vel', 'sodales', 'ut', 'pharetra', 'risus', 'ac', 'sem', 'faucibus', 'hendrerit', 'donec', 'vel', 'ultrices', 'massa', 'nunc', 'in', 'nibh', 'ac', 'orci', 'mollis', 'finibus', 'sed', 'non', 'purus', 'sit', 'amet', 'nunc', 'interdum', 'malesuada', 'eu', 'ac', 'ligula', 'morbi', 'vitae', 'leo', 'sit', 'amet', 'elit', 'tristique', 'scelerisque', 'praesent', 'lacinia', 'est', 'sed', 'congue', 'finibus', 'vivamus', 'ultrices', 'eros', 'nisi', 'id', 'facilisis', 'risus', 'porttitor', 'id', 'cras', 'lobortis', 'eros', 'tortor', 'gravida', 'malesuada', 'quam', 'vulputate', 'eu', 'sed', 'finibus', 'sem', 'libero', 'ac', 'rutrum', 'nisl', 'malesuada', 'at', 'etiam', 'maximus', 'est', 'est', 'non', 'fringilla', 'libero', 'lobortis', 'sed', 'nam', 'in', 'lorem', 'dignissim', 'egestas', 'ex', 'sed', 'efficitur', 'leo', 'ut', 'blandit', 'id', 'neque', 'quis', 'finibus', 'cras', 'et', 'scelerisque', 'est', 'morbi', 'luctus', 'nunc', 'nec', 'consequat', 'feugiat', 'purus', 'orci', 'rutrum', 'mauris', 'vel', 'dapibus', 'sapien', 'massa', 'et', 'elit', 'maecenas', 'id', 'maximus', 'dolor', 'nec', 'congue', 'diam', 'donec', 'fermentum', 'auctor', 'blandit', 'vestibulum', 'aliquet', 'orci', 'eget', 'tincidunt', 'sem', 'consequat', 'sed', 'integer', 'euismod', 'ligula', 'sit', 'amet', 'eros', 'malesuada', 'sed', 'pulvinar', 'nibh', 'placerat', 'proin', 'bibendum', 'nibh', 'maximus', 'enim', 'venenatis', 'in', 'consequat', 'ipsum', 'egestas', 'suspendisse', 'potenti', 'donec', 'tempus', 'mauris', 'at', 'lorem', 'ultrices', 'accumsan', 'in', 'eleifend', 'nisi', 'eu', 'blandit', 'vestibulum', 'ex', 'arcu', 'eleifend', 'nisl', 'quis', 'maximus', 'magna', 'nunc', 'nec', 'tellus', 'suspendisse', 'viverra', 'eu', 'sapien', 'sit', 'amet', 'posuere', 'donec', 'aliquam', 'sem', 'eu', 'lectus', 'sollicitudin', 'sed', 'vehicula', 'eros', 'pellentesque', 'phasellus', 'est', 'nibh', 'eleifend', 'ut', 'orci', 'et', 'rhoncus', 'sodales', 'neque', 'aenean', 'mollis', 'convallis', 'duo', 'et', 'fermentum', 'lorem', 'maximus', 'eu', 'donec', 'sed', 'scelerisque', 'mauris', 'vitae', 'dictum', 'magna', 'sed', 'quis', 'aliquet', 'erat', 'nullam', 'vitae', 'metus', 'nibh', 'suspendisse', 'odio', 'nulla', 'condimentum', 'eget', 'nibh', 'ut', 'lacinia', 'pharetra', 'nibh', 'aenean', 'sed', 'augue', 'pulvinar', 'vehicula', 'libero', 'et', 'molestie', 'dolor', 'donec', 'ut', 'sapien', 'id', 'diam', 'finibus', 'iaculis', 'ut', 'commodo', 'justo', 'vel', 'leo', 'luctus', 'aliquam', 'in', 'risus', 'sed', 'felis', 'est', 'semper', 'non', 'ornare', 'at', 'accumsan', 'eget', 'libero', 'quisque', 'tincidunt', 'duo', 'quis', 'consequat', 'accumsan', 'tellus', 'libero', 'aliquet', 'elit', 'vitae', 'porta', 'velit', 'quam', 'eu', 'ligula', 'integer', 'ut', 'odio', 'leo', 'aliquam', 'sodales', 'consectetur', 'erat', 'placerat', 'proin', 'ullamcorper', 'facilisis', 'feugiat', 'vivamus', 'ac', 'varius', 'tellus', 'donec', 'dignissim', 'ac', 'nunc', 'vel', 'vestibulum', 'donec', 'felis', 'pretium', 'aliquet', 'diam', 'id', 'faucibus', 'metus', 'aenean', 'tempus', 'sem', 'ac', 'duo', 'commodo', 'finibus', 'fusce', 'ac', 'tempor', 'duo', 'fusce', 'dictum', 'volutpat', 'tellus', 'et', 'aliquet', 'orci', 'varius', 'natoque', 'penatibus', 'et', 'magnis', 'dis', 'parturient', 'monte', 'nascetur', 'ridiculus', 'mu', 'nam', 'non', 'nisl', 'pellentesque', 'habitant', 'morbi', 'tristique', 'senectus', 'et', 'netus', 'et', 'malesuada', 'fame', 'ac', 'turpis', 'egestas', 'curabitur', 'ac', 'ex', 'quisque', 'feugiat', 'mauris', 'at', 'duo', 'sodales', 'venenatis', 'aliquam', 'sit', 'amet', 'duo', 'ac', 'dolor', 'condimentum', 'facilisis', 'sit', 'amet', 'non', 'lorem', 'integer', 'efficitur', 'vel', 'risus', 'at', 'feugiat', 'nunc', 'tortor', 'ligula', 'tristique', 'in', 'mattis', 'suscipit', 'blandit', 'vitae', 'leo', 'in', 'lobortis', 'convallis', 'quam', 'ac', 'vehicula', 'ex', 'pretium', 'vitae', 'integer', 'eleifend', 'nisi', 'eget', 'posuere', 'placerat']\n"
     ]
    }
   ],
   "source": [
    "# 5. Lemmatization\n",
    "lemmatizer = WordNetLemmatizer()\n",
    "lemmatized_words = [lemmatizer.lemmatize(word) for word in normalized_words]\n",
    "print(\"\\nLemmatization:\\n\", lemmatized_words)"
   ]
  },
  {
   "cell_type": "code",
   "execution_count": 22,
   "metadata": {},
   "outputs": [
    {
     "name": "stdout",
     "output_type": "stream",
     "text": [
      "\n",
      "Sentence segmentation:\n",
      " ['Lorem ipsum dolor sit amet, consectetur adipiscing elit.', 'Integer ut justo nec nulla auctor sollicitudin vitae sit amet tellus.', 'Suspendisse mollis tellus eu nisl volutpat sodales.', 'Aenean ornare eget ligula ut iaculis.', 'Duis placerat nec nisl vel sodales.', 'Ut pharetra risus ac sem faucibus hendrerit.', 'Donec vel ultrices massa.', 'Nunc in nibh ac orci mollis finibus.', 'Sed non purus sit amet nunc interdum malesuada eu ac ligula.', 'Morbi vitae leo sit amet elit tristique scelerisque.', 'Praesent lacinia est sed congue finibus.', 'Vivamus ultrices eros nisi, id facilisis risus porttitor id.', 'Cras lobortis eros tortor, gravida malesuada quam vulputate eu.', 'Sed finibus sem libero, ac rutrum nisl malesuada at.', 'Etiam maximus est est, non fringilla libero lobortis sed.', 'Nam in lorem dignissim, egestas ex sed, efficitur leo.', 'Ut blandit id neque quis finibus.', 'Cras et scelerisque est.', 'Morbi luctus, nunc nec consequat feugiat, purus orci rutrum mauris, vel dapibus sapien massa et elit.', 'Maecenas id maximus dolor, nec congue diam.', 'Donec fermentum auctor blandit.', 'Vestibulum aliquet mi orci, eget tincidunt sem consequat sed.', 'Integer euismod ligula sit amet eros malesuada, sed pulvinar nibh placerat.', 'Proin bibendum nibh maximus enim venenatis, in consequat ipsum egestas.', 'Suspendisse potenti.', 'Donec tempus mauris at lorem ultrices accumsan.', 'In eleifend, nisi eu blandit vestibulum, ex arcu eleifend nisl, quis maximus magna nunc nec tellus.', 'Suspendisse viverra eu sapien sit amet posuere.', 'Donec aliquam sem eu lectus sollicitudin, sed vehicula eros pellentesque.', 'Phasellus est nibh, eleifend ut orci et, rhoncus sodales neque.', 'Aenean mollis convallis dui, et fermentum lorem maximus eu.', 'Donec sed scelerisque mauris, vitae dictum magna.', 'Sed quis aliquet erat.', 'Nullam vitae metus nibh.', 'Suspendisse odio nulla, condimentum eget nibh ut, lacinia pharetra nibh.', 'Aenean sed augue pulvinar, vehicula libero et, molestie dolor.', 'Donec ut sapien id diam finibus iaculis.', 'Ut commodo justo vel leo luctus aliquam in a risus.', 'Sed felis est, semper non ornare at, accumsan eget libero.', 'Quisque tincidunt, dui quis consequat accumsan, tellus libero aliquet elit, vitae porta velit quam eu ligula.', 'Integer ut odio leo.', 'Aliquam sodales consectetur erat a placerat.', 'Proin ullamcorper facilisis feugiat.', 'Vivamus ac varius tellus.', 'Donec dignissim ac nunc vel vestibulum.', 'Donec a felis pretium, aliquet diam id, faucibus metus.', 'Aenean tempus sem ac dui commodo finibus.', 'Fusce ac tempor dui.', 'Fusce dictum volutpat tellus et aliquet.', 'Orci varius natoque penatibus et magnis dis parturient montes, nascetur ridiculus mus.', 'Nam non nisl ante.', 'Pellentesque habitant morbi tristique senectus et netus et malesuada fames ac turpis egestas.', 'Curabitur ac ex ante.', 'Quisque feugiat mauris at dui sodales venenatis.', 'Aliquam sit amet dui ac dolor condimentum facilisis sit amet non lorem.', 'Integer efficitur vel risus at feugiat.', 'Nunc tortor ligula, tristique in mattis suscipit, blandit vitae leo.', 'In lobortis convallis quam, ac vehicula ex pretium vitae.', 'Integer eleifend nisi eget posuere placerat.']\n"
     ]
    }
   ],
   "source": [
    "# 6. Sentence segmentation\n",
    "sentences = sent_tokenize(text)\n",
    "print(\"\\nSentence segmentation:\\n\", sentences)"
   ]
  },
  {
   "cell_type": "code",
   "execution_count": null,
   "metadata": {},
   "outputs": [
    {
     "name": "stderr",
     "output_type": "stream",
     "text": [
      "[nltk_data] Downloading package averaged_perceptron_tagger to\n",
      "[nltk_data]     C:\\Users\\manue\\AppData\\Roaming\\nltk_data...\n",
      "[nltk_data]   Package averaged_perceptron_tagger is already up-to-\n",
      "[nltk_data]       date!\n"
     ]
    },
    {
     "ename": "LookupError",
     "evalue": "\n**********************************************************************\n  Resource \u001b[93maveraged_perceptron_tagger_eng\u001b[0m not found.\n  Please use the NLTK Downloader to obtain the resource:\n\n  \u001b[31m>>> import nltk\n  >>> nltk.download('averaged_perceptron_tagger_eng')\n  \u001b[0m\n  For more information see: https://www.nltk.org/data.html\n\n  Attempted to load \u001b[93mtaggers/averaged_perceptron_tagger_eng/\u001b[0m\n\n  Searched in:\n    - 'C:\\\\Users\\\\manue/nltk_data'\n    - 'c:\\\\Users\\\\manue\\\\University\\\\.venv\\\\nltk_data'\n    - 'c:\\\\Users\\\\manue\\\\University\\\\.venv\\\\share\\\\nltk_data'\n    - 'c:\\\\Users\\\\manue\\\\University\\\\.venv\\\\lib\\\\nltk_data'\n    - 'C:\\\\Users\\\\manue\\\\AppData\\\\Roaming\\\\nltk_data'\n    - 'C:\\\\nltk_data'\n    - 'D:\\\\nltk_data'\n    - 'E:\\\\nltk_data'\n**********************************************************************\n",
     "output_type": "error",
     "traceback": [
      "\u001b[1;31m---------------------------------------------------------------------------\u001b[0m",
      "\u001b[1;31mLookupError\u001b[0m                               Traceback (most recent call last)",
      "Cell \u001b[1;32mIn[24], line 3\u001b[0m\n\u001b[0;32m      1\u001b[0m \u001b[38;5;66;03m# 7. PoS Tagging\u001b[39;00m\n\u001b[0;32m      2\u001b[0m nltk\u001b[38;5;241m.\u001b[39mdownload(\u001b[38;5;124m'\u001b[39m\u001b[38;5;124maveraged_perceptron_tagger\u001b[39m\u001b[38;5;124m'\u001b[39m)\n\u001b[1;32m----> 3\u001b[0m pos_tags \u001b[38;5;241m=\u001b[39m \u001b[43mpos_tag\u001b[49m\u001b[43m(\u001b[49m\u001b[43mtokens\u001b[49m\u001b[43m)\u001b[49m\n\u001b[0;32m      4\u001b[0m \u001b[38;5;28mprint\u001b[39m(\u001b[38;5;124m\"\u001b[39m\u001b[38;5;130;01m\\n\u001b[39;00m\u001b[38;5;124mPoS Tagging:\u001b[39m\u001b[38;5;130;01m\\n\u001b[39;00m\u001b[38;5;124m\"\u001b[39m, pos_tags)\n",
      "File \u001b[1;32mc:\\Users\\manue\\University\\.venv\\Lib\\site-packages\\nltk\\tag\\__init__.py:168\u001b[0m, in \u001b[0;36mpos_tag\u001b[1;34m(tokens, tagset, lang)\u001b[0m\n\u001b[0;32m    143\u001b[0m \u001b[38;5;28;01mdef\u001b[39;00m \u001b[38;5;21mpos_tag\u001b[39m(tokens, tagset\u001b[38;5;241m=\u001b[39m\u001b[38;5;28;01mNone\u001b[39;00m, lang\u001b[38;5;241m=\u001b[39m\u001b[38;5;124m\"\u001b[39m\u001b[38;5;124meng\u001b[39m\u001b[38;5;124m\"\u001b[39m):\n\u001b[0;32m    144\u001b[0m \u001b[38;5;250m    \u001b[39m\u001b[38;5;124;03m\"\"\"\u001b[39;00m\n\u001b[0;32m    145\u001b[0m \u001b[38;5;124;03m    Use NLTK's currently recommended part of speech tagger to\u001b[39;00m\n\u001b[0;32m    146\u001b[0m \u001b[38;5;124;03m    tag the given list of tokens.\u001b[39;00m\n\u001b[1;32m   (...)\u001b[0m\n\u001b[0;32m    166\u001b[0m \u001b[38;5;124;03m    :rtype: list(tuple(str, str))\u001b[39;00m\n\u001b[0;32m    167\u001b[0m \u001b[38;5;124;03m    \"\"\"\u001b[39;00m\n\u001b[1;32m--> 168\u001b[0m     tagger \u001b[38;5;241m=\u001b[39m \u001b[43m_get_tagger\u001b[49m\u001b[43m(\u001b[49m\u001b[43mlang\u001b[49m\u001b[43m)\u001b[49m\n\u001b[0;32m    169\u001b[0m     \u001b[38;5;28;01mreturn\u001b[39;00m _pos_tag(tokens, tagset, tagger, lang)\n",
      "File \u001b[1;32mc:\\Users\\manue\\University\\.venv\\Lib\\site-packages\\nltk\\tag\\__init__.py:110\u001b[0m, in \u001b[0;36m_get_tagger\u001b[1;34m(lang)\u001b[0m\n\u001b[0;32m    108\u001b[0m     tagger \u001b[38;5;241m=\u001b[39m PerceptronTagger(lang\u001b[38;5;241m=\u001b[39mlang)\n\u001b[0;32m    109\u001b[0m \u001b[38;5;28;01melse\u001b[39;00m:\n\u001b[1;32m--> 110\u001b[0m     tagger \u001b[38;5;241m=\u001b[39m \u001b[43mPerceptronTagger\u001b[49m\u001b[43m(\u001b[49m\u001b[43m)\u001b[49m\n\u001b[0;32m    111\u001b[0m \u001b[38;5;28;01mreturn\u001b[39;00m tagger\n",
      "File \u001b[1;32mc:\\Users\\manue\\University\\.venv\\Lib\\site-packages\\nltk\\tag\\perceptron.py:183\u001b[0m, in \u001b[0;36mPerceptronTagger.__init__\u001b[1;34m(self, load, lang)\u001b[0m\n\u001b[0;32m    181\u001b[0m \u001b[38;5;28mself\u001b[39m\u001b[38;5;241m.\u001b[39mclasses \u001b[38;5;241m=\u001b[39m \u001b[38;5;28mset\u001b[39m()\n\u001b[0;32m    182\u001b[0m \u001b[38;5;28;01mif\u001b[39;00m load:\n\u001b[1;32m--> 183\u001b[0m     \u001b[38;5;28;43mself\u001b[39;49m\u001b[38;5;241;43m.\u001b[39;49m\u001b[43mload_from_json\u001b[49m\u001b[43m(\u001b[49m\u001b[43mlang\u001b[49m\u001b[43m)\u001b[49m\n",
      "File \u001b[1;32mc:\\Users\\manue\\University\\.venv\\Lib\\site-packages\\nltk\\tag\\perceptron.py:273\u001b[0m, in \u001b[0;36mPerceptronTagger.load_from_json\u001b[1;34m(self, lang)\u001b[0m\n\u001b[0;32m    271\u001b[0m \u001b[38;5;28;01mdef\u001b[39;00m \u001b[38;5;21mload_from_json\u001b[39m(\u001b[38;5;28mself\u001b[39m, lang\u001b[38;5;241m=\u001b[39m\u001b[38;5;124m\"\u001b[39m\u001b[38;5;124meng\u001b[39m\u001b[38;5;124m\"\u001b[39m):\n\u001b[0;32m    272\u001b[0m     \u001b[38;5;66;03m# Automatically find path to the tagger if location is not specified.\u001b[39;00m\n\u001b[1;32m--> 273\u001b[0m     loc \u001b[38;5;241m=\u001b[39m \u001b[43mfind\u001b[49m\u001b[43m(\u001b[49m\u001b[38;5;124;43mf\u001b[39;49m\u001b[38;5;124;43m\"\u001b[39;49m\u001b[38;5;124;43mtaggers/averaged_perceptron_tagger_\u001b[39;49m\u001b[38;5;132;43;01m{\u001b[39;49;00m\u001b[43mlang\u001b[49m\u001b[38;5;132;43;01m}\u001b[39;49;00m\u001b[38;5;124;43m/\u001b[39;49m\u001b[38;5;124;43m\"\u001b[39;49m\u001b[43m)\u001b[49m\n\u001b[0;32m    274\u001b[0m     \u001b[38;5;28;01mwith\u001b[39;00m \u001b[38;5;28mopen\u001b[39m(loc \u001b[38;5;241m+\u001b[39m TAGGER_JSONS[lang][\u001b[38;5;124m\"\u001b[39m\u001b[38;5;124mweights\u001b[39m\u001b[38;5;124m\"\u001b[39m]) \u001b[38;5;28;01mas\u001b[39;00m fin:\n\u001b[0;32m    275\u001b[0m         \u001b[38;5;28mself\u001b[39m\u001b[38;5;241m.\u001b[39mmodel\u001b[38;5;241m.\u001b[39mweights \u001b[38;5;241m=\u001b[39m json\u001b[38;5;241m.\u001b[39mload(fin)\n",
      "File \u001b[1;32mc:\\Users\\manue\\University\\.venv\\Lib\\site-packages\\nltk\\data.py:579\u001b[0m, in \u001b[0;36mfind\u001b[1;34m(resource_name, paths)\u001b[0m\n\u001b[0;32m    577\u001b[0m sep \u001b[38;5;241m=\u001b[39m \u001b[38;5;124m\"\u001b[39m\u001b[38;5;124m*\u001b[39m\u001b[38;5;124m\"\u001b[39m \u001b[38;5;241m*\u001b[39m \u001b[38;5;241m70\u001b[39m\n\u001b[0;32m    578\u001b[0m resource_not_found \u001b[38;5;241m=\u001b[39m \u001b[38;5;124mf\u001b[39m\u001b[38;5;124m\"\u001b[39m\u001b[38;5;130;01m\\n\u001b[39;00m\u001b[38;5;132;01m{\u001b[39;00msep\u001b[38;5;132;01m}\u001b[39;00m\u001b[38;5;130;01m\\n\u001b[39;00m\u001b[38;5;132;01m{\u001b[39;00mmsg\u001b[38;5;132;01m}\u001b[39;00m\u001b[38;5;130;01m\\n\u001b[39;00m\u001b[38;5;132;01m{\u001b[39;00msep\u001b[38;5;132;01m}\u001b[39;00m\u001b[38;5;130;01m\\n\u001b[39;00m\u001b[38;5;124m\"\u001b[39m\n\u001b[1;32m--> 579\u001b[0m \u001b[38;5;28;01mraise\u001b[39;00m \u001b[38;5;167;01mLookupError\u001b[39;00m(resource_not_found)\n",
      "\u001b[1;31mLookupError\u001b[0m: \n**********************************************************************\n  Resource \u001b[93maveraged_perceptron_tagger_eng\u001b[0m not found.\n  Please use the NLTK Downloader to obtain the resource:\n\n  \u001b[31m>>> import nltk\n  >>> nltk.download('averaged_perceptron_tagger_eng')\n  \u001b[0m\n  For more information see: https://www.nltk.org/data.html\n\n  Attempted to load \u001b[93mtaggers/averaged_perceptron_tagger_eng/\u001b[0m\n\n  Searched in:\n    - 'C:\\\\Users\\\\manue/nltk_data'\n    - 'c:\\\\Users\\\\manue\\\\University\\\\.venv\\\\nltk_data'\n    - 'c:\\\\Users\\\\manue\\\\University\\\\.venv\\\\share\\\\nltk_data'\n    - 'c:\\\\Users\\\\manue\\\\University\\\\.venv\\\\lib\\\\nltk_data'\n    - 'C:\\\\Users\\\\manue\\\\AppData\\\\Roaming\\\\nltk_data'\n    - 'C:\\\\nltk_data'\n    - 'D:\\\\nltk_data'\n    - 'E:\\\\nltk_data'\n**********************************************************************\n"
     ]
    }
   ],
   "source": [
    "# 7. PoS Tagging\n",
    "# pos_tags = pos_tag(tokens)\n",
    "# print(\"\\nPoS Tagging:\\n\", pos_tags)\n",
    "# Not working with nltk because only accepts English language\n",
    "\n",
    "# 7. PoS Tagging with Spacy\n",
    "nlp = spacy.load('en_core_web_sm')\n",
    "doc = nlp(text)\n",
    "pos_tags = [(word.text, word.pos_) for word in doc]\n",
    "print(\"\\nPoS Tagging with Spacy:\\n\", pos_tags)"
   ]
  },
  {
   "cell_type": "code",
   "execution_count": null,
   "metadata": {},
   "outputs": [],
   "source": [
    "# 8. Named Entity Recognition (NER)\n",
    "# ner_tags = ne_chunk(pos_tags)\n",
    "# print(\"\\nNamed Entity Recognition (NER):\\n\", ner_tags)\n",
    "\n",
    "# 8.NER with Spacy\n",
    "ner_tags = [(ent.text, ent.label_) for ent in doc.ents]\n",
    "print(\"\\nNamed Entity Recognition (NER) with Spacy:\\n\", ner_tags)"
   ]
  }
 ],
 "metadata": {
  "kernelspec": {
   "display_name": ".venv",
   "language": "python",
   "name": "python3"
  },
  "language_info": {
   "codemirror_mode": {
    "name": "ipython",
    "version": 3
   },
   "file_extension": ".py",
   "mimetype": "text/x-python",
   "name": "python",
   "nbconvert_exporter": "python",
   "pygments_lexer": "ipython3",
   "version": "3.13.0"
  }
 },
 "nbformat": 4,
 "nbformat_minor": 2
}
