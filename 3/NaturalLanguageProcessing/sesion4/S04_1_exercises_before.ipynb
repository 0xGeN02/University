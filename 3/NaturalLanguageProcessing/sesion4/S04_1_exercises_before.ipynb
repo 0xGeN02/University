{
 "cells": [
  {
   "cell_type": "markdown",
   "metadata": {},
   "source": [
    "# Tokenization\n",
    "\n",
    "Split a text into words."
   ]
  },
  {
   "cell_type": "code",
   "execution_count": 5,
   "metadata": {},
   "outputs": [
    {
     "name": "stdout",
     "output_type": "stream",
     "text": [
      "  OBRAS COMPLETAS\n",
      "  DE\n",
      "  ROSALÍA DE CASTRO\n",
      "\n",
      "  II\n",
      "\n",
      "_Á Fernán Caballero._\n",
      "\n",
      "\n",
      "_Señora: Por ser mujer y autora de unas novelas hacia las cuales\n",
      "siento la más profunda simpatía, dedico á usted este libro. Sirva él\n",
      "para demostrar á la autora de =La Gaviota= y de =Clemencia= el grande\n",
      "aprecio que la profeso, entre otras cosas, por haberse apartado algún\n",
      "tanto, en las cortas páginas en que se ocupó de Galicia, de las\n",
      "vulgares preocupaciones con que se pretende manchar mi país._\n",
      "\n",
      "_Santiago, 17 de mayo de\n"
     ]
    }
   ],
   "source": [
    "# Import file: /home/xgen0/University/3/NaturalLanguageProcessing/sesion4/cantares_gallegos.txt\n",
    "file_path = '/home/xgen0/University/3/NaturalLanguageProcessing/sesion4/cantares_gallegos.txt'\n",
    "\n",
    "with open(file_path, 'r', encoding='utf-8') as file:\n",
    "    text = file.read()\n",
    "\n",
    "print(text[:500])  # Print the first 500 characters of the file to verify the content"
   ]
  },
  {
   "cell_type": "code",
   "execution_count": 11,
   "metadata": {},
   "outputs": [
    {
     "name": "stdout",
     "output_type": "stream",
     "text": [
      "['\\ufeff', 'OBRAS', 'COMPLETAS', 'DE', 'ROSALÍA', 'DE', 'CASTRO', 'II', '_Á', 'Fernán']\n"
     ]
    }
   ],
   "source": [
    "# 1 Exercise: Split the file cantares_gallegos.txt into words. \n",
    "split_words = text.split()\n",
    "print(split_words[:10])"
   ]
  },
  {
   "cell_type": "code",
   "execution_count": 12,
   "metadata": {},
   "outputs": [
    {
     "name": "stdout",
     "output_type": "stream",
     "text": [
      "[('\\ufeff', 1), ('OBRAS', 1), ('COMPLETAS', 1), ('DE', 4), ('ROSALÍA', 2), ('CASTRO', 3), ('II', 17), ('_Á', 4), ('Fernán', 1), ('Caballero._', 1)]\n"
     ]
    }
   ],
   "source": [
    "# 2 Exercise: Count the number of ocurrences of each word in the file cantares_gallegos.txt.\n",
    "words_counter = {}\n",
    "for word in split_words:\n",
    "    if word in words_counter:\n",
    "        words_counter[word] += 1\n",
    "    else:\n",
    "        words_counter[word] = 1\n",
    "print(list(words_counter.items())[:10])"
   ]
  },
  {
   "cell_type": "code",
   "execution_count": 13,
   "metadata": {},
   "outputs": [
    {
     "name": "stdout",
     "output_type": "stream",
     "text": [
      "[('de', 512), ('que', 441), ('á', 425), ('ó', 286), ('d’', 264), ('e', 256), ('os', 202), ('as', 189), ('Que', 189), ('Qu’', 189), ('—', 182), ('un', 171), ('qu’', 167), ('E', 167), ('en', 166), ('the', 160), ('non', 139), ('se', 138), ('tan', 118), ('por', 109)]\n"
     ]
    }
   ],
   "source": [
    "# 3 Exercise: Order the words by number of ocurrences in the file cantares_gallegos.txt and print the 20 most common words.\n",
    "word_orderer = sorted(words_counter.items(), key=lambda x: x[1], reverse=True)\n",
    "print(word_orderer[:20])"
   ]
  }
 ],
 "metadata": {
  "kernelspec": {
   "display_name": "Python 3",
   "language": "python",
   "name": "python3"
  },
  "language_info": {
   "codemirror_mode": {
    "name": "ipython",
    "version": 3
   },
   "file_extension": ".py",
   "mimetype": "text/x-python",
   "name": "python",
   "nbconvert_exporter": "python",
   "pygments_lexer": "ipython3",
   "version": "3.13.1"
  }
 },
 "nbformat": 4,
 "nbformat_minor": 2
}
