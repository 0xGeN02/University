{
 "cells": [
  {
   "cell_type": "markdown",
   "metadata": {},
   "source": [
    "# Tokenization\n",
    "\n",
    "Split a text into words."
   ]
  },
  {
   "cell_type": "code",
   "execution_count": null,
   "metadata": {},
   "outputs": [],
   "source": [
    "# 1 Exercise: Split the file cantares_gallegos.txt into words. \n",
    "\n",
    "# 2 Exercise: Count the number of ocurrences of each word in the file cantares_gallegos.txt.\n",
    "\n",
    "# 3 Exercise: Order the words by number of ocurrences in the file cantares_gallegos.txt and print the 20 most common words."
   ]
  }
 ],
 "metadata": {
  "kernelspec": {
   "display_name": "Python 3",
   "language": "python",
   "name": "python3"
  },
  "language_info": {
   "name": "python",
   "version": "3.12.0"
  }
 },
 "nbformat": 4,
 "nbformat_minor": 2
}
