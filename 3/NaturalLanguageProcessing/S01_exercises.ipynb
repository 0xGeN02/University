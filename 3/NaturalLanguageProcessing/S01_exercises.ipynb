{
 "cells": [
  {
   "cell_type": "markdown",
   "metadata": {},
   "source": [
    "# Python exercises related with NLP\n",
    "\n",
    "This is a level test exercise. The purpose is to get your level in python programming oriented to NLP. \n",
    "\n",
    "Solve (and test) the next exercises in the block below each topic. **Use your python expertise and official python manual ONLY**: [https://docs.python.org/3/](https://docs.python.org/3/). The teachers are on the classroom to help.\n"
   ]
  },
  {
   "cell_type": "markdown",
   "metadata": {},
   "source": [
    "## Topic 1: Working with Strings\n",
    "\n",
    "1. Write a program that takes a string input from the user and prints the length of the string.\n",
    "2. Create a program that converts a given string to uppercase.\n",
    "3. Write a function that checks if a string contains only alphabets.\n",
    "4. Reverse a string without using slicing (e.g., string[::-1]).\n",
    "5. Count how many times a specific character appears in a string.\n",
    "6. Write a function that takes two strings and checks if they are anagrams.\n",
    "7. Implement a function that removes all vowels from a given string.\n",
    "8. Write a function that checks if a string is a palindrome (case-insensitive).\n",
    "9. Given a string, return the first non-repeating character.\n",
    "10. Create a function that capitalizes the first letter of each word in a string.\n",
    "11. Write a program to compress a string (e.g., \"aaabb\" -> \"a3b2\").\n",
    "12. Implement a function to find the longest substring without repeating characters.\n",
    "13. Write a program to check if a string can be rearranged into a palindrome.\n",
    "14. Implement a function that removes all duplicates from a string while preserving the order of characters.\n",
    "15. Write a function to find the longest common prefix among a list of strings.\n",
    "16. Implement a custom `split` function without using Python's built-in methods.\n",
    "17. Write a function to decode a given run-length encoded string (e.g., \"a3b2\" -> \"aaabb\").\n",
    "18. Implement a function to check if one string is a rotation of another.\n",
    "19. Create a function to find all permutations of a given string.\n",
    "20. Write a function to implement a basic version of the `str.index` method."
   ]
  },
  {
   "cell_type": "code",
   "execution_count": 1,
   "metadata": {},
   "outputs": [
    {
     "name": "stdout",
     "output_type": "stream",
     "text": [
      "11\n"
     ]
    }
   ],
   "source": [
    "# 1 takes a string input and prints the lengt of the string\n",
    "def string_length(string):\n",
    "    return len(string)\n",
    "\n",
    "print(string_length(\"Hello World\"))"
   ]
  },
  {
   "cell_type": "code",
   "execution_count": 2,
   "metadata": {},
   "outputs": [
    {
     "name": "stdout",
     "output_type": "stream",
     "text": [
      "HELLO WORLD\n"
     ]
    }
   ],
   "source": [
    "# 2. Create a program that converts a given string to uppercase.\n",
    "def string_uppercase(string):\n",
    "    return string.upper()\n",
    "\n",
    "print(string_uppercase(\"hello world\"))"
   ]
  },
  {
   "cell_type": "code",
   "execution_count": 3,
   "metadata": {},
   "outputs": [
    {
     "name": "stdout",
     "output_type": "stream",
     "text": [
      "False\n",
      "True\n",
      "False\n"
     ]
    }
   ],
   "source": [
    "# 3. Write a function that checks if a string contains only alphabets.\n",
    "def string_alpha(string):\n",
    "    return string.isalpha()\n",
    "\n",
    "print(string_alpha(\"hello world\"))\n",
    "print(string_alpha(\"hello\"))\n",
    "print(string_alpha(\"hello123\"))"
   ]
  },
  {
   "cell_type": "code",
   "execution_count": 4,
   "metadata": {},
   "outputs": [
    {
     "name": "stdout",
     "output_type": "stream",
     "text": [
      "dlrow olleh\n"
     ]
    }
   ],
   "source": [
    "# 4. Reverse a string without using slicing (e.g., string[::-1]).\n",
    "def string_reverse(string):\n",
    "    return \"\".join(reversed(string))\n",
    "\n",
    "print(string_reverse(\"hello world\"))"
   ]
  },
  {
   "cell_type": "code",
   "execution_count": 5,
   "metadata": {},
   "outputs": [
    {
     "name": "stdout",
     "output_type": "stream",
     "text": [
      "3\n",
      "2\n",
      "0\n"
     ]
    }
   ],
   "source": [
    "# 5. Count how many times a specific character appears in a string.\n",
    "def string_count(string, char):\n",
    "    return string.count(char)\n",
    "\n",
    "print(string_count(\"hello world\", \"l\"))\n",
    "print(string_count(\"hello world\", \"o\"))\n",
    "print(string_count(\"hello world\", \"z\"))"
   ]
  },
  {
   "cell_type": "code",
   "execution_count": 6,
   "metadata": {},
   "outputs": [
    {
     "name": "stdout",
     "output_type": "stream",
     "text": [
      "True\n",
      "False\n"
     ]
    }
   ],
   "source": [
    "# 6. Write a function that takes two strings and checks if they are anagrams.\n",
    "def string_anagram(string1, string2):\n",
    "    return sorted(string1) == sorted(string2)\n",
    "\n",
    "print(string_anagram(\"listen\", \"silent\"))\n",
    "print(string_anagram(\"hello\", \"world\"))"
   ]
  },
  {
   "cell_type": "code",
   "execution_count": 7,
   "metadata": {},
   "outputs": [
    {
     "name": "stdout",
     "output_type": "stream",
     "text": [
      "hll wrld\n"
     ]
    }
   ],
   "source": [
    "# 7. Implement a function that removes all vowels from a given string.\n",
    "def remove_vowels(string):\n",
    "    vowels = \"aeiouAEIOU\"\n",
    "    return ''.join([char for char in string if char not in vowels])\n",
    "\n",
    "print(remove_vowels(\"hello world\"))\n",
    "    "
   ]
  },
  {
   "cell_type": "code",
   "execution_count": 8,
   "metadata": {},
   "outputs": [
    {
     "name": "stdout",
     "output_type": "stream",
     "text": [
      "True\n",
      "False\n"
     ]
    }
   ],
   "source": [
    "# Write a function that checks if a string is a palindrome (case-insensitive).\n",
    "def is_palindrome(string):\n",
    "    if (string == string[::-1]):\n",
    "        return True\n",
    "    else:\n",
    "        return False\n",
    "\n",
    "print(is_palindrome(\"reconocer\"))\n",
    "print(is_palindrome(\"hello\"))"
   ]
  },
  {
   "cell_type": "code",
   "execution_count": 9,
   "metadata": {},
   "outputs": [
    {
     "name": "stdout",
     "output_type": "stream",
     "text": [
      "h\n",
      "o\n"
     ]
    }
   ],
   "source": [
    "# 9. Given a string, return the first non-repeating character.\n",
    "def first_non_repeating_char(s):\n",
    "    char_count = {} \n",
    "    for char in s: \n",
    "        if char in char_count: \n",
    "            char_count[char] = char_count.get(char, 0) + 1 \n",
    "        else: \n",
    "            char_count[char] = 1\n",
    "    for char in s: \n",
    "        if char_count[char] == 1: \n",
    "            return char \n",
    "    return None\n",
    "    \n",
    "print(first_non_repeating_char(\"hello\"))\n",
    "print(first_non_repeating_char(\"llot\"))"
   ]
  },
  {
   "cell_type": "code",
   "execution_count": 10,
   "metadata": {},
   "outputs": [
    {
     "name": "stdout",
     "output_type": "stream",
     "text": [
      "Hello World\n"
     ]
    }
   ],
   "source": [
    "# 10. Create a function that capitalizes the first letter of each word in a string.\n",
    "def cap_first_letter(string):\n",
    "    return string.title()\n",
    "\n",
    "print(cap_first_letter(\"hello world\"))"
   ]
  },
  {
   "cell_type": "code",
   "execution_count": 11,
   "metadata": {},
   "outputs": [
    {
     "name": "stdout",
     "output_type": "stream",
     "text": [
      "a3b2\n",
      "h1e1l2o1 1w1o1r1l1d1\n"
     ]
    }
   ],
   "source": [
    "# 11. Write a program to compress a string (e.g., \"aaabb\" -> \"a3b2\").\n",
    "def compress_string(s): \n",
    "    compressed = [] \n",
    "    count = 1 \n",
    "    for i in range(1, len(s) + 1): \n",
    "        if i < len(s) and s[i] == s[i - 1]:\n",
    "            count += 1 \n",
    "        else: \n",
    "            compressed.append(s[i - 1] + str(count)) \n",
    "            count = 1 \n",
    "    return ''.join(compressed)\n",
    "\n",
    "print(compress_string(\"aaabb\"))\n",
    "print(compress_string(\"hello world\"))"
   ]
  },
  {
   "cell_type": "code",
   "execution_count": 1,
   "metadata": {},
   "outputs": [
    {
     "name": "stdout",
     "output_type": "stream",
     "text": [
      "6\n",
      "9\n"
     ]
    }
   ],
   "source": [
    "# 12. Implement a function to find the longest substring without repeating characters.\n",
    "def substring(string):\n",
    "    start = 0\n",
    "    max_length = 0\n",
    "    used_chars = {}\n",
    "    \n",
    "    for i, char in enumerate(string):\n",
    "        if char in used_chars and start <= used_chars[char]:\n",
    "            start = used_chars[char] + 1\n",
    "        else:\n",
    "            max_length = max(max_length, i - start + 1)\n",
    "        \n",
    "        used_chars[char] = i\n",
    "    \n",
    "    return max_length\n",
    "\n",
    "print(substring(\"hello world\"))\n",
    "print(substring(r'\\h [TGn] \\Wa\\+aaada\\W+ elloworld'))"
   ]
  },
  {
   "cell_type": "code",
   "execution_count": null,
   "metadata": {},
   "outputs": [
    {
     "name": "stdout",
     "output_type": "stream",
     "text": [
      "False\n",
      "True\n"
     ]
    }
   ],
   "source": [
    "# 13. Write a program to check if a string can be rearranged into a palindrome.\n",
    "def rearange_as_palindrome(string):\n",
    "    odd_count = 0 \n",
    "    char_counter = {}\n",
    "    for char in string:\n",
    "        char_counter[char] = char_counter.get(char, 0) + 1\n",
    "    for count in char_counter.values(): \n",
    "        if count % 2 != 0: \n",
    "            odd_count += 1\n",
    "    return odd_count <= 1\n",
    "\n",
    "print(rearange_as_palindrome(\"hello world\"))\n",
    "print(rearange_as_palindrome(\"cronoceer\"))"
   ]
  },
  {
   "cell_type": "code",
   "execution_count": 14,
   "metadata": {},
   "outputs": [
    {
     "name": "stdout",
     "output_type": "stream",
     "text": [
      "helo wrd\n"
     ]
    }
   ],
   "source": [
    "# 14. Implement a function that removes all duplicates from a string while preserving the order of characters.\n",
    "def remove_duplicated(string): \n",
    "    seen = set() \n",
    "    result = [] \n",
    "    for char in string: \n",
    "        if char not in seen: \n",
    "            seen.add(char) \n",
    "            result.append(char) \n",
    "    return ''.join(result)\n",
    "    \n",
    "print(remove_duplicated(\"hello world\"))        "
   ]
  },
  {
   "cell_type": "code",
   "execution_count": 15,
   "metadata": {},
   "outputs": [
    {
     "name": "stdout",
     "output_type": "stream",
     "text": [
      "Longest common prefix of ['flower', 'flow', 'flight']: 'fl'\n",
      "Longest common prefix of ['dog', 'racecar', 'car']: ''\n",
      "Longest common prefix of ['interspecies', 'interstellar', 'interstate']: 'inters'\n",
      "Longest common prefix of ['apple', 'ape', 'april']: 'ap'\n",
      "Longest common prefix of ['hello']: 'hello'\n",
      "Longest common prefix of []: ''\n"
     ]
    }
   ],
   "source": [
    "# 15. Write a function to find the longest common prefix among a list of strings.\n",
    "def longest_common_prefix(strings):\n",
    "    if not strings:\n",
    "        return \"\"\n",
    "    prefix = strings[0]\n",
    "    for s in strings[1:]:\n",
    "        while not s.startswith(prefix):\n",
    "            prefix = prefix[:-1]\n",
    "            if not prefix:\n",
    "                return \"\"\n",
    "    \n",
    "    return prefix\n",
    "\n",
    "test = [\n",
    "    [\"flower\", \"flow\", \"flight\"],\n",
    "    [\"dog\", \"racecar\", \"car\"],\n",
    "    [\"interspecies\", \"interstellar\", \"interstate\"],\n",
    "    [\"apple\", \"ape\", \"april\"],\n",
    "    [\"hello\"],\n",
    "    []\n",
    "]\n",
    "\n",
    "for strings in test:\n",
    "    result = longest_common_prefix(strings)\n",
    "    print(f\"Longest common prefix of {strings}: '{result}'\")"
   ]
  },
  {
   "cell_type": "code",
   "execution_count": 16,
   "metadata": {},
   "outputs": [
    {
     "name": "stdout",
     "output_type": "stream",
     "text": [
      "['hello', 'world', 'python']\n",
      "['a', 'b', 'c', 'd']\n",
      "['split', '', 'string']\n"
     ]
    }
   ],
   "source": [
    "# 16. Implement a custom `split` function without using Python's built-in methods.\n",
    "def custom_split(string, divisor):\n",
    "    result = []\n",
    "    current = \"\"\n",
    "    for char in string:\n",
    "        if char == divisor:\n",
    "            result.append(current)  \n",
    "            current = \"\"\n",
    "        else:\n",
    "            current += char  \n",
    "    result.append(current)\n",
    "    \n",
    "    return result\n",
    "\n",
    "# Test cases\n",
    "print(custom_split(\"hello,world,python\", \",\"))\n",
    "print(custom_split(\"a|b|c|d\", \"|\"))            \n",
    "print(custom_split(\"split  string\", \" \"))                       "
   ]
  },
  {
   "cell_type": "code",
   "execution_count": 17,
   "metadata": {},
   "outputs": [
    {
     "name": "stdout",
     "output_type": "stream",
     "text": [
      "aaabb\n",
      "cdddddee\n",
      "xxxxxxxxxxyyzzzz\n"
     ]
    }
   ],
   "source": [
    "# 17. Write a function to decode a given run-length encoded string (e.g., \"a3b2\" -> \"aaabb\").\n",
    "def decompress(string):\n",
    "    result = []\n",
    "    i = 0\n",
    "    \n",
    "    while i < len(string):\n",
    "        char = string[i]\n",
    "        \n",
    "        if char.isalpha():\n",
    "            j = i+1\n",
    "            num = \"\"\n",
    "            \n",
    "            while j < len(string) and string[j].isdigit():\n",
    "                num += string[j]\n",
    "                j += 1\n",
    "                \n",
    "            result.append(char * int(num))\n",
    "            i = j\n",
    "        else:\n",
    "            i += 1\n",
    "    return ''.join(result)\n",
    "\n",
    "print(decompress(\"a3b2\"))  \n",
    "print(decompress(\"c1d5e2\"))    \n",
    "print(decompress(\"x10y2z4\"))    "
   ]
  },
  {
   "cell_type": "code",
   "execution_count": 18,
   "metadata": {},
   "outputs": [
    {
     "name": "stdout",
     "output_type": "stream",
     "text": [
      "True\n"
     ]
    }
   ],
   "source": [
    "# 18. Implement a function to check if one string is a rotation of another.\n",
    "def isRotation(s1, s2):\n",
    "    if len(s1) != len(s2):\n",
    "        return False\n",
    "    return s1 in s2 + s2\n",
    "\n",
    "print(isRotation(\"hello\", \"lohel\"))"
   ]
  },
  {
   "cell_type": "code",
   "execution_count": 19,
   "metadata": {},
   "outputs": [
    {
     "name": "stdout",
     "output_type": "stream",
     "text": [
      "['abc', 'acb', 'bac', 'bca', 'cab', 'cba']\n"
     ]
    }
   ],
   "source": [
    "# 19. Create a function to find all permutations of a given string.\n",
    "def permutations(string):\n",
    "    if len(string) == 0:\n",
    "        return [\"\"]\n",
    "    result = []\n",
    "    for i in range(len(string)):\n",
    "        char = string[i]\n",
    "        rest = string[:i] + string[i+1:]\n",
    "        for perm in permutations(rest):\n",
    "            result.append(char + perm)\n",
    "    return result\n",
    "\n",
    "print(permutations(\"abc\"))"
   ]
  },
  {
   "cell_type": "code",
   "execution_count": 20,
   "metadata": {},
   "outputs": [
    {
     "name": "stdout",
     "output_type": "stream",
     "text": [
      "6\n"
     ]
    }
   ],
   "source": [
    "# 20. Write a function to implement a basic version of the `str.index` method.\n",
    "def custom_index(string, sub):\n",
    "    for i in range(len(string) - len(sub) + 1):\n",
    "        if string[i:i+len(sub)] == sub:\n",
    "            return i\n",
    "    return -1\n",
    "\n",
    "print(custom_index(\"hello world\", \"world\"))"
   ]
  },
  {
   "cell_type": "markdown",
   "metadata": {},
   "source": [
    "## Topic 2: Working with Dictionaries and Other Data Structures\n",
    "\n",
    "1. Create a dictionary to store the squares of numbers from 1 to 10.\n",
    "2. Write a program to merge two dictionaries.\n",
    "3. Implement a function to count the occurrences of each word in a given sentence.\n",
    "4. Create a dictionary from two lists: one for keys and one for values.\n",
    "5. Write a program to check if a given key exists in a dictionary.\n",
    "6. Implement a function to invert a dictionary (swap keys and values).\n",
    "7. Write a program to find the key with the highest value in a dictionary.\n",
    "8. Implement a function to sort a dictionary by its values.\n",
    "9. Write a program to remove all duplicate values from a list.\n",
    "10. Create a set containing unique elements from a list.\n",
    "11. Implement a function to find the intersection of two sets.\n",
    "12. Write a program to check if one set is a subset of another.\n",
    "13. Implement a function to find the union of two dictionaries.\n",
    "14. Write a program to flatten a nested list.\n",
    "15. Create a function to find the most frequent element in a list.\n",
    "16. Implement a stack using a list with push and pop operations.\n",
    "17. Write a program to check if a given list is a palindrome.\n",
    "18. Implement a queue using a list with enqueue and dequeue operations.\n",
    "19. Write a program to convert a list of tuples into a dictionary.\n",
    "20. Create a function to find the common elements in two lists.\n"
   ]
  },
  {
   "cell_type": "code",
   "execution_count": 21,
   "metadata": {},
   "outputs": [
    {
     "name": "stdout",
     "output_type": "stream",
     "text": [
      "{1: 1, 2: 4, 3: 9, 4: 16, 5: 25, 6: 36, 7: 49, 8: 64, 9: 81, 10: 100}\n"
     ]
    }
   ],
   "source": [
    "# 1. Create a dictionary to store the squares of numbers from 1 to 10.\n",
    "squares = {i: i**2 for i in range(1, 11)}\n",
    "print(squares)"
   ]
  },
  {
   "cell_type": "code",
   "execution_count": 22,
   "metadata": {},
   "outputs": [
    {
     "name": "stdout",
     "output_type": "stream",
     "text": [
      "{1: 10, 2: 20, 3: 30, 4: 40}\n"
     ]
    }
   ],
   "source": [
    "# 2. Write a program to merge two dictionaries.\n",
    "def merge_dicts(d1, d2):\n",
    "    return {**d1, **d2}\n",
    "print(merge_dicts({1: 10, 2: 20}, {3: 30, 4: 40}))"
   ]
  },
  {
   "cell_type": "code",
   "execution_count": 24,
   "metadata": {},
   "outputs": [
    {
     "name": "stdout",
     "output_type": "stream",
     "text": [
      "{'hello': 2, 'world': 1}\n"
     ]
    }
   ],
   "source": [
    "# 3. Implement a function to count the occurrences of each word in a given sentence.\n",
    "def word_count(sentence):\n",
    "    words = sentence.split()\n",
    "    counter = {}\n",
    "    for word in words:\n",
    "        counter[word] = counter.get(word, 0) + 1\n",
    "    return counter\n",
    "\n",
    "print(word_count(\"hello world hello\"))"
   ]
  },
  {
   "cell_type": "code",
   "execution_count": 25,
   "metadata": {},
   "outputs": [
    {
     "name": "stdout",
     "output_type": "stream",
     "text": [
      "{'a': 1, 'b': 2, 'c': 3}\n"
     ]
    }
   ],
   "source": [
    "# 4. Create a dictionary from two lists: one for keys and one for values.\n",
    "def create_dict(keys, values):\n",
    "    return dict(zip(keys, values))\n",
    "print(create_dict([\"a\", \"b\", \"c\"], [1, 2, 3]))"
   ]
  },
  {
   "cell_type": "code",
   "execution_count": 26,
   "metadata": {},
   "outputs": [
    {
     "name": "stdout",
     "output_type": "stream",
     "text": [
      "True\n"
     ]
    }
   ],
   "source": [
    "# 5. Write a program to check if a given key exists in a dictionary.\n",
    "def key_exists(d, key):\n",
    "    return key in d\n",
    "print(key_exists({\"a\": 1, \"b\": 2}, \"a\"))"
   ]
  },
  {
   "cell_type": "code",
   "execution_count": 27,
   "metadata": {},
   "outputs": [
    {
     "name": "stdout",
     "output_type": "stream",
     "text": [
      "{1: 'a', 2: 'b'}\n"
     ]
    }
   ],
   "source": [
    "# 6. Implement a function to invert a dictionary (swap keys and values).\n",
    "def invert_dict(d):\n",
    "    return {v: k for k, v in d.items()}\n",
    "print(invert_dict({\"a\": 1, \"b\": 2}))"
   ]
  },
  {
   "cell_type": "code",
   "execution_count": 28,
   "metadata": {},
   "outputs": [
    {
     "name": "stdout",
     "output_type": "stream",
     "text": [
      "b\n"
     ]
    }
   ],
   "source": [
    "# 7. Write a program to find the key with the highest value in a dictionary.\n",
    "def max_value_key(d):\n",
    "    return max(d, key=d.get)\n",
    "print(max_value_key({\"a\": 1, \"b\": 2}))"
   ]
  },
  {
   "cell_type": "code",
   "execution_count": 29,
   "metadata": {},
   "outputs": [
    {
     "name": "stdout",
     "output_type": "stream",
     "text": [
      "{'c': 5, 'a': 10, 'b': 20}\n"
     ]
    }
   ],
   "source": [
    "# 8. Implement a function to sort a dictionary by its values.\n",
    "def sort_dict(d):\n",
    "    return dict(sorted(d.items(), key=lambda x: x[1]))\n",
    "print(sort_dict({\"a\": 10, \"b\": 20, \"c\": 5}))"
   ]
  },
  {
   "cell_type": "code",
   "execution_count": 31,
   "metadata": {},
   "outputs": [
    {
     "name": "stdout",
     "output_type": "stream",
     "text": [
      "[1, 2, 3]\n"
     ]
    }
   ],
   "source": [
    "# 9. Write a program to remove all duplicate values from a list.\n",
    "def rem_val(lst):\n",
    "    return list(set(lst))\n",
    "print(rem_val([1, 2, 3, 1, 2, 3]))"
   ]
  },
  {
   "cell_type": "code",
   "execution_count": 33,
   "metadata": {},
   "outputs": [
    {
     "name": "stdout",
     "output_type": "stream",
     "text": [
      "{1, 2, 3}\n"
     ]
    }
   ],
   "source": [
    "# 10. Create a set containing unique elements from a list.\n",
    "def unique_elements(lst):\n",
    "    return set(lst)\n",
    "print(unique_elements([1, 2, 3, 1, 2, 3]))"
   ]
  },
  {
   "cell_type": "code",
   "execution_count": 34,
   "metadata": {},
   "outputs": [
    {
     "name": "stdout",
     "output_type": "stream",
     "text": [
      "{2, 3}\n"
     ]
    }
   ],
   "source": [
    "# 11. Implement a function to find the intersection of two sets.\n",
    "def intersection(s1, s2):\n",
    "    return s1.intersection(s2)\n",
    "print(intersection({1, 2, 3}, {2, 3, 4}))"
   ]
  },
  {
   "cell_type": "code",
   "execution_count": 35,
   "metadata": {},
   "outputs": [
    {
     "name": "stdout",
     "output_type": "stream",
     "text": [
      "True\n"
     ]
    }
   ],
   "source": [
    "# 12. Write a program to check if one set is a subset of another.\n",
    "def is_subset(s1, s2):\n",
    "    return s1.issubset(s2)\n",
    "print(is_subset({1, 2}, {1, 2, 3}))"
   ]
  },
  {
   "cell_type": "code",
   "execution_count": 36,
   "metadata": {},
   "outputs": [
    {
     "name": "stdout",
     "output_type": "stream",
     "text": [
      "{1: 10, 2: 20, 3: 30, 4: 40}\n"
     ]
    }
   ],
   "source": [
    "# 13. Implement a function to find the union of two dictionaries.\n",
    "def union_dicts(d1, d2):\n",
    "    return {**d1, **d2}\n",
    "\n",
    "print(union_dicts({1: 10, 2: 20}, {3: 30, 4: 40}))"
   ]
  },
  {
   "cell_type": "code",
   "execution_count": 38,
   "metadata": {},
   "outputs": [
    {
     "name": "stdout",
     "output_type": "stream",
     "text": [
      "[1, 2, 3, 4, 5, 6]\n"
     ]
    }
   ],
   "source": [
    "# 14. Write a program to flatten a nested list.\n",
    "def flatten_list(lst):\n",
    "    result = []\n",
    "    for item in lst:\n",
    "        if isinstance(item, list):\n",
    "            result.extend(flatten_list(item))\n",
    "        else:\n",
    "            result.append(item)\n",
    "    return result\n",
    "print(flatten_list([1, [2, 3], [4, [5, 6]]]))"
   ]
  },
  {
   "cell_type": "code",
   "execution_count": 39,
   "metadata": {},
   "outputs": [
    {
     "name": "stdout",
     "output_type": "stream",
     "text": [
      "1\n"
     ]
    }
   ],
   "source": [
    "# 15. Create a function to find the most frequent element in a list.\n",
    "def most_frequent(lst):\n",
    "    counter = {}\n",
    "    for item in lst:\n",
    "        counter[item] = counter.get(item, 0) + 1\n",
    "    return max(counter, key=counter.get)\n",
    "print(most_frequent([1, 2, 3, 1, 2, 1]))"
   ]
  },
  {
   "cell_type": "code",
   "execution_count": 47,
   "metadata": {},
   "outputs": [
    {
     "name": "stdout",
     "output_type": "stream",
     "text": [
      "5\n",
      "1\n",
      "2\n",
      "1\n"
     ]
    }
   ],
   "source": [
    "# 16. Implement a stack using a list with push and pop operations.\n",
    "def Stack(lst):\n",
    "    def push(item):\n",
    "        lst.append(item)\n",
    "    def pop():\n",
    "        return lst.pop()\n",
    "    return push, pop\n",
    "push, pop = Stack([])\n",
    "push(1)\n",
    "push(2)\n",
    "push(1)\n",
    "push(5)\n",
    "print(pop())\n",
    "print(pop())\n",
    "print(pop())\n",
    "print(pop())"
   ]
  },
  {
   "cell_type": "code",
   "execution_count": 49,
   "metadata": {},
   "outputs": [
    {
     "name": "stdout",
     "output_type": "stream",
     "text": [
      "True\n",
      "False\n"
     ]
    }
   ],
   "source": [
    "# 17. Write a program to check if a given list is a palindrome.\n",
    "def is_palindrome(lst):\n",
    "    return lst == lst[::-1]\n",
    "print(is_palindrome([1, 2, 3, 2, 1]))\n",
    "print(is_palindrome([1, 2, 3, 4, 5]))"
   ]
  },
  {
   "cell_type": "code",
   "execution_count": 50,
   "metadata": {},
   "outputs": [
    {
     "name": "stdout",
     "output_type": "stream",
     "text": [
      "1\n",
      "2\n",
      "3\n"
     ]
    }
   ],
   "source": [
    "# 18. Implement a queue using a list with enqueue and dequeue operations.\n",
    "def Queue(lst):\n",
    "    def enqueue(item):\n",
    "        lst.append(item)\n",
    "    def dequeue():\n",
    "        return lst.pop(0)\n",
    "    return enqueue, dequeue\n",
    "enqueue, dequeue = Queue([])\n",
    "enqueue(1)\n",
    "enqueue(2)\n",
    "enqueue(3)\n",
    "print(dequeue())\n",
    "print(dequeue())\n",
    "print(dequeue())"
   ]
  },
  {
   "cell_type": "code",
   "execution_count": 51,
   "metadata": {},
   "outputs": [
    {
     "name": "stdout",
     "output_type": "stream",
     "text": [
      "{1: 'a', 2: 'b', 3: 'c'}\n"
     ]
    }
   ],
   "source": [
    "# 19. Write a program to convert a list of tuples into a dictionary.\n",
    "def list_to_dict(lst):\n",
    "    return dict(lst)\n",
    "print(list_to_dict([(1, \"a\"), (2, \"b\"), (3, \"c\")]))"
   ]
  },
  {
   "cell_type": "code",
   "execution_count": 52,
   "metadata": {},
   "outputs": [
    {
     "name": "stdout",
     "output_type": "stream",
     "text": [
      "[2, 3]\n"
     ]
    }
   ],
   "source": [
    "# 20. Create a function to find the common elements in two lists.\n",
    "def common_elements(lst1, lst2):\n",
    "    return list(set(lst1).intersection(lst2))\n",
    "print(common_elements([1, 2, 3], [2, 3, 4]))"
   ]
  },
  {
   "cell_type": "markdown",
   "metadata": {},
   "source": [
    "## Topic 3: Text Processing Including Working with Text Files\n",
    "\n",
    "1. Write a program to read a text file and print its contents.\n",
    "2. Write a program to count the number of lines in a text file.\n",
    "3. Write a program to count the number of words in a text file.\n",
    "4. Write a program to count the number of characters in a text file.\n",
    "5. Write a program to find and print the longest word in a text file.\n",
    "6. Write a program to replace a word in a text file with another word.\n",
    "7. Write a program to append a line to a text file.\n",
    "8. Write a program to reverse the contents of a text file and write it to a new file.\n",
    "9. Write a program to find the frequency of each word in a text file.\n",
    "10. Write a program to read a text file and print only the lines that start with a specific letter.\n",
    "11. Write a program to create a new file that contains only unique words from a given text file.\n",
    "12. Write a program to merge the contents of two text files into a third file.\n",
    "13. Write a program to remove all punctuation from a text file and write the result to a new file.\n",
    "14. Write a program to count the occurrences of a specific word in a text file.\n",
    "15. Write a program to check if a specific word exists in a text file.\n",
    "16. Write a program to split a text file into multiple smaller files, each containing a fixed number of lines.\n",
    "17. Write a program to find all palindromic words in a text file.\n",
    "18. Write a program to sort the words in a text file alphabetically and save the result to a new file.\n",
    "19. Write a program to capitalize the first letter of every word in a text file.\n",
    "20. Write a program to remove duplicate lines from a text file and save the result to a new file."
   ]
  },
  {
   "cell_type": "code",
   "execution_count": null,
   "metadata": {},
   "outputs": [
    {
     "name": "stdout",
     "output_type": "stream",
     "text": [
      "# Digital portfolio NLP\n",
      "\n"
     ]
    }
   ],
   "source": [
    "# 1. Write a program to read a text file and print its contents.\n",
    "def read_flie(file):\n",
    "    with open(file, \"r\") as f:\n",
    "        print(f.read())\n",
    "read_flie(\"./testing.md\")"
   ]
  },
  {
   "cell_type": "code",
   "execution_count": null,
   "metadata": {},
   "outputs": [
    {
     "name": "stdout",
     "output_type": "stream",
     "text": [
      "1\n"
     ]
    }
   ],
   "source": [
    "# 2. Write a program to count the number of lines in a text file.\n",
    "def count_lines(file):\n",
    "    with open(file, \"r\") as f:\n",
    "        return len(f.readlines())\n",
    "print(count_lines(\"./testing.md\"))"
   ]
  },
  {
   "cell_type": "code",
   "execution_count": null,
   "metadata": {},
   "outputs": [
    {
     "name": "stdout",
     "output_type": "stream",
     "text": [
      "4\n"
     ]
    }
   ],
   "source": [
    "# 3. Write a program to count the number of words in a text file.\n",
    "def count_words(file):\n",
    "    with open(file, \"r\") as f:\n",
    "        return len(f.read().split())\n",
    "print(count_words(\"./testing.md\"))"
   ]
  },
  {
   "cell_type": "code",
   "execution_count": null,
   "metadata": {},
   "outputs": [
    {
     "name": "stdout",
     "output_type": "stream",
     "text": [
      "24\n"
     ]
    }
   ],
   "source": [
    "# 4. Write a program to count the number of characters in a text file.\n",
    "def count_char(file):\n",
    "    with open(file, \"r\") as f:\n",
    "        return len(f.read())\n",
    "print(count_char(\"./testing.md\"))"
   ]
  },
  {
   "cell_type": "code",
   "execution_count": null,
   "metadata": {},
   "outputs": [
    {
     "name": "stdout",
     "output_type": "stream",
     "text": [
      "portfolio\n"
     ]
    }
   ],
   "source": [
    "# 5. Write a program to find and print the longest word in a text file.\n",
    "def print_longest_word(file):\n",
    "    with open(file, \"r\") as f:\n",
    "        words = f.read().split()\n",
    "        return max(words, key=len)\n",
    "print(print_longest_word(\"./testing.md\"))"
   ]
  },
  {
   "cell_type": "code",
   "execution_count": null,
   "metadata": {},
   "outputs": [
    {
     "name": "stdout",
     "output_type": "stream",
     "text": [
      "# Readme file for testing functions\n",
      "\n",
      "I Love Node.js\n",
      "\n",
      "None\n"
     ]
    }
   ],
   "source": [
    "# 6. Write a program to replace a word in a text file with another word.\n",
    "def replace_word(file, old_word, new_word):\n",
    "    with open(file, \"r\") as f:\n",
    "        text = f.read()\n",
    "    with open(file, \"w\") as f:\n",
    "        f.write(text.replace(old_word, new_word))\n",
    "replace_word(\"./testing.md\", \"Python\", \"Node.js\")\n",
    "print(read_flie(\"./testing.md\"))"
   ]
  },
  {
   "cell_type": "code",
   "execution_count": 22,
   "metadata": {},
   "outputs": [
    {
     "name": "stdout",
     "output_type": "stream",
     "text": [
      "# Readme file for testing functions\n",
      "\n",
      "I Love Node.js\n",
      "I love Solidity\n",
      "I Love Solidity\n",
      "\n",
      "None\n"
     ]
    }
   ],
   "source": [
    "# 7. Write a program to append a line to a text file.\n",
    "def append_line(file, line):\n",
    "    with open(file, \"a\") as f:\n",
    "        f.write(line + \"\\n\")\n",
    "append_line(\"./testing.md\", \"I Love Solidity\")\n",
    "print(read_flie(\"./testing.md\"))"
   ]
  },
  {
   "cell_type": "code",
   "execution_count": 23,
   "metadata": {},
   "outputs": [],
   "source": [
    "# 8. Write a program to reverse the contents of a text file and write it to a new file.\n",
    "def reverse_file(file):\n",
    "    with open(file, \"r\") as f:\n",
    "        text = f.read()\n",
    "    with open(\"reversed.txt\", \"w\") as f:\n",
    "        f.write(text[::-1])\n",
    "reverse_file(\"./testing.md\")"
   ]
  },
  {
   "cell_type": "code",
   "execution_count": 24,
   "metadata": {},
   "outputs": [
    {
     "name": "stdout",
     "output_type": "stream",
     "text": [
      "{'#': 1, 'Readme': 1, 'file': 1, 'for': 1, 'testing': 1, 'functions': 1, 'I': 2, 'Love': 2, 'Node.js': 1, 'Solidity': 1}\n"
     ]
    }
   ],
   "source": [
    "# 9. Write a program to find the frequency of each word in a text file.\n",
    "def frequency(file):\n",
    "    with open(file, \"r\") as f:\n",
    "        words = f.read().split()\n",
    "        counter = {}\n",
    "        for word in words:\n",
    "            counter[word] = counter.get(word, 0) + 1\n",
    "        return counter\n",
    "print(frequency(\"./testing.md\"))"
   ]
  },
  {
   "cell_type": "code",
   "execution_count": null,
   "metadata": {},
   "outputs": [],
   "source": [
    "# 10. Write a program to read a text file and print only the lines that start with a specific letter.\n"
   ]
  },
  {
   "cell_type": "code",
   "execution_count": null,
   "metadata": {},
   "outputs": [],
   "source": [
    "# 11. Write a program to create a new file that contains only unique words from a given text file.\n"
   ]
  },
  {
   "cell_type": "code",
   "execution_count": null,
   "metadata": {},
   "outputs": [],
   "source": [
    "# 12. Write a program to merge the contents of two text files into a third file.\n"
   ]
  },
  {
   "cell_type": "code",
   "execution_count": null,
   "metadata": {},
   "outputs": [],
   "source": [
    "# 13. Write a program to remove all punctuation from a text file and write the result to a new file.\n"
   ]
  },
  {
   "cell_type": "code",
   "execution_count": null,
   "metadata": {},
   "outputs": [],
   "source": [
    "# 14. Write a program to count the occurrences of a specific word in a text file.\n"
   ]
  },
  {
   "cell_type": "code",
   "execution_count": null,
   "metadata": {},
   "outputs": [],
   "source": [
    "# 15. Write a program to check if a specific word exists in a text file.\n"
   ]
  },
  {
   "cell_type": "code",
   "execution_count": null,
   "metadata": {},
   "outputs": [],
   "source": [
    "# 16. Write a program to split a text file into multiple smaller files, each containing a fixed number of lines.\n"
   ]
  },
  {
   "cell_type": "code",
   "execution_count": null,
   "metadata": {},
   "outputs": [],
   "source": [
    "# 17. Write a program to find all palindromic words in a text file.\n"
   ]
  },
  {
   "cell_type": "code",
   "execution_count": null,
   "metadata": {},
   "outputs": [],
   "source": [
    "# 18. Write a program to sort the words in a text file alphabetically and save the result to a new file.\n"
   ]
  },
  {
   "cell_type": "code",
   "execution_count": null,
   "metadata": {},
   "outputs": [],
   "source": [
    "# 19. Write a program to capitalize the first letter of every word in a text file.\n"
   ]
  },
  {
   "cell_type": "code",
   "execution_count": null,
   "metadata": {},
   "outputs": [],
   "source": [
    "# 20. Write a program to remove duplicate lines from a text file and save the result to a new file."
   ]
  },
  {
   "cell_type": "markdown",
   "metadata": {},
   "source": [
    "## Topic 4: Pandas Usage Oriented Processing\n",
    "\n",
    "1. Create a DataFrame from a dictionary of lists and display it.\n",
    "2. Add a new column to an existing DataFrame based on calculations from other columns.\n",
    "3. Filter rows in a DataFrame based on a condition.\n",
    "4. Sort a DataFrame by a specific column in ascending order.\n",
    "5. Write a program to rename the columns of a DataFrame.\n",
    "6. Drop rows with missing values from a DataFrame.\n",
    "7. Write a program to fill missing values in a DataFrame with a default value.\n",
    "8. Group a DataFrame by a specific column and calculate the mean of each group.\n",
    "9. Write a program to merge two DataFrames on a common column.\n",
    "10. Write a program to concatenate two DataFrames vertically.\n",
    "11. Create a new column in a DataFrame that is the result of applying a custom function to an existing column.\n",
    "12. Write a program to count the unique values in a specific column of a DataFrame.\n",
    "13. Write a program to find the maximum value in a specific column of a DataFrame.\n",
    "14. Write a program to filter a DataFrame based on multiple conditions.\n",
    "15. Write a program to calculate the correlation matrix of a DataFrame.\n",
    "16. Write a program to apply a lambda function to every element of a column in a DataFrame.\n",
    "17. Write a program to drop duplicate rows from a DataFrame.\n",
    "18. Write a program to reset the index of a DataFrame.\n",
    "19. Write a program to save a DataFrame to a CSV file.\n",
    "20. Write a program to read a CSV file into a DataFrame and display the first five rows."
   ]
  },
  {
   "cell_type": "code",
   "execution_count": null,
   "metadata": {},
   "outputs": [],
   "source": []
  }
 ],
 "metadata": {
  "kernelspec": {
   "display_name": ".venv",
   "language": "python",
   "name": "python3"
  },
  "language_info": {
   "codemirror_mode": {
    "name": "ipython",
    "version": 3
   },
   "file_extension": ".py",
   "mimetype": "text/x-python",
   "name": "python",
   "nbconvert_exporter": "python",
   "pygments_lexer": "ipython3",
   "version": "3.13.0"
  }
 },
 "nbformat": 4,
 "nbformat_minor": 2
}
