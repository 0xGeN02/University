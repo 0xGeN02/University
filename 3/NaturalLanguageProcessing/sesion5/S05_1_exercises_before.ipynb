{
 "cells": [
  {
   "cell_type": "markdown",
   "metadata": {},
   "source": [
    "# Playing with NLTK and Spacy\n",
    "\n",
    "Using the following notebooks, the manual, and the help of your favourite LLM; play with NLTK and Spacy capabilities for text processing. Reflect on concepts we have seen at the class and other concepts that appear while you play around. Generate two code blocks, one for NLTK and other for Spacy.\n",
    "\n",
    "Recommended notebook for a demo of NLTK: https://github.com/hb20007/hands-on-nltk-tutorial\n",
    "Recommended notebook for a demo of Spacy: https://github.com/explosion/spacy-notebooks/blob/master/notebooks/lightning_tour.ipynb"
   ]
  },
  {
   "cell_type": "code",
   "execution_count": null,
   "metadata": {},
   "outputs": [],
   "source": [
    "# NLTK Playground"
   ]
  },
  {
   "cell_type": "code",
   "execution_count": null,
   "metadata": {},
   "outputs": [],
   "source": [
    "# Spacy Playground"
   ]
  }
 ],
 "metadata": {
  "kernelspec": {
   "display_name": "Python 3",
   "language": "python",
   "name": "python3"
  },
  "language_info": {
   "name": "python",
   "version": "3.11.6"
  }
 },
 "nbformat": 4,
 "nbformat_minor": 2
}
