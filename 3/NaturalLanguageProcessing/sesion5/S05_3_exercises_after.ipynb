{
 "cells": [
  {
   "cell_type": "markdown",
   "metadata": {},
   "source": [
    "# Playing with concepts\n",
    "\n",
    "In S05 we have seen a lot of concepts in regard of text representation, naive bayes statatistics in NLP, classification, and more. This activity pretends that you play around with the concepts and python code, explore libraries, make experiments, and in general check theory with practice and with reality. To do that, you can use any tool you want including LLMs. Just try to have some findings after your experimentation process for most concepts we have seen. "
   ]
  },
  {
   "cell_type": "code",
   "execution_count": null,
   "metadata": {
    "vscode": {
     "languageId": "plaintext"
    }
   },
   "outputs": [],
   "source": []
  }
 ],
 "metadata": {
  "language_info": {
   "name": "python"
  }
 },
 "nbformat": 4,
 "nbformat_minor": 2
}
