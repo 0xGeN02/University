{
 "cells": [
  {
   "cell_type": "markdown",
   "metadata": {},
   "source": [
    "# Bag-of-words Naive Bayes classifier"
   ]
  },
  {
   "cell_type": "code",
   "execution_count": 2,
   "metadata": {},
   "outputs": [
    {
     "name": "stdout",
     "output_type": "stream",
     "text": [
      "Class log priors: [-0.69314718 -0.69314718]\n",
      "Feature log probs (per class):\n",
      " [[-2.67414865 -3.36729583 -2.67414865 -2.67414865 -3.36729583 -2.67414865\n",
      "  -3.36729583 -2.67414865 -3.36729583 -2.67414865 -2.67414865 -3.36729583\n",
      "  -2.67414865 -3.36729583 -2.67414865 -2.67414865 -2.26868354]\n",
      " [-3.36729583 -2.67414865 -2.67414865 -3.36729583 -2.67414865 -3.36729583\n",
      "  -2.67414865 -2.67414865 -2.67414865 -3.36729583 -2.67414865 -2.67414865\n",
      "  -2.67414865 -2.67414865 -3.36729583 -3.36729583 -2.26868354]]\n",
      "\n",
      "Vocabulary: {'love': 11, 'this': 16, 'movie': 12, 'film': 7, 'is': 10, 'great': 8, 'amazing': 1, 'performance': 13, 'and': 2, 'beautiful': 4, 'cinematography': 6, 'hate': 9, 'awful': 3, 'terrible': 15, 'acting': 0, 'boring': 5, 'plot': 14}\n",
      "\n",
      "Document: What a fantastic movie\n",
      "Prediction: negative\n",
      "Log probabilities: [-0.69314718 -0.69314718]\n",
      "\n",
      "Document: I did not like the film\n",
      "Prediction: negative\n",
      "Log probabilities: [-0.69314718 -0.69314718]\n"
     ]
    }
   ],
   "source": [
    "\n",
    "import numpy as np\n",
    "from sklearn.feature_extraction.text import CountVectorizer\n",
    "from sklearn.naive_bayes import MultinomialNB\n",
    "\n",
    "# Toy dataset: text and labels\n",
    "docs = [\n",
    "    \"I love this movie\",\n",
    "    \"This film is great\",\n",
    "    \"Amazing performance and beautiful cinematography\",\n",
    "    \"I hate this movie\",\n",
    "    \"This film is awful\",\n",
    "    \"Terrible acting and boring plot\"\n",
    "]\n",
    "labels = [\"positive\", \"positive\", \"positive\", \"negative\", \"negative\", \"negative\"]\n",
    "\n",
    "# Bag-of-Words representation\n",
    "vectorizer = CountVectorizer()\n",
    "X = vectorizer.fit_transform(docs)\n",
    "\n",
    "# Naive Bayes classifier with Laplace smoothing (alpha=1)\n",
    "clf = MultinomialNB(alpha=1.0)\n",
    "clf.fit(X, labels)\n",
    "\n",
    "# Show learned priors and likelihoods (in log-space)\n",
    "print(\"Class log priors:\", clf.class_log_prior_)\n",
    "print(\"Feature log probs (per class):\\n\", clf.feature_log_prob_)\n",
    "\n",
    "# Test examples\n",
    "test_docs = [\n",
    "    \"What a fantastic movie\",\n",
    "    \"I did not like the film\"\n",
    "]\n",
    "X_test = vectorizer.transform(test_docs)\n",
    "predictions = clf.predict(X_test)\n",
    "log_probs = clf.predict_log_proba(X_test)\n",
    "\n",
    "print(\"\\nVocabulary:\", vectorizer.vocabulary_)\n",
    "for doc, pred, logp in zip(test_docs, predictions, log_probs):\n",
    "    print(f\"\\nDocument: {doc}\")\n",
    "    print(f\"Prediction: {pred}\")\n",
    "    print(f\"Log probabilities: {logp}\")\n",
    "\n"
   ]
  }
 ],
 "metadata": {
  "kernelspec": {
   "display_name": "Python 3",
   "language": "python",
   "name": "python3"
  },
  "language_info": {
   "codemirror_mode": {
    "name": "ipython",
    "version": 3
   },
   "file_extension": ".py",
   "mimetype": "text/x-python",
   "name": "python",
   "nbconvert_exporter": "python",
   "pygments_lexer": "ipython3",
   "version": "3.11.6"
  }
 },
 "nbformat": 4,
 "nbformat_minor": 2
}
