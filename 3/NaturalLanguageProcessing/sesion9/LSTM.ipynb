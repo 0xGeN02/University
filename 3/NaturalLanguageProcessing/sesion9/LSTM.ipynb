{
 "cells": [
  {
   "cell_type": "markdown",
   "id": "44a13e90",
   "metadata": {},
   "source": [
    "# LSTM Model Training\n",
    "Below we will train a LSTM network using the training data and validate it using the validation set."
   ]
  },
  {
   "cell_type": "markdown",
   "id": "5b6e709c",
   "metadata": {},
   "source": [
    "## Set enviroment"
   ]
  },
  {
   "cell_type": "code",
   "execution_count": null,
   "id": "79b74412",
   "metadata": {},
   "outputs": [],
   "source": [
    "# %pip install tensorflow pandas numpy matplotlib"
   ]
  },
  {
   "cell_type": "code",
   "execution_count": null,
   "id": "b2d01ee3",
   "metadata": {},
   "outputs": [],
   "source": [
    "# Import necessary libraries for data handling, preprocessing, and modeling\n",
    "import numpy as np\n",
    "import pandas as pd\n",
    "import matplotlib.pyplot as plt\n",
    "import seaborn as sns\n",
    "\n",
    "# For text preprocessing and tokenization\n",
    "from tensorflow.keras.preprocessing.text import Tokenizer\n",
    "from tensorflow.keras.preprocessing.sequence import pad_sequences\n",
    "\n",
    "# For building the model\n",
    "from tensorflow.keras.models import Sequential\n",
    "from tensorflow.keras.layers import Embedding, LSTM, Dense, Dropout\n",
    "\n",
    "# For model evaluation\n",
    "from sklearn.metrics import classification_report, confusion_matrix"
   ]
  },
  {
   "cell_type": "markdown",
   "id": "f9a132c8",
   "metadata": {},
   "source": [
    "## Load Data"
   ]
  },
  {
   "cell_type": "code",
   "execution_count": null,
   "id": "c7c18c5c",
   "metadata": {},
   "outputs": [],
   "source": [
    "# Load DATA\n",
    "train_df = pd.read_csv('c:\\\\Users\\\\manue\\\\University\\\\3\\\\NaturalLanguageProcessing\\\\sesion9\\\\data\\\\sent_train.csv')\n",
    "test_df = pd.read_csv('c:\\\\Users\\\\manue\\\\University\\\\3\\\\NaturalLanguageProcessing\\\\sesion9\\\\data\\\\sent_test.csv')"
   ]
  },
  {
   "cell_type": "code",
   "execution_count": null,
   "id": "c5e12d8e",
   "metadata": {},
   "outputs": [],
   "source": [
    "# Explore the data: check for null values, data distribution, etc.\n",
    "print(train_df.head())\n",
    "print(train_df['sentiment'].value_counts())"
   ]
  },
  {
   "cell_type": "markdown",
   "id": "d6ff8400",
   "metadata": {},
   "source": [
    "## Preprocessing"
   ]
  },
  {
   "cell_type": "code",
   "execution_count": null,
   "id": "07f8ee85",
   "metadata": {},
   "outputs": [],
   "source": [
    "# Clean Data\n",
    "import re\n",
    "\n",
    "def clean_text(text):\n",
    "    text = text.lower()  # convert to lowercase\n",
    "    text = re.sub(r'[^a-zA-Z\\s]', '', text)  # remove punctuation\n",
    "    return text\n",
    "\n",
    "train_df['clean_text'] = train_df['tweet'].apply(clean_text)\n",
    "test_df['clean_text'] = test_df['tweet'].apply(clean_text)"
   ]
  },
  {
   "cell_type": "markdown",
   "id": "5b1c0777",
   "metadata": {},
   "source": [
    "## Tokenization"
   ]
  },
  {
   "cell_type": "code",
   "execution_count": null,
   "id": "3b744108",
   "metadata": {},
   "outputs": [],
   "source": [
    "# Set hyperparameters for tokenization and padding\n",
    "max_vocab = 5000  # maximum number of words to consider\n",
    "max_length = 50   # maximum length of a tweet in terms of word count\n",
    "\n",
    "# Tokenize the text\n",
    "tokenizer = Tokenizer(num_words=max_vocab, oov_token='<OOV>')\n",
    "tokenizer.fit_on_texts(train_df['clean_text'])\n",
    "\n",
    "# Convert text to sequences\n",
    "train_sequences = tokenizer.texts_to_sequences(train_df['clean_text'])\n",
    "valid_sequences = tokenizer.texts_to_sequences(test_df['clean_text'])\n",
    "\n",
    "# Pad sequences to ensure uniform length\n",
    "X_train = pad_sequences(train_sequences, maxlen=max_length, padding='post')\n",
    "X_valid = pad_sequences(valid_sequences, maxlen=max_length, padding='post')\n",
    "\n",
    "# Prepare target labels\n",
    "y_train = pd.get_dummies(train_df['sentiment']).values\n",
    "y_valid = pd.get_dummies(test_df['sentiment']).values"
   ]
  },
  {
   "cell_type": "markdown",
   "id": "2916b201",
   "metadata": {},
   "source": [
    "The tokenizer converts words to integers, and padding ensures each sequence is of uniform length."
   ]
  },
  {
   "cell_type": "markdown",
   "id": "9bfaad56",
   "metadata": {},
   "source": [
    "## LSTM Model"
   ]
  },
  {
   "cell_type": "code",
   "execution_count": null,
   "id": "cfe41fd9",
   "metadata": {},
   "outputs": [],
   "source": [
    "# Define model hyperparameters\n",
    "embedding_dim = 64\n",
    "lstm_units = 64\n",
    "\n",
    "# Build the model\n",
    "model = Sequential([\n",
    "    Embedding(input_dim=max_vocab, output_dim=embedding_dim, input_length=max_length),\n",
    "    LSTM(lstm_units, dropout=0.2, recurrent_dropout=0.2),\n",
    "    Dense(32, activation='relu'),\n",
    "    Dropout(0.5),\n",
    "    Dense(3, activation='softmax')  # 3 classes: Bearish, Bullish, Neutral\n",
    "])\n",
    "\n",
    "# Compile the model\n",
    "model.compile(loss='categorical_crossentropy', optimizer='adam', metrics=['accuracy'])\n",
    "\n",
    "# Summary of the model architecture\n",
    "model.summary()"
   ]
  },
  {
   "cell_type": "markdown",
   "id": "d14d9943",
   "metadata": {},
   "source": [
    "The network starts with an embedding layer, followed by an LSTM to capture sequential dependencies, and ends with dense layers to output probabilities over the 3 sentiment classes."
   ]
  },
  {
   "cell_type": "code",
   "execution_count": null,
   "id": "d7679044",
   "metadata": {},
   "outputs": [],
   "source": [
    "# Prepare validation data\n",
    "valid_texts = test_data['text'].values\n",
    "valid_labels = test_data['label'].values\n",
    "valid_sequences = tokenizer.texts_to_sequences(valid_texts)\n",
    "valid_padded = pad_sequences(valid_sequences, maxlen=padded_sequences.shape[1], padding='post')\n",
    "valid_labels_categorical = to_categorical(valid_labels, num_classes)\n",
    "\n",
    "# Evaluate the model on validation data\n",
    "loss, accuracy = model.evaluate(valid_padded, valid_labels_categorical)\n",
    "print('Validation Loss:', loss)\n",
    "print('Validation Accuracy:', accuracy)"
   ]
  }
 ],
 "metadata": {
  "kernelspec": {
   "display_name": "Python 3",
   "language": "python",
   "name": "python3"
  },
  "language_info": {
   "codemirror_mode": {
    "name": "ipython",
    "version": 3
   },
   "file_extension": ".py",
   "mimetype": "text/x-python",
   "name": "python",
   "nbconvert_exporter": "python",
   "pygments_lexer": "ipython3",
   "version": "3.13.2"
  }
 },
 "nbformat": 4,
 "nbformat_minor": 5
}
