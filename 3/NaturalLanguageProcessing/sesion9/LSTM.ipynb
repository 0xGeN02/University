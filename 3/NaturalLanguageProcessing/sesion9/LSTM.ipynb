{
 "cells": [
  {
   "cell_type": "markdown",
   "id": "44a13e90",
   "metadata": {},
   "source": [
    "# LSTM Model Training\n",
    "Below we will train a LSTM network using the training data and validate it using the validation set."
   ]
  },
  {
   "cell_type": "code",
   "execution_count": null,
   "id": "79b74412",
   "metadata": {},
   "outputs": [],
   "source": [
    "# %pip install tensorflow pandas numpy matplotlib"
   ]
  },
  {
   "cell_type": "code",
   "execution_count": null,
   "id": "b2d01ee3",
   "metadata": {},
   "outputs": [],
   "source": [
    "# Import necessary libraries and frameworks\n",
    "import pandas as pd\n",
    "import numpy as np\n",
    "from tensorflow.keras.preprocessing.text import Tokenizer\n",
    "from tensorflow.keras.preprocessing.sequence import pad_sequences\n",
    "from tensorflow.keras.models import Sequential\n",
    "from tensorflow.keras.layers import LSTM, Dense, Embedding\n",
    "from tensorflow.keras.utils import to_categorical"
   ]
  },
  {
   "cell_type": "code",
   "execution_count": null,
   "id": "c7c18c5c",
   "metadata": {},
   "outputs": [],
   "source": [
    "# Load DATA\n",
    "train_data = pd.read_csv('c:\\\\Users\\\\manue\\\\University\\\\3\\\\NaturalLanguageProcessing\\\\sesion9\\\\data\\\\sent_train.csv')\n",
    "test_data = pd.read_csv('c:\\\\Users\\\\manue\\\\University\\\\3\\\\NaturalLanguageProcessing\\\\sesion9\\\\data\\\\sent_test.csv')"
   ]
  },
  {
   "cell_type": "code",
   "execution_count": null,
   "id": "3b744108",
   "metadata": {},
   "outputs": [],
   "source": [
    "# Convert text and labels to appropriate forms\n",
    "texts = train_data['text'].values\n",
    "labels = train_data['label'].values\n",
    "\n",
    "# Tokenize the texts\n",
    "tokenizer = Tokenizer(oov_token='<OOV>') # Out of vocabulary token for words not in the dictionary\n",
    "tokenizer.fit_on_texts(texts) # Fit tokenizer on texts to create dictionary\n",
    "sequences = tokenizer.texts_to_sequences(texts) # Convert texts to sequences of numbers\n",
    "# Pad sequences\n",
    "padded_sequences = pad_sequences(sequences, padding='post') # Pad sequences to make them of equal length\n",
    "\n",
    "# Convert labels to one-hot if needed\n",
    "num_classes = 3  # Bearish, Bullish, Neutral\n",
    "labels_categorical = to_categorical(labels, num_classes) # Convert labels to one-hot encoding"
   ]
  },
  {
   "cell_type": "code",
   "execution_count": null,
   "id": "cfe41fd9",
   "metadata": {},
   "outputs": [],
   "source": []
  }
 ],
 "metadata": {
  "kernelspec": {
   "display_name": "Python 3",
   "language": "python",
   "name": "python3"
  },
  "language_info": {
   "codemirror_mode": {
    "name": "ipython",
    "version": 3
   },
   "file_extension": ".py",
   "mimetype": "text/x-python",
   "name": "python",
   "nbconvert_exporter": "python",
   "pygments_lexer": "ipython3",
   "version": "3.13.2"
  }
 },
 "nbformat": 4,
 "nbformat_minor": 5
}
