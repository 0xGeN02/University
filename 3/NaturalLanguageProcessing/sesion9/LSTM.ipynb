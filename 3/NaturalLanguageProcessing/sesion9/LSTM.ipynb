{
 "cells": [
  {
   "cell_type": "markdown",
   "id": "44a13e90",
   "metadata": {},
   "source": [
    "# LSTM Model Training\n",
    "Below we will train a LSTM network using the training data and validate it using the validation set."
   ]
  },
  {
   "cell_type": "code",
   "execution_count": null,
   "id": "79b74412",
   "metadata": {},
   "outputs": [],
   "source": [
    "# %pip install tensorflow pandas numpy matplotlib"
   ]
  },
  {
   "cell_type": "code",
   "execution_count": null,
   "id": "b2d01ee3",
   "metadata": {},
   "outputs": [],
   "source": [
    "# Import necessary libraries for data handling, preprocessing, and modeling\n",
    "import numpy as np\n",
    "import pandas as pd\n",
    "import matplotlib.pyplot as plt\n",
    "import seaborn as sns\n",
    "\n",
    "# For text preprocessing and tokenization\n",
    "from tensorflow.keras.preprocessing.text import Tokenizer\n",
    "from tensorflow.keras.preprocessing.sequence import pad_sequences\n",
    "\n",
    "# For building the model\n",
    "from tensorflow.keras.models import Sequential\n",
    "from tensorflow.keras.layers import Embedding, LSTM, Dense, Dropout\n",
    "\n",
    "# For model evaluation\n",
    "from sklearn.metrics import classification_report, confusion_matrix"
   ]
  },
  {
   "cell_type": "code",
   "execution_count": null,
   "id": "c7c18c5c",
   "metadata": {},
   "outputs": [],
   "source": [
    "# Load DATA\n",
    "train_df = pd.read_csv('c:\\\\Users\\\\manue\\\\University\\\\3\\\\NaturalLanguageProcessing\\\\sesion9\\\\data\\\\sent_train.csv')\n",
    "test_df = pd.read_csv('c:\\\\Users\\\\manue\\\\University\\\\3\\\\NaturalLanguageProcessing\\\\sesion9\\\\data\\\\sent_test.csv')"
   ]
  },
  {
   "cell_type": "code",
   "execution_count": null,
   "id": "c5e12d8e",
   "metadata": {},
   "outputs": [],
   "source": [
    "# Explore the data: check for null values, data distribution, etc.\n",
    "print(train_df.head())\n",
    "print(train_df['sentiment'].value_counts())"
   ]
  },
  {
   "cell_type": "code",
   "execution_count": null,
   "id": "07f8ee85",
   "metadata": {},
   "outputs": [],
   "source": [
    "# Clean Data\n",
    "import re\n",
    "\n",
    "def clean_text(text):\n",
    "    text = text.lower()  # convert to lowercase\n",
    "    text = re.sub(r'[^a-zA-Z\\s]', '', text)  # remove punctuation\n",
    "    return text\n",
    "\n",
    "train_df['clean_text'] = train_df['tweet'].apply(clean_text)\n",
    "test_df['clean_text'] = test_df['tweet'].apply(clean_text)"
   ]
  },
  {
   "cell_type": "code",
   "execution_count": null,
   "id": "3b744108",
   "metadata": {},
   "outputs": [],
   "source": [
    "# Convert text and labels to appropriate forms\n",
    "texts = train_df['text'].values\n",
    "labels = train_df['label'].values\n",
    "\n",
    "# Tokenize the texts\n",
    "tokenizer = Tokenizer(oov_token='<OOV>') # Out of vocabulary token for words not in the dictionary\n",
    "tokenizer.fit_on_texts(texts) # Fit tokenizer on texts to create dictionary\n",
    "sequences = tokenizer.texts_to_sequences(texts) # Convert texts to sequences of numbers\n",
    "# Pad sequences\n",
    "padded_sequences = pad_sequences(sequences, padding='post') # Pad sequences to make them of equal length\n",
    "\n",
    "# Convert labels to one-hot if needed\n",
    "num_classes = 3  # Bearish, Bullish, Neutral\n",
    "labels_categorical = to_categorical(labels, num_classes) # Convert labels to one-hot encoding"
   ]
  },
  {
   "cell_type": "code",
   "execution_count": null,
   "id": "cfe41fd9",
   "metadata": {},
   "outputs": [],
   "source": [
    "# Build the LSTM model\n",
    "model = Sequential() # Sequential because we are stacking layers sequentially\n",
    "# Embedding layer, adjust vocab size and embedding dim as needed\n",
    "vocab_size = len(tokenizer.word_index) + 1\n",
    "model.add(Embedding(input_dim=vocab_size, output_dim=64)) # Embedding layer to convert words to vectors of size 64\n",
    "model.add(LSTM(64)) # LSTM layer with 64 units\n",
    "model.add(Dense(num_classes, activation='softmax')) # Dense layer with 3 units and softmax activation\n",
    "model.compile(loss='categorical_crossentropy', optimizer='adam', metrics=['accuracy']) # Compile the model\n",
    "\n",
    "# Train the model\n",
    "model.fit(padded_sequences, labels_categorical, epochs=3, batch_size=32) # Fit the model on the data"
   ]
  },
  {
   "cell_type": "code",
   "execution_count": null,
   "id": "d7679044",
   "metadata": {},
   "outputs": [],
   "source": [
    "# Prepare validation data\n",
    "valid_texts = test_data['text'].values\n",
    "valid_labels = test_data['label'].values\n",
    "valid_sequences = tokenizer.texts_to_sequences(valid_texts)\n",
    "valid_padded = pad_sequences(valid_sequences, maxlen=padded_sequences.shape[1], padding='post')\n",
    "valid_labels_categorical = to_categorical(valid_labels, num_classes)\n",
    "\n",
    "# Evaluate the model on validation data\n",
    "loss, accuracy = model.evaluate(valid_padded, valid_labels_categorical)\n",
    "print('Validation Loss:', loss)\n",
    "print('Validation Accuracy:', accuracy)"
   ]
  }
 ],
 "metadata": {
  "kernelspec": {
   "display_name": "Python 3",
   "language": "python",
   "name": "python3"
  },
  "language_info": {
   "codemirror_mode": {
    "name": "ipython",
    "version": 3
   },
   "file_extension": ".py",
   "mimetype": "text/x-python",
   "name": "python",
   "nbconvert_exporter": "python",
   "pygments_lexer": "ipython3",
   "version": "3.13.2"
  }
 },
 "nbformat": 4,
 "nbformat_minor": 5
}
