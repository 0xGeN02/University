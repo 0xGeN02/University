{
 "cells": [
  {
   "cell_type": "code",
   "execution_count": 2,
   "metadata": {},
   "outputs": [],
   "source": [
    "# For the next text, perform the following actions\n",
    "text = \"The president of the U.S.A., Donald Trump, is 1.9m high and 78 years old. Forbes Magazine has assessed his wealth, currently estimating it at $5.5 billion as of mid-February 2025.\""
   ]
  },
  {
   "cell_type": "code",
   "execution_count": 3,
   "metadata": {},
   "outputs": [],
   "source": [
    "from nltk.tokenize import sent_tokenize\n",
    "import re"
   ]
  },
  {
   "cell_type": "code",
   "execution_count": 4,
   "metadata": {},
   "outputs": [
    {
     "name": "stdout",
     "output_type": "stream",
     "text": [
      "['The president of the U.S.A., Donald Trump, is 1.9m high and 78 years old.', 'Forbes Magazine has assessed his wealth, currently estimating it at $5.5 billion as of mid-February 2025.']\n"
     ]
    }
   ],
   "source": [
    "# (1 point) 1 - Use NLTK to split the sentences \n",
    "def get_scentences(content: str) -> list:\n",
    "    return sent_tokenize(content, language='english')\n",
    "print(get_scentences(text))"
   ]
  },
  {
   "cell_type": "code",
   "execution_count": null,
   "metadata": {},
   "outputs": [
    {
     "name": "stdout",
     "output_type": "stream",
     "text": [
      "USA\n",
      "190 centimeters\n",
      "5.5 billion\n",
      "Not an expected value\n"
     ]
    }
   ],
   "source": [
    "# (2 points) 2 - Convert with regex the acronym U.S.A. to USA, the number 1.9m to 190 centimeters or any other number of a height like that (e.g. 1.75m to 175 centimeters), and \"$5.5 billion\" to five point five billion. \n",
    "def regex_replace(value: str) -> str:\n",
    "    if re.search(r\"U\\.S\\.A\\.\", value):\n",
    "        return re.sub(r\"U\\.S\\.A\\.\", \"USA\", value)\n",
    "    elif re.search(r\"(\\d+\\.\\d+)m\", value):\n",
    "        return re.sub(r\"(\\d+\\.\\d+)m\", lambda m: f\"{int(float(m.group(1)) * 100)} centimeters\", value)\n",
    "    elif re.search(r\"\\$\\d+\\.\\d+ billion\", value):\n",
    "        return re.sub(r\"\\$(\\d+\\.\\d+) billion\", r\"\\1 billion\", value)\n",
    "    else:\n",
    "        return \"Not an expected value\"\n",
    "\n",
    "# Pruebas\n",
    "print(regex_replace(\"U.S.A.\"))         # USA\n",
    "print(regex_replace(\"1.9m\"))           # 190 centimeters\n",
    "print(regex_replace(\"$5.5 billion\"))   # five point five billion\n",
    "print(regex_replace(\"Random text\"))    # Not an expected value"
   ]
  },
  {
   "cell_type": "code",
   "execution_count": null,
   "metadata": {},
   "outputs": [],
   "source": [
    "# (1 point) 3 - Convert to lowercase except the proper nouns that must keep the original case. For the multiword proper names convert them to an unique word joining the two word with underscoere (Juan Fernández -> Juan_Fernández).\n"
   ]
  },
  {
   "cell_type": "code",
   "execution_count": null,
   "metadata": {},
   "outputs": [],
   "source": [
    "# (1 point) 4 - Tokenize the text (use the tool you prefer). \n"
   ]
  },
  {
   "cell_type": "code",
   "execution_count": null,
   "metadata": {},
   "outputs": [],
   "source": [
    "# (1 point) 5 - Remove the stopwords (use the tool you prefer). \n"
   ]
  },
  {
   "cell_type": "code",
   "execution_count": null,
   "metadata": {},
   "outputs": [],
   "source": [
    "# (1 point) 6 - Create bigrams with pure python.\n"
   ]
  },
  {
   "cell_type": "code",
   "execution_count": null,
   "metadata": {},
   "outputs": [],
   "source": [
    "# (2 point) 7 - Create a language model that predict the next word using bigrams. Please explain in the code how you made the calculations.\n"
   ]
  }
 ],
 "metadata": {
  "kernelspec": {
   "display_name": ".venv",
   "language": "python",
   "name": "python3"
  },
  "language_info": {
   "codemirror_mode": {
    "name": "ipython",
    "version": 3
   },
   "file_extension": ".py",
   "mimetype": "text/x-python",
   "name": "python",
   "nbconvert_exporter": "python",
   "pygments_lexer": "ipython3",
   "version": "3.13.0"
  }
 },
 "nbformat": 4,
 "nbformat_minor": 2
}
