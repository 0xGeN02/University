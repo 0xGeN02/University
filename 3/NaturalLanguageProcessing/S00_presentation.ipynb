{
 "cells": [
  {
   "cell_type": "markdown",
   "metadata": {
    "slideshow": {
     "slide_type": "slide"
    }
   },
   "source": [
    "# Presentation: UIE NLP 2025\n"
   ]
  },
  {
   "cell_type": "markdown",
   "metadata": {},
   "source": [
    "Index:\n",
    "- The subject\n",
    "- Me\n",
    "- You\n",
    "- Philosophy of the classes\n",
    "- Goal\n"
   ]
  },
  {
   "cell_type": "markdown",
   "metadata": {},
   "source": [
    "\n",
    "# Natural Language Processing (and Speech)\n",
    "\n",
    "**Wikipedia**:\n",
    "> Natural language processing (NLP) is a subfield of computer science and especially artificial intelligence. It is primarily concerned with providing computers with the ability to process data encoded in natural language and is thus closely related to information retrieval, knowledge representation and computational linguistics, a subfield of linguistics. Typically data is collected in text corpora, using either rule-based, statistical or neural-based approaches in machine learning and deep learning. Major tasks in natural language processing are speech recognition, text classification, natural-language understanding, and natural-language generation. \n"
   ]
  },
  {
   "cell_type": "markdown",
   "metadata": {
    "slideshow": {
     "slide_type": "subslide"
    }
   },
   "source": [
    "\n",
    "My vision: **Natural Language processing** is the computers using the human language (natural language) in any sense. \n"
   ]
  },
  {
   "cell_type": "markdown",
   "metadata": {},
   "source": [
    "\n",
    "# Me, my story\n",
    "\n",
    "Isaac González\n",
    "isaac.gonzalez1@uie.edu\n",
    "\n",
    "My story: \n",
    "- Computer Science Engineer\n",
    "- NLP Researcher\n",
    "- MBA\n",
    "- NLP Spin-off Founder and CEO\n",
    "- PhD Student in Blockchain and DeFi"
   ]
  },
  {
   "cell_type": "markdown",
   "metadata": {
    "slideshow": {
     "slide_type": "fragment"
    }
   },
   "source": [
    "\n",
    "### Some beliefs\n",
    "\n",
    "> Software is eating the world. \n",
    "Marc Andreessen (A16Z VC) at 2011\n",
    "https://a16z.com/why-software-is-eating-the-world/\n",
    "\n",
    "> Why Bitcoin matters\n",
    "Marc Andressen (A16Z VC) at 2014\n",
    "https://a16z.com/why-bitcoin-matters/\n",
    "\n",
    "> Why AI will save the world. \n",
    "Marc Andreessen (A16Z VC) at 2023\n",
    "https://a16z.com/ai-will-save-the-world/\n"
   ]
  },
  {
   "cell_type": "markdown",
   "metadata": {},
   "source": []
  },
  {
   "cell_type": "markdown",
   "metadata": {},
   "source": [
    "# You, your story and your future\n",
    "\n",
    "We are going to spend some time together. The most effective way to learn is when I know you. \n",
    "\n",
    "- Name\n",
    "- Where do you came from?\n",
    "- Why you choose this career\n",
    "- Your hobbies, in what activities apart from the university you spend your time?\n",
    "- What is the most exciting thing in the world for you\n",
    "- What do you want to do after the graduation? (Work, I know, but give me details of your desires)\n",
    "- How do you imagine yourself in 15 years? How would be your ideal life?"
   ]
  },
  {
   "cell_type": "markdown",
   "metadata": {},
   "source": [
    "\n",
    "## Course philosophy\n",
    "\n",
    "NLP is a huge topic! It is changing a lot! \n",
    "\n",
    "The course tend to give a global overview of concepts, mixing programming algorithms, using libraries, and using APIs. \n",
    "\n",
    "The idea is to give you the tools to understand the topic in a broad sense.\n"
   ]
  },
  {
   "cell_type": "markdown",
   "metadata": {
    "slideshow": {
     "slide_type": "fragment"
    }
   },
   "source": [
    "\n",
    "### Questions? Yes, ask questions!\n",
    "\n",
    "It is crucial you gain an active rol in the relation with questions, interests, problems in learning, or exciting things you discover.\n",
    "\n",
    "## Participation\n",
    "\n",
    "Since this subject is in english and it is a complex matter. Please, let me know when you get it or you don't. If you are shy to say, you can move your head like that.\n",
    "\n",
    "![Yes no](2025-01-19-18-28-49.png)\n"
   ]
  },
  {
   "cell_type": "markdown",
   "metadata": {},
   "source": []
  },
  {
   "cell_type": "markdown",
   "metadata": {
    "slideshow": {
     "slide_type": "fragment"
    }
   },
   "source": [
    "\n",
    "## Participation\n",
    "\n",
    "Since this subject is in english and it is a complex matter. Please, let me know when you get it or you don't. If you are shy to say, you can move your head like that.\n",
    "\n",
    "![Yes no](2025-01-19-18-28-49.png)\n"
   ]
  },
  {
   "cell_type": "markdown",
   "metadata": {},
   "source": [
    "\n",
    "### Honor Code\n",
    "\n",
    "No cheating nor plagiarism is allowed. LLMs are forbiden, unless you are explicitly advised to use them. Do not fool me, it is not good for us, specially for your honor. \n",
    "\n",
    "\n"
   ]
  },
  {
   "cell_type": "markdown",
   "metadata": {},
   "source": [
    "\n",
    "**Wikipedia**:\n",
    "> Natural language processing (NLP) is a subfield of computer science and especially artificial intelligence. It is primarily concerned with providing computers with the ability to process data encoded in natural language and is thus closely related to information retrieval, knowledge representation and computational linguistics, a subfield of linguistics. Typically data is collected in text corpora, using either rule-based, statistical or neural-based approaches in machine learning and deep learning. Major tasks in natural language processing are speech recognition, text classification, natural-language understanding, and natural-language generation. \n",
    "\n",
    "My vision: **Natural Language processing** is the computers using the human language (natural language) in any sense. \n",
    "\n",
    "# Me, my story\n",
    "\n",
    "Isaac González\n",
    "isaac.gonzalez1@uie.edu\n",
    "\n",
    "My story: CS Science, NLP Researcher, MBA, NLP Spin-off Founder and CEO, PhD Student in Blockchain and DeFi. \n",
    "\n",
    "### Some beliefs\n",
    "\n",
    "> Software is eating the world. \n",
    "Marc Andreessen (A16Z VC) at 2011\n",
    "https://a16z.com/why-software-is-eating-the-world/\n",
    "\n",
    "> Why Bitcoin matters\n",
    "Marc Andressen (A16Z VC) at 2014\n",
    "https://a16z.com/why-bitcoin-matters/\n",
    "\n",
    "> Why AI will save the world. \n",
    "Marc Andreessen (A16Z VC) at 2023\n",
    "https://a16z.com/ai-will-save-the-world/\n",
    "\n",
    "# You, your story and your future\n",
    "\n",
    "We are going to spend some time together. The most effective way to learn is when I know you. \n",
    "\n",
    "- Name\n",
    "- Where do you came from?\n",
    "- Why you choose this career\n",
    "- Your hobbies, in what activities apart from the university you spend your time?\n",
    "- What is the most exciting thing in the world for you\n",
    "- What do you want to do after the graduation? (Work, I know, but give me details of your desires)\n",
    "- How do you imagine yourself in 15 years? How would be your ideal life?\n",
    "\n",
    "## Course philosophy\n",
    "\n",
    "NLP is a huge topic! It is changing a lot! \n",
    "\n",
    "The course tend to give a global overview of concepts, mixing programming algorithms, using libraries, and using APIs. \n",
    "\n",
    "The idea is to give you the tools to understand the topic in a broad sense.\n",
    "\n",
    "### Questions? Yes, ask questions!\n",
    "\n",
    "It is crucial you gain an active rol in the relation with questions, interests, problems in learning, or exciting things you discover.\n",
    "\n",
    "## Participation\n",
    "\n",
    "Since this subject is in english and it is a complex matter. Please, let me know when you get it or you don't. If you are shy to say, you can move your head like that.\n",
    "\n",
    "![Yes no](2025-01-19-18-28-49.png)\n",
    "\n",
    "### Honor Code\n",
    "\n",
    "No cheating nor plagiarism is allowed. LLMs are forbiden, unless you are explicitly advised to use them. Do not fool me, it is not good for us, specially for your honor. \n",
    "\n",
    "\n"
   ]
  },
  {
   "cell_type": "markdown",
   "metadata": {},
   "source": [
    "# Next week we will see the Teaching-Learning agreement document \n",
    "\n",
    "Then I will introduce you the details of the subject. "
   ]
  }
 ],
 "metadata": {
  "kernelspec": {
   "display_name": "Python 3",
   "language": "python",
   "name": "python3"
  },
  "language_info": {
   "codemirror_mode": {
    "name": "ipython",
    "version": 3
   },
   "file_extension": ".py",
   "mimetype": "text/x-python",
   "name": "python",
   "nbconvert_exporter": "python",
   "pygments_lexer": "ipython3",
   "version": "3.10.10"
  }
 },
 "nbformat": 4,
 "nbformat_minor": 2
}
