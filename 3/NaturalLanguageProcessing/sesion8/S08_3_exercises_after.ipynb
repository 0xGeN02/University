{
 "cells": [
  {
   "cell_type": "markdown",
   "metadata": {},
   "source": [
    "# LSTM classificator\n",
    "\n",
    "Using the dataset `dataset_emails.csv` (or the same dataset you have used in S08_1) create a some text classificators:\n",
    "* LSTM\n",
    "* GRU \n",
    "\n",
    "Compare the results between LSTM and GRU. Compare the results with the S08_1 methods. \n"
   ]
  }
 ],
 "metadata": {
  "language_info": {
   "name": "python"
  }
 },
 "nbformat": 4,
 "nbformat_minor": 2
}
