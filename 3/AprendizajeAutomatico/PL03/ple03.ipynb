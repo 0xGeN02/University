{
 "cells": [
  {
   "cell_type": "code",
   "execution_count": 32,
   "metadata": {},
   "outputs": [],
   "source": [
    "import os\n",
    "from pathlib import Path"
   ]
  },
  {
   "cell_type": "code",
   "execution_count": 33,
   "metadata": {},
   "outputs": [],
   "source": [
    "from apr_damas import JugadorDamasMaq, JuegoDamas, JugadorDamasHum"
   ]
  },
  {
   "cell_type": "code",
   "execution_count": 34,
   "metadata": {},
   "outputs": [],
   "source": [
    "\n",
    "# Ensure the directory exists\n",
    "artefactos_path = Path(\"C:/Users/manue/University/3/AprendizajeAutomatico/PL03/artefactos\")\n",
    "os.makedirs(artefactos_path, exist_ok=True)\n"
   ]
  },
  {
   "cell_type": "code",
   "execution_count": null,
   "metadata": {},
   "outputs": [
    {
     "name": "stdout",
     "output_type": "stream",
     "text": [
      "-------------\n",
      "|   | x |   | x |   | x |   | x | \n",
      "-------------\n",
      "| x |   | x |   | x |   | x |   | \n",
      "-------------\n",
      "|   | x |   | x |   | x |   | x | \n",
      "-------------\n",
      "|   |   |   |   |   |   |   |   | \n",
      "-------------\n",
      "|   |   |   |   |   |   |   |   | \n",
      "-------------\n",
      "| o |   | o |   | o |   | o |   | \n",
      "-------------\n",
      "|   | o |   | o |   | o |   | o | \n",
      "-------------\n",
      "| o |   | o |   | o |   | o |   | \n",
      "-------------\n",
      "Partida 0\n"
     ]
    }
   ],
   "source": [
    "# Entrenamiento de jugadores máquina\n",
    "jugador1 = JugadorDamasMaq(nombre=\"Máquina1\")\n",
    "jugador2 = JugadorDamasMaq(nombre=\"Máquina2\")\n",
    "juego = JuegoDamas(jugador1, jugador2)\n",
    "n_rondas = 100\n",
    "juego.fit(rondas=n_rondas)\n",
    "jugador1.guarda_politica(artefactos_path / f\"apr_damas_{n_rondas}.yml\")\n"
   ]
  },
  {
   "cell_type": "code",
   "execution_count": 5,
   "metadata": {},
   "outputs": [
    {
     "name": "stdout",
     "output_type": "stream",
     "text": [
      "Partida 0\n"
     ]
    },
    {
     "ename": "TypeError",
     "evalue": "'NoneType' object is not subscriptable",
     "output_type": "error",
     "traceback": [
      "\u001b[1;31m---------------------------------------------------------------------------\u001b[0m",
      "\u001b[1;31mTypeError\u001b[0m                                 Traceback (most recent call last)",
      "Cell \u001b[1;32mIn[5], line 3\u001b[0m\n\u001b[0;32m      1\u001b[0m \u001b[38;5;66;03m# Más rondas\u001b[39;00m\n\u001b[0;32m      2\u001b[0m n_rondas \u001b[38;5;241m=\u001b[39m \u001b[38;5;241m2000\u001b[39m\n\u001b[1;32m----> 3\u001b[0m \u001b[43mjuego\u001b[49m\u001b[38;5;241;43m.\u001b[39;49m\u001b[43mfit\u001b[49m\u001b[43m(\u001b[49m\u001b[43mrondas\u001b[49m\u001b[38;5;241;43m=\u001b[39;49m\u001b[43mn_rondas\u001b[49m\u001b[43m)\u001b[49m\n\u001b[0;32m      4\u001b[0m jugador1\u001b[38;5;241m.\u001b[39mguarda_politica(artefactos_path \u001b[38;5;241m/\u001b[39m \u001b[38;5;124mf\u001b[39m\u001b[38;5;124m\"\u001b[39m\u001b[38;5;124mapr_damas_\u001b[39m\u001b[38;5;132;01m{\u001b[39;00mn_rondas\u001b[38;5;132;01m}\u001b[39;00m\u001b[38;5;124m.yml\u001b[39m\u001b[38;5;124m\"\u001b[39m)\n",
      "File \u001b[1;32mc:\\Users\\manue\\University\\3\\AprendizajeAutomatico\\PL03\\apr_damas.py:209\u001b[0m, in \u001b[0;36mJuegoDamas.fit\u001b[1;34m(self, rondas)\u001b[0m\n\u001b[0;32m    207\u001b[0m \u001b[38;5;28;01mif\u001b[39;00m i \u001b[38;5;241m%\u001b[39m \u001b[38;5;241m10\u001b[39m \u001b[38;5;241m==\u001b[39m \u001b[38;5;241m0\u001b[39m:\n\u001b[0;32m    208\u001b[0m     \u001b[38;5;28mprint\u001b[39m(\u001b[38;5;124mf\u001b[39m\u001b[38;5;124m\"\u001b[39m\u001b[38;5;124mPartida \u001b[39m\u001b[38;5;132;01m{\u001b[39;00mi\u001b[38;5;132;01m}\u001b[39;00m\u001b[38;5;124m\"\u001b[39m)\n\u001b[1;32m--> 209\u001b[0m \u001b[38;5;28;43mself\u001b[39;49m\u001b[38;5;241;43m.\u001b[39;49m\u001b[43mjugar\u001b[49m\u001b[43m(\u001b[49m\u001b[43m)\u001b[49m\n",
      "File \u001b[1;32mc:\\Users\\manue\\University\\3\\AprendizajeAutomatico\\PL03\\apr_damas.py:216\u001b[0m, in \u001b[0;36mJuegoDamas.jugar\u001b[1;34m(self)\u001b[0m\n\u001b[0;32m    214\u001b[0m posiciones \u001b[38;5;241m=\u001b[39m \u001b[38;5;28mself\u001b[39m\u001b[38;5;241m.\u001b[39m__get_posiciones_libres()\n\u001b[0;32m    215\u001b[0m accion_j1 \u001b[38;5;241m=\u001b[39m \u001b[38;5;28mself\u001b[39m\u001b[38;5;241m.\u001b[39m_jugador1\u001b[38;5;241m.\u001b[39mdecide_accion(posiciones, \u001b[38;5;28mself\u001b[39m\u001b[38;5;241m.\u001b[39m_tablero, \u001b[38;5;241m1\u001b[39m)\n\u001b[1;32m--> 216\u001b[0m \u001b[38;5;28mself\u001b[39m\u001b[38;5;241m.\u001b[39m__actualiza_estado((\u001b[43maccion_j1\u001b[49m\u001b[43m[\u001b[49m\u001b[38;5;241;43m0\u001b[39;49m\u001b[43m]\u001b[49m, accion_j1[\u001b[38;5;241m1\u001b[39m]), (accion_j1[\u001b[38;5;241m2\u001b[39m], accion_j1[\u001b[38;5;241m3\u001b[39m]))\n\u001b[0;32m    217\u001b[0m \u001b[38;5;28mself\u001b[39m\u001b[38;5;241m.\u001b[39mprint_tablero(verbosidad)\n\u001b[0;32m    218\u001b[0m \u001b[38;5;28mself\u001b[39m\u001b[38;5;241m.\u001b[39m_jugador1\u001b[38;5;241m.\u001b[39mguarda_estado(\u001b[38;5;28mself\u001b[39m\u001b[38;5;241m.\u001b[39m_estado)\n",
      "\u001b[1;31mTypeError\u001b[0m: 'NoneType' object is not subscriptable"
     ]
    }
   ],
   "source": [
    "# Más rondas\n",
    "n_rondas = 2000\n",
    "juego.fit(rondas=n_rondas)\n",
    "jugador1.guarda_politica(artefactos_path / f\"apr_damas_{n_rondas}.yml\")"
   ]
  },
  {
   "cell_type": "code",
   "execution_count": 56,
   "metadata": {},
   "outputs": [],
   "source": [
    "# Load the best policy\n",
    "pesos_mejor_politica = \"apr_damas_2000.yml\"\n",
    "jugador_maq1_mejor = JugadorDamasMaq(\"Mejor máquina\")\n",
    "jugador_maq1_mejor.carga_politica(artefactos_path / pesos_mejor_politica)"
   ]
  },
  {
   "cell_type": "code",
   "execution_count": 63,
   "metadata": {},
   "outputs": [
    {
     "name": "stdout",
     "output_type": "stream",
     "text": [
      "-------------\n",
      "|   |   |   |   |   |   |   |   | \n",
      "-------------\n",
      "|   |   |   |   |   |   |   |   | \n",
      "-------------\n",
      "|   |   |   |   |   |   |   |   | \n",
      "-------------\n",
      "|   |   |   |   |   |   |   |   | \n",
      "-------------\n",
      "|   |   |   |   |   |   |   |   | \n",
      "-------------\n",
      "|   |   |   |   |   |   |   |   | \n",
      "-------------\n",
      "| x |   |   |   |   |   |   |   | \n",
      "-------------\n",
      "|   |   |   |   |   |   |   |   | \n",
      "-------------\n",
      "¡Ha ganado el jugador Mejor máquina!\n",
      "-------------\n",
      "|   |   |   |   |   |   |   |   | \n",
      "-------------\n",
      "|   |   |   |   |   |   |   |   | \n",
      "-------------\n",
      "|   |   |   |   |   |   |   |   | \n",
      "-------------\n",
      "|   |   |   |   |   |   |   |   | \n",
      "-------------\n",
      "|   |   |   |   |   |   |   |   | \n",
      "-------------\n",
      "|   |   |   |   |   |   |   |   | \n",
      "-------------\n",
      "| x |   |   |   |   |   |   |   | \n",
      "-------------\n",
      "|   |   |   |   |   |   |   |   | \n",
      "-------------\n"
     ]
    }
   ],
   "source": [
    "# Machine vs Human\n",
    "jugador_humano = JugadorDamasHum(\"Humano\")\n",
    "juego = JuegoDamas(jugador_maq1_mejor, jugador_humano)\n",
    "juego.jugar()"
   ]
  },
  {
   "cell_type": "code",
   "execution_count": 64,
   "metadata": {},
   "outputs": [
    {
     "name": "stdout",
     "output_type": "stream",
     "text": [
      "-------------\n",
      "|   |   |   |   |   |   |   |   | \n",
      "-------------\n",
      "|   |   |   |   |   |   |   |   | \n",
      "-------------\n",
      "|   |   |   |   |   |   |   |   | \n",
      "-------------\n",
      "|   |   |   |   |   |   |   |   | \n",
      "-------------\n",
      "|   |   |   |   |   |   |   |   | \n",
      "-------------\n",
      "|   |   |   |   |   |   |   |   | \n",
      "-------------\n",
      "|   |   |   |   |   |   |   |   | \n",
      "-------------\n",
      "|   |   |   |   |   |   |   | x | \n",
      "-------------\n",
      "¡Ha ganado el jugador Mejor máquina!\n",
      "-------------\n",
      "|   |   |   |   |   |   |   |   | \n",
      "-------------\n",
      "|   |   |   |   |   |   |   |   | \n",
      "-------------\n",
      "|   |   |   |   |   |   |   |   | \n",
      "-------------\n",
      "|   |   |   |   |   |   |   |   | \n",
      "-------------\n",
      "|   |   |   |   |   |   |   |   | \n",
      "-------------\n",
      "|   |   |   |   |   |   |   |   | \n",
      "-------------\n",
      "|   |   |   |   |   |   |   |   | \n",
      "-------------\n",
      "|   |   |   |   |   |   |   | x | \n",
      "-------------\n"
     ]
    }
   ],
   "source": [
    "# Human vs Machine\n",
    "jugador_humano = JugadorDamasHum(\"Humano\")\n",
    "juego = JuegoDamas( jugador_maq1_mejor, jugador_humano)\n",
    "juego.jugar()"
   ]
  }
 ],
 "metadata": {
  "kernelspec": {
   "display_name": "aa_venv",
   "language": "python",
   "name": "python3"
  },
  "language_info": {
   "codemirror_mode": {
    "name": "ipython",
    "version": 3
   },
   "file_extension": ".py",
   "mimetype": "text/x-python",
   "name": "python",
   "nbconvert_exporter": "python",
   "pygments_lexer": "ipython3",
   "version": "3.13.0"
  }
 },
 "nbformat": 4,
 "nbformat_minor": 2
}
