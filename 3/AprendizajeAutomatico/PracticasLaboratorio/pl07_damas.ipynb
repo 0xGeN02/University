{
 "cells": [
  {
   "cell_type": "markdown",
   "metadata": {},
   "source": [
    "<img alt=\"\" src=\"data:image/png;base64,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"
   ]
  },
  {
   "cell_type": "markdown",
   "metadata": {},
   "source": [
    "# Juego de Damas\n",
    "En este notebook, implementaremos el juego de damas en Python."
   ]
  },
  {
   "cell_type": "code",
   "execution_count": null,
   "metadata": {},
   "outputs": [],
   "source": [
    "import numpy as np\n",
    "import matplotlib.pyplot as plt\n",
    "import matplotlib.patches as patches\n",
    "from IPython.display import display, clear_output\n",
    "import ipywidgets as widgets\n",
    "from ipywidgets import interact\n",
    "\n",
    "class Damas:\n",
    "    def __init__(self):\n",
    "        self.tablero = np.zeros((8, 8), dtype=int)\n",
    "        self.inicializar_tablero()\n",
    "        self.turno = 1\n",
    "        self.seleccion = None\n",
    "\n",
    "    def inicializar_tablero(self):\n",
    "        for fila in range(3):\n",
    "            for columna in range(8):\n",
    "                if (fila + columna) % 2 == 1:\n",
    "                    self.tablero[fila, columna] = 1\n",
    "                    self.tablero[7 - fila, 7 - columna] = 2\n",
    "\n",
    "    def mostrar_tablero(self):\n",
    "        fig, ax = plt.subplots()\n",
    "        for fila in range(8):\n",
    "            for columna in range(8):\n",
    "                color = 'white' if (fila + columna) % 2 == 0 else 'gray'\n",
    "                rect = patches.Rectangle((columna, 7 - fila), 1, 1, linewidth=1, edgecolor='black', facecolor=color)\n",
    "                ax.add_patch(rect)\n",
    "                if self.tablero[fila, columna] == 1:\n",
    "                    circle = patches.Circle((columna + 0.5, 7 - fila + 0.5), 0.4, facecolor='red')\n",
    "                    ax.add_patch(circle)\n",
    "                elif self.tablero[fila, columna] == 2:\n",
    "                    circle = patches.Circle((columna + 0.5, 7 - fila + 0.5), 0.4, facecolor='black')\n",
    "                    ax.add_patch(circle)\n",
    "        ax.set_xlim(0, 8)\n",
    "        ax.set_ylim(0, 8)\n",
    "        ax.set_xticks([])\n",
    "        ax.set_yticks([])\n",
    "        plt.show()\n",
    "\n",
    "    def mover(self, origen, destino):\n",
    "        fila_origen, columna_origen = origen\n",
    "        fila_destino, columna_destino = destino\n",
    "        self.tablero[fila_destino, columna_destino] = self.tablero[fila_origen, columna_origen]\n",
    "        self.tablero[fila_origen, columna_origen] = 0\n",
    "        self.turno = 3 - self.turno\n",
    "\n",
    "    def seleccionar(self, fila, columna):\n",
    "        if self.seleccion is None:\n",
    "            if self.tablero[fila, columna] == self.turno:\n",
    "                self.seleccion = (fila, columna)\n",
    "        else:\n",
    "            self.mover(self.seleccion, (fila, columna))\n",
    "            self.seleccion = None\n",
    "        clear_output(wait=True)\n",
    "        self.mostrar_tablero()\n",
    "\n",
    "damas = Damas()\n",
    "damas.mostrar_tablero()\n",
    "\n",
    "interact(damas.seleccionar, fila=widgets.IntSlider(min=0, max=7, step=1, value=0), columna=widgets.IntSlider(min=0, max=7, step=1, value=0))\n"
   ]
  }
 ]
}
