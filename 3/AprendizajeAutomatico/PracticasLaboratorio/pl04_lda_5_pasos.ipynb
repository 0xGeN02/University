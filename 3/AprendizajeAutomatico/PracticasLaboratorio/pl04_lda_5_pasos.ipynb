{
 "cells": [
  {
   "cell_type": "markdown",
   "metadata": {},
   "source": [
    "# PL04. Análisis Discriminante Lineal (LDA) en 5 Pasos\n",
    "\n",
    "__Borja González Seoane. Aprendizaje Automático. Curso 2024-25__\n",
    "\n",
    "En esta práctica se implementará un modelo de análisis discriminante lineal (LDA) a partir de la especificación en 5 pasos disponible en las transparencias de la Unidad II de la asignatura \\[Transparencias U2-S05\\]. \n",
    "\n",
    "Objetivos:\n",
    "\n",
    "- **Implementar el LDA en 5 pasos desde cero en Python, utilizando sólo librerías básicas como NumPy o Pandas**.\n",
    "- Comentar el código para relacionar teoría y práctica.\n",
    "- Utilizar un arquetipo orientado a objetos, como en PL03.\n",
    "- Probar con el conjunto de datos Iris.\n"
   ]
  },
  {
   "cell_type": "code",
   "execution_count": 1,
   "metadata": {},
   "outputs": [],
   "source": [
    "import numpy as np\n",
    "\n",
    "# ..."
   ]
  },
  {
   "cell_type": "code",
   "execution_count": 2,
   "metadata": {},
   "outputs": [],
   "source": [
    "TEST_SPLIT_SIZE = 0.3\n",
    "RANDOM_STATE = 42"
   ]
  },
  {
   "cell_type": "markdown",
   "metadata": {},
   "source": [
    "## Carga del conjunto de datos"
   ]
  },
  {
   "cell_type": "code",
   "execution_count": 3,
   "metadata": {},
   "outputs": [],
   "source": [
    "# ..."
   ]
  },
  {
   "cell_type": "markdown",
   "metadata": {},
   "source": [
    "### Se transforma la columna de especies a numérico\n",
    "\n",
    "Más conveniente para el análisis posterior."
   ]
  },
  {
   "cell_type": "code",
   "execution_count": 4,
   "metadata": {},
   "outputs": [],
   "source": [
    "# ..."
   ]
  },
  {
   "cell_type": "markdown",
   "metadata": {},
   "source": [
    "## Implementación del LDA en 5 pasos\n",
    "\n",
    "Primero se implementarán las diferentes partes del LDA en 5 pasos. Luego se acoplarán en una clase-arquetipo para poder utilizarlo de forma más sencilla."
   ]
  },
  {
   "cell_type": "markdown",
   "metadata": {},
   "source": [
    "### Paso 1. Calcular las medias de las características para cada clase"
   ]
  },
  {
   "cell_type": "code",
   "execution_count": 5,
   "metadata": {},
   "outputs": [],
   "source": [
    "# ..."
   ]
  },
  {
   "cell_type": "markdown",
   "metadata": {},
   "source": [
    "### Paso 2. Calcular la matrices de dispersión intraclase e interclase"
   ]
  },
  {
   "cell_type": "markdown",
   "metadata": {},
   "source": [
    "#### Intraclase"
   ]
  },
  {
   "cell_type": "code",
   "execution_count": 6,
   "metadata": {},
   "outputs": [],
   "source": [
    "# ..."
   ]
  },
  {
   "cell_type": "markdown",
   "metadata": {},
   "source": [
    "#### Interclase"
   ]
  },
  {
   "cell_type": "code",
   "execution_count": 7,
   "metadata": {},
   "outputs": [],
   "source": [
    "# ..."
   ]
  },
  {
   "cell_type": "markdown",
   "metadata": {},
   "source": [
    "### Paso 3. Calcular los eigenvectores y eigenvalores de la matriz de dispersión"
   ]
  },
  {
   "cell_type": "code",
   "execution_count": 8,
   "metadata": {},
   "outputs": [],
   "source": [
    "# ..."
   ]
  },
  {
   "cell_type": "markdown",
   "metadata": {},
   "source": [
    "### Paso 4. Seleccionar los discriminantes de Fisher\n",
    "\n",
    "Ordenar los eigenvectores según sus eigenvalores en orden descendente. Se forma una matriz de proyección $W$, de dimensión $d \\times k$, donde $d$ es el número de características y $k$ es el número de clases menos uno."
   ]
  },
  {
   "cell_type": "code",
   "execution_count": 9,
   "metadata": {},
   "outputs": [],
   "source": [
    "# ..."
   ]
  },
  {
   "cell_type": "markdown",
   "metadata": {},
   "source": [
    "### Paso 5. Usar la matriz de proyección $W$ para proyectar las características originales"
   ]
  },
  {
   "cell_type": "code",
   "execution_count": 10,
   "metadata": {},
   "outputs": [],
   "source": [
    "# ..."
   ]
  },
  {
   "cell_type": "markdown",
   "metadata": {},
   "source": [
    "## Arquetipado de la clase\n",
    "\n",
    "Se implementa una clase que encapsula el proceso de LDA en 5 pasos. Se incluyen métodos para entrenar el modelo y para predecir nuevas observaciones.\n",
    "\n",
    "Interfaz pública:\n",
    "\n",
    "- `fit(X, y)`: Entrena el modelo.\n",
    "- `predict(X)`: Predice la clase de nuevas observaciones.\n"
   ]
  },
  {
   "cell_type": "code",
   "execution_count": 11,
   "metadata": {},
   "outputs": [],
   "source": [
    "# Esqueleto de la clase a implementar\n",
    "\n",
    "\n",
    "class LDAClassifier5Pasos:\n",
    "    def __init__(self):  # Constructor de la clase. Impleméntese si es necesario\n",
    "        pass\n",
    "\n",
    "    def fit(self, X: np.array, y: np.array):\n",
    "        raise NotImplementedError(\"Impleméntese este arquetipo esqueleto\")\n",
    "\n",
    "    def predict(self, X: np.array) -> np.array:\n",
    "        raise NotImplementedError(\"Impleméntese este arquetipo esqueleto\")"
   ]
  },
  {
   "cell_type": "code",
   "execution_count": 12,
   "metadata": {},
   "outputs": [],
   "source": [
    "# Clase implementada\n",
    "\n",
    "# ..."
   ]
  },
  {
   "cell_type": "markdown",
   "metadata": {},
   "source": [
    "## Prueba final con Iris"
   ]
  },
  {
   "cell_type": "code",
   "execution_count": 13,
   "metadata": {},
   "outputs": [],
   "source": [
    "# ..."
   ]
  },
  {
   "cell_type": "markdown",
   "metadata": {},
   "source": [
    "### Visualización de la reducción de dimensionalidad"
   ]
  },
  {
   "cell_type": "code",
   "execution_count": 14,
   "metadata": {},
   "outputs": [],
   "source": [
    "# ..."
   ]
  },
  {
   "cell_type": "markdown",
   "metadata": {},
   "source": [
    "## Evaluación del modelo\n",
    "\n",
    "En este caso se mide la **precisión** del modelo.\n",
    "\n",
    "Utilícense particiones para entrenamiento y test."
   ]
  },
  {
   "cell_type": "code",
   "execution_count": 15,
   "metadata": {},
   "outputs": [],
   "source": [
    "# ..."
   ]
  }
 ],
 "metadata": {
  "kernelspec": {
   "display_name": "uie-aa-laboratorio-lMEK0xzY-py3.11",
   "language": "python",
   "name": "python3"
  },
  "language_info": {
   "codemirror_mode": {
    "name": "ipython",
    "version": 3
   },
   "file_extension": ".py",
   "mimetype": "text/x-python",
   "name": "python",
   "nbconvert_exporter": "python",
   "pygments_lexer": "ipython3",
   "version": "3.11.0"
  }
 },
 "nbformat": 4,
 "nbformat_minor": 2
}