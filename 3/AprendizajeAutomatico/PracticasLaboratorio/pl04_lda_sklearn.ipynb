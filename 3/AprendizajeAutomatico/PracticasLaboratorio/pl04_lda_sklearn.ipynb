{
 "cells": [
  {
   "cell_type": "markdown",
   "metadata": {},
   "source": [
    "# PL04. Análisis Discriminante Lineal (LDA) (Scikit-Learn)\n",
    "\n",
    "__Borja González Seoane. Aprendizaje Automático. Curso 2024-25__\n",
    "\n",
    "En esta práctica se trabajará con el *dataset* Iris de la librería `sklearn`. Se aplicará el análisis discriminante lineal (LDA) para clasificar las tres especies de flores que contiene el *dataset*.\n",
    "\n",
    "Pasos:\n",
    "\n",
    "1. Cargar el *dataset* Iris de la librería `sklearn`.\n",
    "2. Partir el *dataset* en dos conjuntos: entrenamiento y test. Reservar un 30 % de las muestras para test. Úsese la semilla `42`.\n",
    "3. Entrenar un modelo LDA. Investigar la implementación de LDA en `sklearn`.\n",
    "4. Evaluar el modelo con el conjunto de test. Calcular la **precisión**.\n"
   ]
  },
  {
   "cell_type": "code",
   "execution_count": null,
   "metadata": {},
   "outputs": [],
   "source": [
    "# Importaciones ..."
   ]
  },
  {
   "cell_type": "code",
   "execution_count": 1,
   "metadata": {},
   "outputs": [],
   "source": [
    "TEST_SPLIT_SIZE = 0.3\n",
    "RANDOM_STATE = 42"
   ]
  },
  {
   "cell_type": "markdown",
   "metadata": {},
   "source": [
    "## Carga del conjunto de datos"
   ]
  },
  {
   "cell_type": "code",
   "execution_count": 2,
   "metadata": {},
   "outputs": [],
   "source": [
    "# ..."
   ]
  },
  {
   "cell_type": "markdown",
   "metadata": {},
   "source": [
    "## Partición de los datos\n",
    "\n",
    "Se reserva un subconjunto de test."
   ]
  },
  {
   "cell_type": "code",
   "execution_count": 3,
   "metadata": {},
   "outputs": [],
   "source": [
    "# ..."
   ]
  },
  {
   "cell_type": "markdown",
   "metadata": {},
   "source": [
    "## Se instancia y entrena modelo LDA"
   ]
  },
  {
   "cell_type": "code",
   "execution_count": 4,
   "metadata": {},
   "outputs": [],
   "source": [
    "# ..."
   ]
  },
  {
   "cell_type": "markdown",
   "metadata": {},
   "source": [
    "## Evaluación del modelo\n",
    "\n",
    "En este caso se mide la **precisión** del modelo."
   ]
  },
  {
   "cell_type": "code",
   "execution_count": 5,
   "metadata": {},
   "outputs": [],
   "source": [
    "# ..."
   ]
  }
 ],
 "metadata": {
  "kernelspec": {
   "display_name": "uie-aa-laboratorio-lMEK0xzY-py3.11",
   "language": "python",
   "name": "python3"
  },
  "language_info": {
   "codemirror_mode": {
    "name": "ipython",
    "version": 3
   },
   "file_extension": ".py",
   "mimetype": "text/x-python",
   "name": "python",
   "nbconvert_exporter": "python",
   "pygments_lexer": "ipython3",
   "version": "3.11.0"
  }
 },
 "nbformat": 4,
 "nbformat_minor": 2
}