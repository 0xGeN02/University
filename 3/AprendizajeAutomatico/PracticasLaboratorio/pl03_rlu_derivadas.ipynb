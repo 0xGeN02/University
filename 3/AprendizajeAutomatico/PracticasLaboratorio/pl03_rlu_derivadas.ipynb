{
 "cells": [
  {
   "cell_type": "markdown",
   "metadata": {},
   "source": [
    "# PL03. Regresión Lineal Univariante por Derivadas\n",
    "\n",
    "__Borja González Seoane. Aprendizaje Automático. Curso 2024-25__\n",
    "\n",
    "Objetivos:\n",
    "\n",
    "1. Implementar un modelo de regresión lineal univariante mediante el método de las derivadas, a partir de las ecuaciones obtenidas en la demostración.\n",
    "2. Probar el modelo con un conjunto de datos de ejemplo.\n",
    "3. Comparar los resultados con el regresor lineal de Scikit-Learn, a saber\n",
    "`skearn.linear model.LinearRegression`.\n"
   ]
  },
  {
   "cell_type": "code",
   "execution_count": null,
   "metadata": {},
   "outputs": [],
   "source": [
    "import matplotlib.pyplot as plt\n",
    "import numpy as np\n",
    "import pandas as pd\n",
    "import seaborn as sns\n",
    "from sklearn.linear_model import LinearRegression"
   ]
  },
  {
   "cell_type": "code",
   "execution_count": null,
   "metadata": {},
   "outputs": [],
   "source": [
    "# ..."
   ]
  }
 ],
 "metadata": {
  "kernelspec": {
   "display_name": "uie-aa-laboratorio-lMEK0xzY-py3.11",
   "language": "python",
   "name": "python3"
  },
  "language_info": {
   "name": "python",
   "version": "3.11.0"
  }
 },
 "nbformat": 4,
 "nbformat_minor": 2
}
