{
 "cells": [
  {
   "cell_type": "markdown",
   "id": "2ef8af09",
   "metadata": {},
   "source": [
    "# Clasificación de Fotos de Casas usando K-Means\n",
    "\n",
    "## Clasificación automática de imágenes de habitaciones en subdirectorios\n",
    " \n",
    "Este notebook clasifica fotos de partes de una casa (cocina, baño, dormitorio, etc.) en subdirectorios usando:\n",
    "    - **Extracción de características** con Redes Neuronales Convolucionales (VGG16)\n",
    "    - **Clustering** con algoritmo K-Means\n",
    "    - **Organización automática** de archivos"
   ]
  },
  {
   "cell_type": "markdown",
   "id": "c75ac1d9",
   "metadata": {},
   "source": [
    "## 1. Instalación de Dependencias\n",
    "\n",
    "Primero instalamos las librerías necesarias:\n"
   ]
  },
  {
   "cell_type": "code",
   "execution_count": null,
   "id": "80f4c7dd",
   "metadata": {},
   "outputs": [],
   "source": [
    "# %pip install numpy pillow scikit-learn tensorflow matplotlib"
   ]
  },
  {
   "cell_type": "markdown",
   "id": "cf94a60a",
   "metadata": {},
   "source": [
    "## 2. Importación de Librerías"
   ]
  },
  {
   "cell_type": "code",
   "execution_count": null,
   "id": "6a0b40f8",
   "metadata": {},
   "outputs": [],
   "source": [
    "import os\n",
    "import shutil\n",
    "import numpy as np\n",
    "from PIL import Image\n",
    "import matplotlib.pyplot as plt\n",
    "from sklearn.cluster import KMeans\n",
    "from tensorflow.keras.applications.vgg16 import VGG16, preprocess_input\n",
    "from tensorflow.keras.preprocessing.image import img_to_array"
   ]
  },
  {
   "cell_type": "markdown",
   "id": "34dce0e8",
   "metadata": {},
   "source": [
    "## 3. Configuración Inicial\n",
    "\n",
    "Definimos los parámetros principales:\n"
   ]
  },
  {
   "cell_type": "code",
   "execution_count": null,
   "id": "40cf1076",
   "metadata": {},
   "outputs": [],
   "source": [
    "# Configuración\n",
    "INPUT_DIR = \"./fotos_casa\"    # Directorio con fotos originales\n",
    "OUTPUT_DIR = \"./clasificadas\" # Directorio de salida\n",
    "NUM_CLUSTERS = 4              # Número de habitaciones diferentes a clasificar\n",
    "IMG_SIZE = (224, 224)         # Tamaño requerido por VGG16"
   ]
  },
  {
   "cell_type": "markdown",
   "id": "73561d2c",
   "metadata": {},
   "source": [
    "# 4. Carga y Preprocesamiento de Imágenes\n",
    "Función para cargar imágenes y convertirlas al formato requerido por VGG16:"
   ]
  },
  {
   "cell_type": "code",
   "execution_count": null,
   "id": "b0ce60d0",
   "metadata": {},
   "outputs": [],
   "source": [
    "def cargar_imagenes():\n",
    "    imagenes = []\n",
    "    rutas_validas = []\n",
    "    \n",
    "    print(f\"Cargando imágenes de {INPUT_DIR}...\")\n",
    "    \n",
    "    for archivo in os.listdir(INPUT_DIR):\n",
    "        ruta = os.path.join(INPUT_DIR, archivo)\n",
    "        if not archivo.lower().endswith(('.png', '.jpg', '.jpeg')):\n",
    "            continue\n",
    "            \n",
    "        try:\n",
    "            img = Image.open(ruta).convert('RGB') # Convertir a RGB\n",
    "            img = img.resize(IMG_SIZE) # Redimensionar a 224x224\n",
    "            img_array = img_to_array(img) # Convertir a array\n",
    "            imagenes.append(img_array) # Añadir a la lista\n",
    "            rutas_validas.append(ruta) # Guardar ruta válida\n",
    "            print(f\"Imagen cargada: {ruta}\")\n",
    "        except Exception as e:\n",
    "            print(f\"Error en {archivo}: {str(e)}\")\n",
    "    \n",
    "    return np.array(imagenes), rutas_validas"
   ]
  },
  {
   "cell_type": "code",
   "execution_count": null,
   "id": "5d307698",
   "metadata": {},
   "outputs": [],
   "source": [
    "imagenes, rutas = cargar_imagenes()\n",
    "print(f\"Imágenes cargadas: {len(imagenes)}\")"
   ]
  },
  {
   "cell_type": "markdown",
   "id": "dac0185b",
   "metadata": {},
   "source": [
    "## 5. Extracción de Características\n",
    "Usamos VGG16 para obtener características profundas de las imágenes:"
   ]
  },
  {
   "cell_type": "code",
   "execution_count": null,
   "id": "59fc8474",
   "metadata": {},
   "outputs": [],
   "source": [
    "def extraer_caracteristicas(imagenes):\n",
    "    print(\"Extrayendo características con VGG16...\")\n",
    "    modelo = VGG16(weights='imagenet', include_top=False, pooling='avg') # Modelo VGG16 sin la capa superior\n",
    "    imagenes_procesadas = preprocess_input(imagenes) # Preprocesar imágenes\n",
    "    caracteristicas = modelo.predict(imagenes_procesadas) # Extraer características\n",
    "    return caracteristicas.reshape(len(imagenes), -1) # Aplanar las características"
   ]
  },
  {
   "cell_type": "code",
   "execution_count": null,
   "id": "dcc3a44d",
   "metadata": {},
   "outputs": [],
   "source": [
    "caracteristicas = extraer_caracteristicas(imagenes)\n",
    "print(f\"Dimensiones de las características: {caracteristicas.shape}\")"
   ]
  },
  {
   "cell_type": "markdown",
   "id": "20cd0fda",
   "metadata": {},
   "source": [
    "\n",
    "## 6. Clustering con K-Means\n",
    "Agrupamos las imágenes en clusters basados en sus características:"
   ]
  },
  {
   "cell_type": "code",
   "execution_count": null,
   "id": "e827a340",
   "metadata": {},
   "outputs": [],
   "source": [
    "print(\"Ejecutando K-Means...\")\n",
    "kmeans = KMeans(n_clusters=NUM_CLUSTERS, random_state=42)\n",
    "etiquetas = kmeans.fit_predict(caracteristicas)\n",
    "\n",
    "# Mostrar distribución de clusters\n",
    "plt.hist(etiquetas, bins=NUM_CLUSTERS)\n",
    "plt.title(\"Distribución de Clusters\")\n",
    "plt.xlabel(\"Cluster ID\")\n",
    "plt.ylabel(\"Número de Imágenes\")\n",
    "plt.show()\n"
   ]
  },
  {
   "cell_type": "markdown",
   "id": "295d5271",
   "metadata": {},
   "source": [
    "\n",
    "## 7. Organización de Archivos\n",
    "Copiamos las imágenes a subdirectorios según su cluster:"
   ]
  },
  {
   "cell_type": "code",
   "execution_count": null,
   "id": "78299374",
   "metadata": {},
   "outputs": [],
   "source": [
    "def organizar_imagenes(etiquetas):\n",
    "    print(\"Organizando imágenes...\")\n",
    "    \n",
    "    # Crear directorios\n",
    "    for i in range(NUM_CLUSTERS):\n",
    "        os.makedirs(os.path.join(OUTPUT_DIR, f'cluster_{i}'), exist_ok=True)\n",
    "    \n",
    "    # Copiar archivos\n",
    "    for ruta, etiqueta in zip(rutas, etiquetas):\n",
    "        nombre_archivo = os.path.basename(ruta)\n",
    "        destino = os.path.join(OUTPUT_DIR, f'cluster_{etiqueta}', nombre_archivo)\n",
    "        shutil.copy(ruta, destino)\n",
    "    \n",
    "    print(f\"Organización completada en {OUTPUT_DIR}\")"
   ]
  },
  {
   "cell_type": "code",
   "execution_count": null,
   "id": "a532b7d3",
   "metadata": {},
   "outputs": [],
   "source": [
    "organizar_imagenes(etiquetas)"
   ]
  },
  {
   "cell_type": "markdown",
   "id": "e1d43d3a",
   "metadata": {},
   "source": [
    "\n",
    "## 8. Visualización de Resultados\n",
    "Mostramos ejemplos de cada cluster:"
   ]
  },
  {
   "cell_type": "code",
   "execution_count": null,
   "id": "5a0fbec0",
   "metadata": {},
   "outputs": [],
   "source": [
    "def mostrar_ejemplos(n=5):\n",
    "    fig, axs = plt.subplots(NUM_CLUSTERS, n, figsize=(20, 10))\n",
    "    \n",
    "    for cluster in range(NUM_CLUSTERS):\n",
    "        cluster_dir = os.path.join(OUTPUT_DIR, f'cluster_{cluster}')\n",
    "        imagenes_cluster = [os.path.join(cluster_dir, f) for f in os.listdir(cluster_dir)][:n]\n",
    "        \n",
    "        for i, img_path in enumerate(imagenes_cluster):\n",
    "            img = Image.open(img_path)\n",
    "            axs[cluster, i].imshow(img)\n",
    "            axs[cluster, i].axis('off')\n",
    "        axs[cluster, 0].set_ylabel(f'Cluster {cluster}', rotation=0, ha='right')\n",
    "    \n",
    "    plt.tight_layout()\n",
    "    plt.show()\n"
   ]
  },
  {
   "cell_type": "code",
   "execution_count": null,
   "id": "8f35bbc8",
   "metadata": {},
   "outputs": [],
   "source": [
    "mostrar_ejemplos()"
   ]
  },
  {
   "cell_type": "code",
   "execution_count": null,
   "id": "fd0eee23",
   "metadata": {},
   "outputs": [],
   "source": [
    "# %% [markdown]\n",
    "# ## Pasos Posteriores\n",
    "# 1. **Revisar manualmente** los clusters generados\n",
    "# 2. **Renombrar** los directorios `cluster_0`, `cluster_1`, etc. con los nombres reales (ej. \"cocina\", \"baño\")\n",
    "# 3. Ajustar `NUM_CLUSTERS` si se necesitan más/menos categorías\n",
    "# 4. Probar con diferentes modelos de extracción de características (ResNet, Inception)"
   ]
  }
 ],
 "metadata": {
  "language_info": {
   "name": "python"
  }
 },
 "nbformat": 4,
 "nbformat_minor": 5
}
