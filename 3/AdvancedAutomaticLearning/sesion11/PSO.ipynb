{
 "cells": [
  {
   "cell_type": "code",
   "execution_count": 2,
   "id": "1c85d0fb",
   "metadata": {},
   "outputs": [],
   "source": [
    "import numpy as np"
   ]
  },
  {
   "cell_type": "code",
   "execution_count": 3,
   "id": "b8688f4f",
   "metadata": {},
   "outputs": [],
   "source": [
    "# Definir la función objetivo\n",
    "def objective_function(position):\n",
    "    x, y = position\n",
    "    return (x - 3.14)**2 + (y - 2.72)**2 + np.sin(3*x + 1.41) + np.sin(4*y - 1.73)"
   ]
  },
  {
   "cell_type": "code",
   "execution_count": 4,
   "id": "2b025170",
   "metadata": {},
   "outputs": [],
   "source": [
    "# Clase Particle\n",
    "class Particle:\n",
    "    def __init__(self, bounds):\n",
    "        self.position = np.array([np.random.uniform(low, high) for low, high in bounds])\n",
    "        self.velocity = np.zeros_like(self.position)\n",
    "        self.best_position = self.position.copy()\n",
    "        self.best_value = objective_function(self.position)\n",
    "\n",
    "    def update_velocity(self, global_best, w=0.5, c1=1.5, c2=1.5):\n",
    "        r1, r2 = np.random.rand(2)\n",
    "        cognitive = c1 * r1 * (self.best_position - self.position)\n",
    "        social = c2 * r2 * (global_best - self.position)\n",
    "        self.velocity = w * self.velocity + cognitive + social\n",
    "\n",
    "    def update_position(self, bounds):\n",
    "        self.position = self.position + self.velocity\n",
    "        # Asegurar que la partícula se mantenga en los límites\n",
    "        for i, (low, high) in enumerate(bounds):\n",
    "            if self.position[i] < low:\n",
    "                self.position[i] = low\n",
    "            elif self.position[i] > high:\n",
    "                self.position[i] = high\n",
    "\n",
    "    def evaluate(self):\n",
    "        value = objective_function(self.position)\n",
    "        if value < self.best_value:\n",
    "            self.best_value = value\n",
    "            self.best_position = self.position.copy()"
   ]
  },
  {
   "cell_type": "code",
   "execution_count": 5,
   "id": "0204198f",
   "metadata": {},
   "outputs": [],
   "source": [
    "# Clase PSO\n",
    "class PSO:\n",
    "    def __init__(self, num_particles, bounds, iterations):\n",
    "        self.num_particles = num_particles\n",
    "        self.bounds = bounds  # Ejemplo: [(-10, 10), (-10, 10)]\n",
    "        self.iterations = iterations\n",
    "        self.swarm = [Particle(bounds) for _ in range(num_particles)]\n",
    "        self.global_best_position = self.swarm[0].best_position.copy()\n",
    "        self.global_best_value = self.swarm[0].best_value\n",
    "\n",
    "    def optimize(self):\n",
    "        for _ in range(self.iterations):\n",
    "            for particle in self.swarm:\n",
    "                particle.evaluate()\n",
    "                # Actualizar el mejor global\n",
    "                if particle.best_value < self.global_best_value:\n",
    "                    self.global_best_value = particle.best_value\n",
    "                    self.global_best_position = particle.best_position.copy()\n",
    "\n",
    "            for particle in self.swarm:\n",
    "                particle.update_velocity(self.global_best_position)\n",
    "                particle.update_position(self.bounds)\n",
    "        \n",
    "        return self.global_best_position, self.global_best_value"
   ]
  },
  {
   "cell_type": "code",
   "execution_count": 6,
   "id": "c01e3aac",
   "metadata": {},
   "outputs": [
    {
     "name": "stdout",
     "output_type": "stream",
     "text": [
      "Mejor posición: [3.18515538 3.12980282]\n",
      "Mejor valor: -1.8083520359225966\n"
     ]
    }
   ],
   "source": [
    "# Ejemplo de uso:\n",
    "if __name__ == \"__main__\":\n",
    "    bounds = [(-10, 10), (-10, 10)]\n",
    "    pso = PSO(num_particles=30, bounds=bounds, iterations=100)\n",
    "    best_position, best_value = pso.optimize()\n",
    "    print(\"Mejor posición:\", best_position)\n",
    "    print(\"Mejor valor:\", best_value)"
   ]
  }
 ],
 "metadata": {
  "kernelspec": {
   "display_name": "Python 3",
   "language": "python",
   "name": "python3"
  },
  "language_info": {
   "codemirror_mode": {
    "name": "ipython",
    "version": 3
   },
   "file_extension": ".py",
   "mimetype": "text/x-python",
   "name": "python",
   "nbconvert_exporter": "python",
   "pygments_lexer": "ipython3",
   "version": "3.13.2"
  }
 },
 "nbformat": 4,
 "nbformat_minor": 5
}
