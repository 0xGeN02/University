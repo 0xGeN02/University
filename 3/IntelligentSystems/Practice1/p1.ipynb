{
 "cells": [
  {
   "cell_type": "markdown",
   "id": "3d57d457",
   "metadata": {},
   "source": [
    "\n",
    "# Practice 1: Solving problems by search. \n",
    "\n",
    "## Uninformed and informed search strategies."
   ]
  },
  {
   "cell_type": "markdown",
   "id": "dc9d72a9",
   "metadata": {},
   "source": [
    "<center><h3>\n",
    "    Name and Surename\n",
    "</h3></center>\n"
   ]
  },
  {
   "cell_type": "markdown",
   "id": "8087aede",
   "metadata": {},
   "source": [
    "## Instructions"
   ]
  },
  {
   "cell_type": "markdown",
   "id": "a351019b",
   "metadata": {},
   "source": [
    "This is `Jupyter Notebook`, a document that integrates Python code into a Markdown file.\n",
    "This allows us to execute code cells step by step, as well as automatically generate a well-formatted report of the practice.\n",
    "\n",
    "You can add a new cell using the \"Insert\" button in the toolbar and change its type with \"Cell > Cell Type\".\n",
    "\n",
    "To execute a code cell, select it and press the \"▶ Run\" button in the toolbar.\n",
    "To convert the document to HTML, select \"File > Download as > HTML (.html)\".\n",
    "\n",
    "Follow this script to the end. Execute the provided code step by step, understanding what you are doing and reflecting on the results. There will be questions interspersed throughout the script; answer all of them in the designated section: \"Responses to the questionnaires\". Please do not modify any line of code unless explicitly instructed to do so.\n",
    "\n",
    "Don't forget to insert your name and surname in the top cell."
   ]
  },
  {
   "cell_type": "markdown",
   "id": "3c804f80",
   "metadata": {},
   "source": [
    "## Submision of the practice"
   ]
  },
  {
   "cell_type": "markdown",
   "id": "797d20ec",
   "metadata": {},
   "source": [
    "The submission deadline will be the one indicated in the Virtual Campus. The submission will consist of a single compressed file named `LASTNAME_FIRSTNAME_P1.zip`, containing the following files:\n",
    "\n",
    "* `LASTNAME_FIRSTNAME_P1.html`: An HTML file generated from exporting this Notebook, with the answered questions at the end of the document.\n",
    "* `LASTNAME_FIRSTNAME_P1.ipynb`: The source Jupyter Notebook file.\n",
    "* The data file(s) used for problem-solving."
   ]
  },
  {
   "cell_type": "markdown",
   "id": "f7f872a1",
   "metadata": {},
   "source": [
    "\n",
    "## Python preliminaries\n"
   ]
  },
  {
   "cell_type": "markdown",
   "id": "3c2f982c",
   "metadata": {},
   "source": [
    "Here you have some Python functions that may be helpful in the near future while developing this practice.\n"
   ]
  },
  {
   "cell_type": "markdown",
   "id": "b69c9368",
   "metadata": {},
   "source": [
    "For example, you can generate random numbers using the package `random`."
   ]
  },
  {
   "cell_type": "code",
   "execution_count": null,
   "id": "d6354e9a",
   "metadata": {},
   "outputs": [],
   "source": [
    "import random\n",
    "\n",
    "# we can create a random number between 1 and 10\n",
    "random_number = random.randint(1, 10)\n",
    "print(random_number)\n",
    "\n",
    "# and random numbers between 0 and 1 following a uniform distribution\n",
    "random_U = random.uniform(0, 1)\n",
    "print(random_U)\n"
   ]
  },
  {
   "cell_type": "markdown",
   "id": "a9c96428",
   "metadata": {},
   "source": [
    "You can generate vectors of fixed and random numbers that are also shuffled randomly, as illustrated below."
   ]
  },
  {
   "cell_type": "code",
   "execution_count": null,
   "id": "371102aa",
   "metadata": {},
   "outputs": [],
   "source": [
    "vector = [x for x in range(1, 10)]\n",
    "print(\"fixed vector\", vector)\n",
    "\n",
    "random.shuffle(vector)\n",
    "print(vector)\n",
    "\n",
    "random_vector = [random.randint(1, 10) for i in range(1, 10)]\n",
    "print(\"random vector\", random_vector)\n",
    "\n",
    "random.shuffle(random_vector)\n",
    "print(random_vector)"
   ]
  },
  {
   "cell_type": "markdown",
   "id": "3a5608a8",
   "metadata": {},
   "source": [
    "Another important set of functions comes from the math module. You can find a list of available functions at https://docs.python.org/3/library/math.html. Below are some usage examples."
   ]
  },
  {
   "cell_type": "code",
   "execution_count": null,
   "id": "670e454e",
   "metadata": {},
   "outputs": [],
   "source": [
    "import math \n",
    "\n",
    "# number e raised to the specified power\n",
    "e = math.exp(1)\n",
    "print(e)\n",
    "\n",
    "power2_e = math.exp(2)\n",
    "print(power2_e)\n",
    "\n",
    "# example of exponentiation\n",
    "print(math.pow(e, 1))\n",
    "print(math.pow(e, 2))\n",
    "\n",
    "# example of the natural logarithm with base e\n",
    "base = e\n",
    "print(math.log(e))\n",
    "print(math.log(e, base))"
   ]
  },
  {
   "cell_type": "markdown",
   "id": "c1077d04",
   "metadata": {},
   "source": [
    "Finally, functions from the time module allow you to approximately measure the execution time of specific sections of code."
   ]
  },
  {
   "cell_type": "code",
   "execution_count": null,
   "id": "f19e7fd6",
   "metadata": {},
   "outputs": [],
   "source": [
    "import time\n",
    "start_time = time.time()\n",
    "\n",
    "sum = 0\n",
    "for i in range(1000000):\n",
    "    sum = sum * 1\n",
    "\n",
    "print(\"---- %s segundos ----\" % (time.time() - start_time))"
   ]
  },
  {
   "cell_type": "markdown",
   "id": "f73d01d4",
   "metadata": {},
   "source": [
    "## The Traveling Salesperson Problem (TSP)\n",
    "\n",
    "The objective of this practice is to model and implement an intelligent agent capable of solving the Traveling Salesperson Problem. To achieve this, you will implement the basic algorithm covered in the lecture and evaluate whether introducing modifications to the algorithm's design improves the quality of the solutions obtained."
   ]
  },
  {
   "cell_type": "markdown",
   "id": "8d0f75f2",
   "metadata": {},
   "source": [
    "\n",
    "### Problem definition"
   ]
  },
  {
   "cell_type": "markdown",
   "id": "2d8f430b",
   "metadata": {},
   "source": [
    "\n",
    "The Traveling Salesperson Problem (TSP) involves a salesperson who wants to sell a product and, to do so, needs to find the shortest possible route through the cities of their customers, visiting each city only once and starting and ending the journey in their own city (a circular route from the initial city).\n",
    "\n",
    "Typically, the problem is represented using a weighted graphG=(N, A), where N is the set of n=|N| nodes (cities), and A is the set of arcs connecting the nodes. Each arc(i, j) ∈ A is assigned a weight d_ij which represents the distance between cities i and j.\n"
   ]
  },
  {
   "cell_type": "markdown",
   "id": "bbcfc483",
   "metadata": {},
   "source": [
    "To facilitate your implementation work, we provide the Localizaciones class, which allows you to load the GPS locations representing the vertices of the graph G of N cities. It also enables you to transparently calculate the distance between any pair of cities using the haversine formula https://en.wikipedia.org/wiki/Haversine_formula, which accounts for the Earth's curvature when computing distances."
   ]
  },
  {
   "cell_type": "markdown",
   "id": "3a2d6367",
   "metadata": {},
   "source": [
    "First, import the Python module that accompanies this practice, which includes some implemented support functions as well as the data loading class."
   ]
  },
  {
   "cell_type": "code",
   "execution_count": null,
   "id": "7e422090",
   "metadata": {},
   "outputs": [],
   "source": [
    "from helpers_mod_sa import *"
   ]
  },
  {
   "cell_type": "markdown",
   "id": "6438416b",
   "metadata": {},
   "source": [
    "Inspect the location loading code using psource(Localizaciones)."
   ]
  },
  {
   "cell_type": "code",
   "execution_count": null,
   "id": "b4b9896c",
   "metadata": {},
   "outputs": [],
   "source": [
    "psource (Localizaciones)"
   ]
  },
  {
   "cell_type": "markdown",
   "id": "87ee11d6",
   "metadata": {},
   "source": [
    "Note that by default, the file ./data/grafo8cidades.txt is loaded, which contains the GPS coordinates of 8 Galician cities, with Santiago de Compostela being the first one. The first line of these files indicates the number of cities n, while each of the following lines specifies the coordinates of each city, given as GPS coordinates (latitude and longitude in degrees).\n",
    "\n",
    "You can load a different file by using the filename parameter, as shown below. If everything works correctly, the first distance between city 0 and city 1 should be approximately 55 km."
   ]
  },
  {
   "cell_type": "code",
   "execution_count": null,
   "id": "12ff980c",
   "metadata": {},
   "outputs": [],
   "source": [
    "g1=Localizaciones(filename='./data/grafo8cidades.txt')\n",
    "print (g1.distancia(0,1))"
   ]
  },
  {
   "cell_type": "markdown",
   "id": "61163804",
   "metadata": {},
   "source": [
    "The TSP can be formulated as the problem of finding the shortest Hamiltonian circuit in the graph G. A solution to a TSP instance can be represented as a permutation of city indices, where the order of visits determines the total travel cost in terms of distance.\n",
    "\n",
    "Since there are n! possible permutations, the problem belongs to the NP category, making it computationally expensive to solve as  n increases. In this practice, you will first explore uninformed search strategies to tackle the problem and evaluate their feasibility. Then, you will implement an informed approach, such as greedy search, to compare its efficiency and effectiveness in finding good solutions.\n",
    "\n",
    "Later in the course, we will explore more advanced techniques, such as metaheuristic approaches, which allow solving larger instances of the problem more efficiently. These methods, such as simulated annealing or genetic algorithms, can provide high-quality solutions in a reasonable amount of time, making them suitable for real-world applications."
   ]
  },
  {
   "cell_type": "markdown",
   "id": "045122c3",
   "metadata": {},
   "source": [
    "\n",
    "## P1.1: Implement the Basic Breadth-First Search (BFS) Algorithm for the TSP"
   ]
  },
  {
   "cell_type": "markdown",
   "id": "88a4e0a6",
   "metadata": {},
   "source": [
    "\n",
    "Implement the basic Breadth-First Search (BFS) algorithm to solve the Traveling Salesperson Problem (TSP) as stated above. To do so, review the algorithmic description of uninformed search techniques covered in the lecture (See T1, slide 37 and related slides).\n",
    "\n",
    "Take into account the following design considerations to complete the basic implementation:\n",
    "\n",
    "* Solution Representation: The solution should be represented as an ordered sequence (permutation) of cities, starting and ending at city 0.\n",
    "\n",
    "* Initial State: The search begins with an empty path, where the starting city (0) is the first node.\n",
    "\n",
    "* Successor Function: The next states are generated by expanding the current path to all unvisited cities.\n",
    "\n",
    "* Cost Function: The cost of a solution is the total sum of distances along the path.\n",
    "\n",
    "* Search Mechanism: BFS explores all possible sequences of cities level by level, ensuring that shorter paths are explored first.\n",
    "\n",
    "* Stopping Condition: The algorithm terminates when a complete tour (covering all cities and returning to the start) is found, or when all possibilities are exhausted.\n",
    "\n",
    "For verifying your implementation, you can use the location file containing 8 Galician cities (grafo8cidades.txt). The optimal solution, obtained using an informed search such as A*, is approximately 382 km.\n"
   ]
  },
  {
   "cell_type": "code",
   "execution_count": null,
   "id": "f3bac76c",
   "metadata": {},
   "outputs": [],
   "source": [
    "# Write your code here for the function that implements the Breadth-First Search (BFS) algorithm\n",
    "# Create as many cells as you find necessary to write your code\n",
    "# Always document your code with comments like this\n",
    "\n"
   ]
  },
  {
   "cell_type": "markdown",
   "id": "a981c2f1",
   "metadata": {},
   "source": [
    "❓ **Question 1**. How does BFS guarantee finding the optimal solution for small instances?\n",
    "\n",
    "❓ **Question 2**. What is the main limitation of BFS when applied to large instances of the TSP?"
   ]
  },
  {
   "cell_type": "markdown",
   "id": "f9c05313",
   "metadata": {},
   "source": [
    "Notes: Be conservative in your strategy for verifying your implementation, especially when working with large data files like the USA cities problem. If you run your algorithm for a high number of iterations, it may be useful to measure the execution time to make informed decisions about where to set the limit."
   ]
  },
  {
   "cell_type": "markdown",
   "id": "4936b941",
   "metadata": {},
   "source": [
    "# P1.2: Implement the Basic Greedy Search Algorithm for the TSP\n",
    "\n",
    "Now, you will implement the Greedy Search algorithm to solve the Traveling Salesperson Problem (TSP) as stated above. This algorithm follows a heuristic approach to construct a solution step by step by always selecting the nearest unvisited city from the current position.\n",
    "\n",
    "Design Considerations for the Implementation:\n",
    "\n",
    "* Solution Representation: The solution should be represented as an ordered sequence (permutation) of cities, starting and ending at city 0.\n",
    "\n",
    "* Initial State: The search starts from city 0.\n",
    "\n",
    "* Successor Function (Greedy Choice): At each step, the next city is chosen as the closest unvisited city based on the current position.\n",
    "\n",
    "* Cost Function: The cost of a solution is the total sum of distances along the path.\n",
    "\n",
    "* Search Mechanism: The algorithm constructs a single path by iteratively adding the nearest unvisited city until all cities are visited, then returning to the starting city.\n",
    "\n",
    "* Stopping Condition: The algorithm terminates when all cities have been visited and the path is completed by returning to the starting city.\n",
    "\n",
    "Again, for verifying your implementation, you can use the location file containing 8 Galician cities (grafo8cidades.txt). The optimal solution, obtained using an informed search such as A*, is approximately 382 km."
   ]
  },
  {
   "cell_type": "code",
   "execution_count": null,
   "id": "dedbecef",
   "metadata": {},
   "outputs": [],
   "source": [
    "# Write your code here for the function that implements the Greedy search algorithm\n",
    "# Create as many cells as you find necessary to write your code\n",
    "# Always document your code with comments like this\n",
    "\n"
   ]
  },
  {
   "cell_type": "markdown",
   "id": "3f221390",
   "metadata": {},
   "source": [
    "❓ **Question 1**. Why is the greedy approach considered a heuristic method?\n",
    "\n",
    "❓ **Question 2**. Can the greedy approach guarantee finding the optimal solution? Why or why not?\n",
    "\n",
    "❓ **Question 3**. Describe a scenario where the greedy algorithm may lead to a suboptimal path."
   ]
  },
  {
   "cell_type": "markdown",
   "id": "0d385ce5",
   "metadata": {},
   "source": [
    "--\n",
    "### General questions\n",
    "\n",
    "Compare the time complexity of BFS and Greedy Search in solving the TSP.\n",
    "\n",
    "❓ **Question 1**. Which algorithm scales better for large instances?\n",
    "\n",
    "❓ **Question 2**. In terms of memory usage, which algorithm is more efficient? Why?\n",
    "\n",
    "❓ **Question 3**. Compare the solutions found by both algorithms for the 8-city instance (grafo8cidades.txt):\n",
    "\n",
    "❓ **Question 4**. What is the total distance of the tour found by BFS?\n",
    "\n",
    "❓ **Question 5**. What is the total distance of the tour found by the Greedy algorithm?\n",
    "\n",
    "❓ **Question 6**. How do these distances compare to the optimal solution (~382 km with A*)?"
   ]
  }
 ],
 "metadata": {
  "kernelspec": {
   "display_name": "Python 3 (ipykernel)",
   "language": "python",
   "name": "python3"
  },
  "language_info": {
   "codemirror_mode": {
    "name": "ipython",
    "version": 3
   },
   "file_extension": ".py",
   "mimetype": "text/x-python",
   "name": "python",
   "nbconvert_exporter": "python",
   "pygments_lexer": "ipython3",
   "version": "3.9.6"
  }
 },
 "nbformat": 4,
 "nbformat_minor": 5
}
