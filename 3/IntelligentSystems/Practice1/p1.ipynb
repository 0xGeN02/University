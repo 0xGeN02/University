{
 "cells": [
  {
   "cell_type": "markdown",
   "id": "3d57d457",
   "metadata": {},
   "source": [
    "\n",
    "# Practice 1: Solving problems by search. \n",
    "\n",
    "## Uninformed and informed search strategies."
   ]
  },
  {
   "cell_type": "markdown",
   "id": "dc9d72a9",
   "metadata": {},
   "source": [
    "<center><h3>\n",
    "    Manuel Mateo Delgado-Gambino Lopez\n",
    "</h3></center>\n"
   ]
  },
  {
   "cell_type": "markdown",
   "id": "8087aede",
   "metadata": {},
   "source": [
    "## Instructions"
   ]
  },
  {
   "cell_type": "markdown",
   "id": "a351019b",
   "metadata": {},
   "source": [
    "This is `Jupyter Notebook`, a document that integrates Python code into a Markdown file.\n",
    "This allows us to execute code cells step by step, as well as automatically generate a well-formatted report of the practice.\n",
    "\n",
    "You can add a new cell using the \"Insert\" button in the toolbar and change its type with \"Cell > Cell Type\".\n",
    "\n",
    "To execute a code cell, select it and press the \"▶ Run\" button in the toolbar.\n",
    "To convert the document to HTML, select \"File > Download as > HTML (.html)\".\n",
    "\n",
    "Follow this script to the end. Execute the provided code step by step, understanding what you are doing and reflecting on the results. There will be questions interspersed throughout the script; answer all of them in the designated section: \"Responses to the questionnaires\". Please do not modify any line of code unless explicitly instructed to do so.\n",
    "\n",
    "Don't forget to insert your name and surname in the top cell."
   ]
  },
  {
   "cell_type": "markdown",
   "id": "3c804f80",
   "metadata": {},
   "source": [
    "## Submision of the practice"
   ]
  },
  {
   "cell_type": "markdown",
   "id": "797d20ec",
   "metadata": {},
   "source": [
    "The submission deadline will be the one indicated in the Virtual Campus. The submission will consist of a single compressed file named `LASTNAME_FIRSTNAME_P1.zip`, containing the following files:\n",
    "\n",
    "* `LASTNAME_FIRSTNAME_P1.html`: An HTML file generated from exporting this Notebook, with the answered questions at the end of the document.\n",
    "* `LASTNAME_FIRSTNAME_P1.ipynb`: The source Jupyter Notebook file.\n",
    "* The data file(s) used for problem-solving."
   ]
  },
  {
   "cell_type": "markdown",
   "id": "f7f872a1",
   "metadata": {},
   "source": [
    "\n",
    "## Python preliminaries\n"
   ]
  },
  {
   "cell_type": "markdown",
   "id": "3c2f982c",
   "metadata": {},
   "source": [
    "Here you have some Python functions that may be helpful in the near future while developing this practice.\n"
   ]
  },
  {
   "cell_type": "markdown",
   "id": "b69c9368",
   "metadata": {},
   "source": [
    "For example, you can generate random numbers using the package `random`."
   ]
  },
  {
   "cell_type": "code",
   "execution_count": 2,
   "id": "d6354e9a",
   "metadata": {},
   "outputs": [
    {
     "name": "stdout",
     "output_type": "stream",
     "text": [
      "10\n",
      "0.13718994860112932\n"
     ]
    }
   ],
   "source": [
    "import random\n",
    "\n",
    "# we can create a random number between 1 and 10\n",
    "random_number = random.randint(1, 10)\n",
    "print(random_number)\n",
    "\n",
    "# and random numbers between 0 and 1 following a uniform distribution\n",
    "random_U = random.uniform(0, 1)\n",
    "print(random_U)\n"
   ]
  },
  {
   "cell_type": "markdown",
   "id": "a9c96428",
   "metadata": {},
   "source": [
    "You can generate vectors of fixed and random numbers that are also shuffled randomly, as illustrated below."
   ]
  },
  {
   "cell_type": "code",
   "execution_count": 3,
   "id": "371102aa",
   "metadata": {},
   "outputs": [
    {
     "name": "stdout",
     "output_type": "stream",
     "text": [
      "fixed vector [1, 2, 3, 4, 5, 6, 7, 8, 9]\n",
      "[6, 7, 1, 3, 9, 8, 4, 5, 2]\n",
      "random vector [6, 10, 3, 1, 7, 1, 6, 5, 4]\n",
      "[6, 1, 6, 1, 7, 10, 5, 3, 4]\n"
     ]
    }
   ],
   "source": [
    "vector = [x for x in range(1, 10)]\n",
    "print(\"fixed vector\", vector)\n",
    "\n",
    "random.shuffle(vector)\n",
    "print(vector)\n",
    "\n",
    "random_vector = [random.randint(1, 10) for i in range(1, 10)]\n",
    "print(\"random vector\", random_vector)\n",
    "\n",
    "random.shuffle(random_vector)\n",
    "print(random_vector)"
   ]
  },
  {
   "cell_type": "markdown",
   "id": "3a5608a8",
   "metadata": {},
   "source": [
    "Another important set of functions comes from the math module. You can find a list of available functions at https://docs.python.org/3/library/math.html. Below are some usage examples."
   ]
  },
  {
   "cell_type": "code",
   "execution_count": 4,
   "id": "670e454e",
   "metadata": {},
   "outputs": [
    {
     "name": "stdout",
     "output_type": "stream",
     "text": [
      "2.718281828459045\n",
      "7.38905609893065\n",
      "2.718281828459045\n",
      "7.3890560989306495\n",
      "1.0\n",
      "1.0\n"
     ]
    }
   ],
   "source": [
    "import math \n",
    "\n",
    "# number e raised to the specified power\n",
    "e = math.exp(1)\n",
    "print(e)\n",
    "\n",
    "power2_e = math.exp(2)\n",
    "print(power2_e)\n",
    "\n",
    "# example of exponentiation\n",
    "print(math.pow(e, 1))\n",
    "print(math.pow(e, 2))\n",
    "\n",
    "# example of the natural logarithm with base e\n",
    "base = e\n",
    "print(math.log(e))\n",
    "print(math.log(e, base))"
   ]
  },
  {
   "cell_type": "markdown",
   "id": "c1077d04",
   "metadata": {},
   "source": [
    "Finally, functions from the time module allow you to approximately measure the execution time of specific sections of code."
   ]
  },
  {
   "cell_type": "code",
   "execution_count": 5,
   "id": "f19e7fd6",
   "metadata": {},
   "outputs": [
    {
     "name": "stdout",
     "output_type": "stream",
     "text": [
      "---- 0.04533672332763672 segundos ----\n"
     ]
    }
   ],
   "source": [
    "import time\n",
    "start_time = time.time()\n",
    "\n",
    "sum = 0\n",
    "for i in range(1000000):\n",
    "    sum = sum * 1\n",
    "\n",
    "print(\"---- %s segundos ----\" % (time.time() - start_time))"
   ]
  },
  {
   "cell_type": "markdown",
   "id": "f73d01d4",
   "metadata": {},
   "source": [
    "## The Traveling Salesperson Problem (TSP)\n",
    "\n",
    "The objective of this practice is to model and implement an intelligent agent capable of solving the Traveling Salesperson Problem. To achieve this, you will implement the basic algorithm covered in the lecture and evaluate whether introducing modifications to the algorithm's design improves the quality of the solutions obtained."
   ]
  },
  {
   "cell_type": "markdown",
   "id": "8d0f75f2",
   "metadata": {},
   "source": [
    "\n",
    "### Problem definition"
   ]
  },
  {
   "cell_type": "markdown",
   "id": "2d8f430b",
   "metadata": {},
   "source": [
    "\n",
    "The Traveling Salesperson Problem (TSP) involves a salesperson who wants to sell a product and, to do so, needs to find the shortest possible route through the cities of their customers, visiting each city only once and starting and ending the journey in their own city (a circular route from the initial city).\n",
    "\n",
    "Typically, the problem is represented using a weighted graphG=(N, A), where N is the set of n=|N| nodes (cities), and A is the set of arcs connecting the nodes. Each arc(i, j) ∈ A is assigned a weight d_ij which represents the distance between cities i and j.\n"
   ]
  },
  {
   "cell_type": "markdown",
   "id": "bbcfc483",
   "metadata": {},
   "source": [
    "To facilitate your implementation work, we provide the Localizaciones class, which allows you to load the GPS locations representing the vertices of the graph G of N cities. It also enables you to transparently calculate the distance between any pair of cities using the haversine formula https://en.wikipedia.org/wiki/Haversine_formula, which accounts for the Earth's curvature when computing distances."
   ]
  },
  {
   "cell_type": "markdown",
   "id": "3a2d6367",
   "metadata": {},
   "source": [
    "First, import the Python module that accompanies this practice, which includes some implemented support functions as well as the data loading class."
   ]
  },
  {
   "cell_type": "code",
   "execution_count": 6,
   "id": "7e422090",
   "metadata": {},
   "outputs": [],
   "source": [
    "from helpers_mod_sa import *"
   ]
  },
  {
   "cell_type": "markdown",
   "id": "6438416b",
   "metadata": {},
   "source": [
    "Inspect the location loading code using psource(Localizaciones)."
   ]
  },
  {
   "cell_type": "code",
   "execution_count": 1,
   "id": "b4b9896c",
   "metadata": {},
   "outputs": [
    {
     "name": "stdout",
     "output_type": "stream",
     "text": [
      "            \u001b[38;2;0;0;0m▄\u001b[38;2;0;0;0m\u001b[48;2;74;90;106m▀\u001b[0m\u001b[38;2;0;0;0m▄  \u001b[38;2;0;0;0m▄               \u001b[38;2;0;0;0m▄\u001b[38;2;0;0;0m▄\u001b[38;2;0;0;0m▄    \n",
      "           \u001b[38;2;0;0;0m\u001b[48;2;0;0;0m▀\u001b[0m\u001b[38;2;74;90;106m\u001b[48;2;74;90;106m▀\u001b[0m\u001b[38;2;74;90;106m\u001b[48;2;0;0;0m▀\u001b[0m\u001b[38;2;0;0;0m▀ \u001b[38;2;0;0;0m\u001b[48;2;0;0;0m▀\u001b[0m\u001b[38;2;139;139;131m\u001b[48;2;139;139;131m▀\u001b[0m\u001b[38;2;0;0;0m\u001b[48;2;0;0;0m▀\u001b[0m   \u001b[38;2;0;0;0m▄\u001b[38;2;0;0;0m\u001b[48;2;139;139;131m▀\u001b[0m\u001b[38;2;0;0;0m\u001b[48;2;0;0;0m▀\u001b[0m  \u001b[38;2;0;0;0m▄ \u001b[38;2;0;0;0m▄\u001b[38;2;0;0;0m\u001b[48;2;255;230;197m▀\u001b[0m\u001b[38;2;0;0;0m\u001b[48;2;255;230;197m▀\u001b[0m\u001b[38;2;0;0;0m\u001b[48;2;156;106;57m▀\u001b[0m\u001b[38;2;156;106;57m\u001b[48;2;255;230;197m▀\u001b[0m\u001b[38;2;255;230;197m\u001b[48;2;255;230;197m▀\u001b[0m\u001b[38;2;156;106;57m\u001b[48;2;255;230;197m▀\u001b[0m\u001b[38;2;0;0;0m\u001b[48;2;0;0;0m▀\u001b[0m   \n",
      "          \u001b[38;2;0;0;0m\u001b[48;2;0;0;0m▀\u001b[0m\u001b[38;2;74;90;106m\u001b[48;2;74;90;106m▀\u001b[0m\u001b[38;2;74;90;106m\u001b[48;2;0;0;0m▀\u001b[0m\u001b[38;2;0;0;0m▀ \u001b[38;2;0;0;0m▄\u001b[38;2;0;0;0m\u001b[48;2;139;139;131m▀\u001b[0m\u001b[38;2;139;139;131m\u001b[48;2;139;139;131m▀\u001b[0m\u001b[38;2;0;0;0m\u001b[48;2;0;0;0m▀\u001b[0m \u001b[38;2;0;0;0m▄\u001b[38;2;0;0;0m\u001b[48;2;139;139;131m▀\u001b[0m\u001b[38;2;139;139;131m\u001b[48;2;139;139;131m▀\u001b[0m\u001b[38;2;0;0;0m\u001b[48;2;0;0;0m▀\u001b[0m  \u001b[38;2;0;0;0m\u001b[48;2;0;0;0m▀\u001b[0m\u001b[38;2;139;139;131m\u001b[48;2;139;139;131m▀\u001b[0m\u001b[38;2;0;0;0m\u001b[48;2;65;65;65m▀\u001b[0m\u001b[38;2;255;164;148m\u001b[48;2;255;131;98m▀\u001b[0m\u001b[38;2;255;230;197m\u001b[48;2;255;131;98m▀\u001b[0m\u001b[38;2;156;106;57m\u001b[48;2;65;65;65m▀\u001b[0m\u001b[38;2;255;131;98m\u001b[48;2;65;65;65m▀\u001b[0m\u001b[38;2;255;131;98m\u001b[48;2;255;131;98m▀\u001b[0m\u001b[38;2;255;230;197m\u001b[48;2;255;131;98m▀\u001b[0m\u001b[38;2;255;230;197m\u001b[48;2;156;106;57m▀\u001b[0m\u001b[38;2;156;106;57m\u001b[48;2;255;230;197m▀\u001b[0m\u001b[38;2;0;0;0m\u001b[48;2;255;230;197m▀\u001b[0m\u001b[38;2;0;0;0m\u001b[48;2;156;106;57m▀\u001b[0m\u001b[38;2;0;0;0m▄\n",
      "         \u001b[38;2;0;0;0m▄\u001b[38;2;0;0;0m\u001b[48;2;74;90;106m▀\u001b[0m\u001b[38;2;74;90;106m\u001b[48;2;65;65;65m▀\u001b[0m\u001b[38;2;65;65;65m\u001b[48;2;197;148;65m▀\u001b[0m\u001b[38;2;0;0;0m\u001b[48;2;197;148;65m▀\u001b[0m\u001b[38;2;0;0;0m\u001b[48;2;197;148;65m▀\u001b[0m\u001b[38;2;0;0;0m\u001b[48;2;65;65;65m▀\u001b[0m\u001b[38;2;139;139;131m\u001b[48;2;139;139;131m▀\u001b[0m\u001b[38;2;139;139;131m\u001b[48;2;139;139;131m▀\u001b[0m\u001b[38;2;65;65;65m\u001b[48;2;65;65;65m▀\u001b[0m\u001b[38;2;0;0;0m\u001b[48;2;139;139;131m▀\u001b[0m\u001b[38;2;139;139;131m\u001b[48;2;139;139;131m▀\u001b[0m\u001b[38;2;139;139;131m\u001b[48;2;0;0;0m▀\u001b[0m\u001b[38;2;0;0;0m▀  \u001b[38;2;0;0;0m\u001b[48;2;0;0;0m▀\u001b[0m\u001b[38;2;139;139;131m\u001b[48;2;139;139;131m▀\u001b[0m\u001b[38;2;139;139;131m\u001b[48;2;139;139;131m▀\u001b[0m\u001b[38;2;65;65;65m\u001b[48;2;65;65;65m▀\u001b[0m\u001b[38;2;255;131;98m\u001b[48;2;65;65;65m▀\u001b[0m\u001b[38;2;65;65;65m\u001b[48;2;139;139;131m▀\u001b[0m\u001b[38;2;139;139;131m\u001b[48;2;65;65;65m▀\u001b[0m\u001b[38;2;65;65;65m\u001b[48;2;255;131;98m▀\u001b[0m\u001b[38;2;255;131;98m\u001b[48;2;255;131;98m▀\u001b[0m\u001b[38;2;255;131;98m\u001b[48;2;156;106;57m▀\u001b[0m\u001b[38;2;156;106;57m\u001b[48;2;255;131;98m▀\u001b[0m\u001b[38;2;255;131;98m\u001b[48;2;255;131;98m▀\u001b[0m\u001b[38;2;255;164;148m\u001b[48;2;255;131;98m▀\u001b[0m\u001b[38;2;255;230;197m\u001b[48;2;255;131;98m▀\u001b[0m\u001b[38;2;0;0;0m\u001b[48;2;0;0;0m▀\u001b[0m\n",
      "        \u001b[38;2;0;0;0m▄\u001b[38;2;0;0;0m\u001b[48;2;197;148;65m▀\u001b[0m\u001b[38;2;65;65;65m\u001b[48;2;197;148;65m▀\u001b[0m\u001b[38;2;197;148;65m\u001b[48;2;197;148;65m▀\u001b[0m\u001b[38;2;197;148;65m\u001b[48;2;197;148;65m▀\u001b[0m\u001b[38;2;197;148;65m\u001b[48;2;197;148;65m▀\u001b[0m\u001b[38;2;197;148;65m\u001b[48;2;65;65;65m▀\u001b[0m\u001b[38;2;65;65;65m\u001b[48;2;197;148;65m▀\u001b[0m\u001b[38;2;139;139;131m\u001b[48;2;139;139;131m▀\u001b[0m\u001b[38;2;65;65;65m\u001b[48;2;65;65;65m▀\u001b[0m\u001b[38;2;139;139;131m\u001b[48;2;139;139;131m▀\u001b[0m\u001b[38;2;139;139;131m\u001b[48;2;65;65;65m▀\u001b[0m\u001b[38;2;65;65;65m\u001b[48;2;197;148;65m▀\u001b[0m\u001b[38;2;0;0;0m\u001b[48;2;197;148;65m▀\u001b[0m\u001b[38;2;0;0;0m▄ \u001b[38;2;0;0;0m▄\u001b[38;2;0;0;0m\u001b[48;2;139;139;131m▀\u001b[0m\u001b[38;2;139;139;131m\u001b[48;2;139;139;131m▀\u001b[0m\u001b[38;2;65;65;65m\u001b[48;2;65;65;65m▀\u001b[0m\u001b[38;2;65;65;65m\u001b[48;2;139;139;131m▀\u001b[0m\u001b[38;2;139;139;131m\u001b[48;2;139;139;131m▀\u001b[0m\u001b[38;2;139;139;131m\u001b[48;2;65;65;65m▀\u001b[0m\u001b[38;2;65;65;65m\u001b[48;2;255;131;98m▀\u001b[0m\u001b[38;2;255;131;98m\u001b[48;2;255;131;98m▀\u001b[0m\u001b[38;2;255;131;98m\u001b[48;2;156;106;57m▀\u001b[0m\u001b[38;2;156;106;57m\u001b[48;2;255;131;98m▀\u001b[0m\u001b[38;2;255;131;98m\u001b[48;2;255;131;98m▀\u001b[0m\u001b[38;2;255;131;98m\u001b[48;2;255;131;98m▀\u001b[0m\u001b[38;2;255;131;98m\u001b[48;2;255;131;98m▀\u001b[0m\u001b[38;2;0;0;0m\u001b[48;2;0;0;0m▀\u001b[0m \n",
      "        \u001b[38;2;0;0;0m\u001b[48;2;0;0;0m▀\u001b[0m\u001b[38;2;197;148;65m\u001b[48;2;115;90;74m▀\u001b[0m\u001b[38;2;197;148;65m\u001b[48;2;0;0;0m▀\u001b[0m\u001b[38;2;115;90;74m\u001b[48;2;255;255;255m▀\u001b[0m\u001b[38;2;115;90;74m\u001b[48;2;255;255;255m▀\u001b[0m\u001b[38;2;65;65;65m\u001b[48;2;65;65;65m▀\u001b[0m\u001b[38;2;197;148;65m\u001b[48;2;197;148;65m▀\u001b[0m\u001b[38;2;197;148;65m\u001b[48;2;197;148;65m▀\u001b[0m\u001b[38;2;65;65;65m\u001b[48;2;197;148;65m▀\u001b[0m\u001b[38;2;139;139;131m\u001b[48;2;65;65;65m▀\u001b[0m\u001b[38;2;65;65;65m\u001b[48;2;197;148;65m▀\u001b[0m\u001b[38;2;197;148;65m\u001b[48;2;197;148;65m▀\u001b[0m\u001b[38;2;197;148;65m\u001b[48;2;197;148;65m▀\u001b[0m\u001b[38;2;197;148;65m\u001b[48;2;197;148;65m▀\u001b[0m\u001b[38;2;0;0;0m\u001b[48;2;197;148;65m▀\u001b[0m\u001b[38;2;0;0;0m▄\u001b[38;2;0;0;0m\u001b[48;2;65;65;65m▀\u001b[0m\u001b[38;2;139;139;131m\u001b[48;2;139;139;131m▀\u001b[0m\u001b[38;2;65;65;65m\u001b[48;2;65;65;65m▀\u001b[0m\u001b[38;2;139;139;131m\u001b[48;2;139;139;131m▀\u001b[0m\u001b[38;2;139;139;131m\u001b[48;2;65;65;65m▀\u001b[0m\u001b[38;2;65;65;65m\u001b[48;2;65;65;65m▀\u001b[0m\u001b[38;2;65;65;65m\u001b[48;2;238;172;106m▀\u001b[0m\u001b[38;2;255;131;98m\u001b[48;2;115;90;74m▀\u001b[0m\u001b[38;2;156;106;57m\u001b[48;2;115;90;74m▀\u001b[0m\u001b[38;2;255;131;98m\u001b[48;2;255;131;98m▀\u001b[0m\u001b[38;2;255;131;98m\u001b[48;2;255;131;98m▀\u001b[0m\u001b[38;2;255;131;98m\u001b[48;2;255;131;98m▀\u001b[0m\u001b[38;2;255;131;98m\u001b[48;2;0;0;0m▀\u001b[0m\u001b[38;2;0;0;0m▀  \n",
      "      \u001b[38;2;0;0;0m▄\u001b[38;2;0;0;0m▄\u001b[38;2;0;0;0m\u001b[48;2;230;189;156m▀\u001b[0m\u001b[38;2;230;189;156m\u001b[48;2;230;189;156m▀\u001b[0m\u001b[38;2;0;0;0m\u001b[48;2;115;90;74m▀\u001b[0m\u001b[38;2;255;255;255m\u001b[48;2;197;148;65m▀\u001b[0m\u001b[38;2;65;65;65m\u001b[48;2;65;65;65m▀\u001b[0m\u001b[38;2;115;90;74m\u001b[48;2;255;255;255m▀\u001b[0m\u001b[38;2;197;148;65m\u001b[48;2;115;90;74m▀\u001b[0m\u001b[38;2;197;148;65m\u001b[48;2;197;148;65m▀\u001b[0m\u001b[38;2;197;148;65m\u001b[48;2;197;148;65m▀\u001b[0m\u001b[38;2;197;148;65m\u001b[48;2;197;148;65m▀\u001b[0m\u001b[38;2;197;148;65m\u001b[48;2;197;148;65m▀\u001b[0m\u001b[38;2;197;148;65m\u001b[48;2;197;148;65m▀\u001b[0m\u001b[38;2;197;148;65m\u001b[48;2;115;90;74m▀\u001b[0m\u001b[38;2;197;148;65m\u001b[48;2;65;65;65m▀\u001b[0m\u001b[38;2;65;65;65m\u001b[48;2;197;148;65m▀\u001b[0m\u001b[38;2;197;148;65m\u001b[48;2;197;148;65m▀\u001b[0m\u001b[38;2;65;65;65m\u001b[48;2;65;65;65m▀\u001b[0m\u001b[38;2;65;65;65m\u001b[48;2;65;65;65m▀\u001b[0m\u001b[38;2;139;139;131m\u001b[48;2;65;65;65m▀\u001b[0m\u001b[38;2;65;65;65m\u001b[48;2;197;148;65m▀\u001b[0m\u001b[38;2;65;65;65m\u001b[48;2;197;148;65m▀\u001b[0m\u001b[38;2;197;148;65m\u001b[48;2;197;148;65m▀\u001b[0m\u001b[38;2;65;65;65m\u001b[48;2;197;148;65m▀\u001b[0m\u001b[38;2;238;172;106m\u001b[48;2;65;65;65m▀\u001b[0m\u001b[38;2;238;172;106m\u001b[48;2;238;172;106m▀\u001b[0m\u001b[38;2;115;90;74m\u001b[48;2;238;172;106m▀\u001b[0m\u001b[38;2;255;131;98m\u001b[48;2;0;0;0m▀\u001b[0m\u001b[38;2;0;0;0m▀    \n",
      "  \u001b[38;2;0;0;0m▄\u001b[38;2;0;0;0m▄\u001b[38;2;0;0;0m\u001b[48;2;230;189;156m▀\u001b[0m\u001b[38;2;0;0;0m\u001b[48;2;230;189;156m▀\u001b[0m\u001b[38;2;230;189;156m\u001b[48;2;230;189;156m▀\u001b[0m\u001b[38;2;230;189;156m\u001b[48;2;115;90;74m▀\u001b[0m\u001b[38;2;230;189;156m\u001b[48;2;0;0;0m▀\u001b[0m\u001b[38;2;115;90;74m\u001b[48;2;0;0;0m▀\u001b[0m\u001b[38;2;0;0;0m▀\u001b[38;2;197;148;65m\u001b[48;2;0;0;0m▀\u001b[0m\u001b[38;2;65;65;65m\u001b[48;2;0;0;0m▀\u001b[0m\u001b[38;2;255;255;255m\u001b[48;2;65;65;65m▀\u001b[0m\u001b[38;2;115;90;74m\u001b[48;2;115;90;74m▀\u001b[0m\u001b[38;2;115;90;74m\u001b[48;2;255;230;197m▀\u001b[0m\u001b[38;2;197;148;65m\u001b[48;2;115;90;74m▀\u001b[0m\u001b[38;2;0;0;0m\u001b[48;2;0;0;0m▀\u001b[0m\u001b[38;2;115;90;74m\u001b[48;2;255;255;255m▀\u001b[0m\u001b[38;2;255;255;255m\u001b[48;2;255;255;255m▀\u001b[0m\u001b[38;2;255;255;255m\u001b[48;2;65;65;65m▀\u001b[0m\u001b[38;2;65;65;65m\u001b[48;2;197;148;65m▀\u001b[0m\u001b[38;2;197;148;65m\u001b[48;2;115;90;74m▀\u001b[0m\u001b[38;2;197;148;65m\u001b[48;2;197;148;65m▀\u001b[0m\u001b[38;2;197;148;65m\u001b[48;2;197;148;65m▀\u001b[0m\u001b[38;2;65;65;65m\u001b[48;2;197;148;65m▀\u001b[0m\u001b[38;2;197;148;65m\u001b[48;2;197;148;65m▀\u001b[0m\u001b[38;2;197;148;65m\u001b[48;2;197;148;65m▀\u001b[0m\u001b[38;2;197;148;65m\u001b[48;2;197;148;65m▀\u001b[0m\u001b[38;2;197;148;65m\u001b[48;2;197;148;65m▀\u001b[0m\u001b[38;2;197;148;65m\u001b[48;2;197;148;65m▀\u001b[0m\u001b[38;2;65;65;65m\u001b[48;2;197;148;65m▀\u001b[0m\u001b[38;2;238;172;106m\u001b[48;2;65;65;65m▀\u001b[0m\u001b[38;2;238;172;106m\u001b[48;2;197;148;65m▀\u001b[0m\u001b[38;2;197;148;65m\u001b[48;2;197;148;65m▀\u001b[0m\u001b[38;2;0;0;0m\u001b[48;2;0;0;0m▀\u001b[0m    \n",
      "\u001b[38;2;0;0;0m▄\u001b[38;2;0;0;0m\u001b[48;2;230;189;156m▀\u001b[0m\u001b[38;2;230;189;156m\u001b[48;2;230;189;156m▀\u001b[0m\u001b[38;2;230;189;156m\u001b[48;2;0;0;0m▀\u001b[0m\u001b[38;2;230;189;156m\u001b[48;2;0;0;0m▀\u001b[0m\u001b[38;2;0;0;0m▀\u001b[38;2;0;0;0m▀\u001b[38;2;0;0;0m▀    \u001b[38;2;0;0;0m▄\u001b[38;2;0;0;0m\u001b[48;2;255;230;197m▀\u001b[0m\u001b[38;2;255;230;197m\u001b[48;2;255;230;197m▀\u001b[0m\u001b[38;2;255;230;197m\u001b[48;2;255;230;197m▀\u001b[0m\u001b[38;2;255;230;197m\u001b[48;2;255;230;197m▀\u001b[0m\u001b[38;2;115;90;74m\u001b[48;2;255;230;197m▀\u001b[0m\u001b[38;2;197;148;65m\u001b[48;2;115;90;74m▀\u001b[0m\u001b[38;2;197;148;65m\u001b[48;2;197;148;65m▀\u001b[0m\u001b[38;2;197;148;65m\u001b[48;2;65;65;65m▀\u001b[0m\u001b[38;2;65;65;65m\u001b[48;2;65;65;65m▀\u001b[0m\u001b[38;2;255;255;255m\u001b[48;2;255;255;255m▀\u001b[0m\u001b[38;2;0;0;0m\u001b[48;2;0;0;0m▀\u001b[0m\u001b[38;2;197;148;65m\u001b[48;2;115;90;74m▀\u001b[0m\u001b[38;2;115;90;74m\u001b[48;2;115;90;74m▀\u001b[0m\u001b[38;2;197;148;65m\u001b[48;2;0;0;0m▀\u001b[0m\u001b[38;2;197;148;65m\u001b[48;2;115;90;74m▀\u001b[0m\u001b[38;2;115;90;74m\u001b[48;2;255;255;255m▀\u001b[0m\u001b[38;2;115;90;74m\u001b[48;2;255;255;255m▀\u001b[0m\u001b[38;2;197;148;65m\u001b[48;2;197;148;65m▀\u001b[0m\u001b[38;2;65;65;65m\u001b[48;2;197;148;65m▀\u001b[0m\u001b[38;2;197;148;65m\u001b[48;2;65;65;65m▀\u001b[0m\u001b[38;2;197;148;65m\u001b[48;2;197;148;65m▀\u001b[0m\u001b[38;2;197;148;65m\u001b[48;2;197;148;65m▀\u001b[0m\u001b[38;2;0;0;0m\u001b[48;2;0;0;0m▀\u001b[0m    \n",
      " \u001b[38;2;0;0;0m▀\u001b[38;2;0;0;0m▀       \u001b[38;2;0;0;0m▄\u001b[38;2;0;0;0m\u001b[48;2;255;230;197m▀\u001b[0m\u001b[38;2;255;230;197m\u001b[48;2;255;230;197m▀\u001b[0m\u001b[38;2;255;230;197m\u001b[48;2;255;230;197m▀\u001b[0m\u001b[38;2;255;230;197m\u001b[48;2;115;90;74m▀\u001b[0m\u001b[38;2;115;90;74m\u001b[48;2;0;0;0m▀\u001b[0m\u001b[38;2;0;0;0m▀\u001b[38;2;0;0;0m▀\u001b[38;2;65;65;65m\u001b[48;2;0;0;0m▀\u001b[0m\u001b[38;2;65;65;65m\u001b[48;2;65;65;65m▀\u001b[0m\u001b[38;2;65;65;65m\u001b[48;2;65;65;65m▀\u001b[0m\u001b[38;2;65;65;65m\u001b[48;2;65;65;65m▀\u001b[0m\u001b[38;2;65;65;65m\u001b[48;2;65;65;65m▀\u001b[0m\u001b[38;2;255;230;197m\u001b[48;2;255;230;197m▀\u001b[0m\u001b[38;2;255;230;197m\u001b[48;2;255;230;197m▀\u001b[0m\u001b[38;2;115;90;74m\u001b[48;2;255;230;197m▀\u001b[0m\u001b[38;2;0;0;0m\u001b[48;2;115;90;74m▀\u001b[0m\u001b[38;2;255;255;255m\u001b[48;2;197;148;65m▀\u001b[0m\u001b[38;2;255;255;255m\u001b[48;2;197;148;65m▀\u001b[0m\u001b[38;2;197;148;65m\u001b[48;2;197;148;65m▀\u001b[0m\u001b[38;2;197;148;65m\u001b[48;2;65;65;65m▀\u001b[0m\u001b[38;2;65;65;65m\u001b[48;2;115;90;74m▀\u001b[0m\u001b[38;2;197;148;65m\u001b[48;2;115;90;74m▀\u001b[0m\u001b[38;2;197;148;65m\u001b[48;2;197;148;65m▀\u001b[0m\u001b[38;2;0;0;0m\u001b[48;2;0;0;0m▀\u001b[0m     \n",
      "        \u001b[38;2;0;0;0m▄\u001b[38;2;0;0;0m\u001b[48;2;255;230;197m▀\u001b[0m\u001b[38;2;255;230;197m\u001b[48;2;255;230;197m▀\u001b[0m\u001b[38;2;255;230;197m\u001b[48;2;0;0;0m▀\u001b[0m\u001b[38;2;255;230;197m\u001b[48;2;0;0;0m▀\u001b[0m\u001b[38;2;0;0;0m▀\u001b[38;2;0;0;0m▀    \u001b[38;2;0;0;0m▀\u001b[38;2;0;0;0m▀\u001b[38;2;65;65;65m\u001b[48;2;0;0;0m▀\u001b[0m\u001b[38;2;255;230;197m\u001b[48;2;255;230;197m▀\u001b[0m\u001b[38;2;255;230;197m\u001b[48;2;255;230;197m▀\u001b[0m\u001b[38;2;255;230;197m\u001b[48;2;115;90;74m▀\u001b[0m\u001b[38;2;115;90;74m\u001b[48;2;65;65;65m▀\u001b[0m\u001b[38;2;230;189;156m\u001b[48;2;65;65;65m▀\u001b[0m\u001b[38;2;65;65;65m\u001b[48;2;65;65;65m▀\u001b[0m\u001b[38;2;65;65;65m\u001b[48;2;65;65;65m▀\u001b[0m\u001b[38;2;65;65;65m\u001b[48;2;65;65;65m▀\u001b[0m\u001b[38;2;115;90;74m\u001b[48;2;65;65;65m▀\u001b[0m\u001b[38;2;115;90;74m\u001b[48;2;65;65;65m▀\u001b[0m\u001b[38;2;65;65;65m\u001b[48;2;65;65;65m▀\u001b[0m\u001b[38;2;0;0;0m\u001b[48;2;0;0;0m▀\u001b[0m      \n",
      "        \u001b[38;2;0;0;0m▀\u001b[38;2;255;230;197m\u001b[48;2;0;0;0m▀\u001b[0m\u001b[38;2;0;0;0m▀         \u001b[38;2;0;0;0m\u001b[48;2;0;0;0m▀\u001b[0m\u001b[38;2;255;230;197m\u001b[48;2;255;230;197m▀\u001b[0m\u001b[38;2;255;230;197m\u001b[48;2;255;230;197m▀\u001b[0m\u001b[38;2;65;65;65m\u001b[48;2;65;65;65m▀\u001b[0m\u001b[38;2;65;65;65m\u001b[48;2;65;65;65m▀\u001b[0m\u001b[38;2;65;65;65m\u001b[48;2;230;189;156m▀\u001b[0m\u001b[38;2;65;65;65m\u001b[48;2;0;0;0m▀\u001b[0m\u001b[38;2;0;0;0m▀\u001b[38;2;0;0;0m▀\u001b[38;2;65;65;65m\u001b[48;2;0;0;0m▀\u001b[0m\u001b[38;2;65;65;65m\u001b[48;2;0;0;0m▀\u001b[0m\u001b[38;2;65;65;65m\u001b[48;2;65;65;65m▀\u001b[0m\u001b[38;2;0;0;0m\u001b[48;2;0;0;0m▀\u001b[0m       \n",
      "                   \u001b[38;2;0;0;0m\u001b[48;2;0;0;0m▀\u001b[0m\u001b[38;2;255;230;197m\u001b[48;2;255;230;197m▀\u001b[0m\u001b[38;2;255;230;197m\u001b[48;2;65;65;65m▀\u001b[0m\u001b[38;2;65;65;65m\u001b[48;2;230;189;156m▀\u001b[0m\u001b[38;2;65;65;65m\u001b[48;2;230;189;156m▀\u001b[0m\u001b[38;2;230;189;156m\u001b[48;2;148;139;49m▀\u001b[0m\u001b[38;2;230;189;156m\u001b[48;2;230;189;156m▀\u001b[0m\u001b[38;2;0;0;0m\u001b[48;2;230;189;156m▀\u001b[0m\u001b[38;2;0;0;0m▄ \u001b[38;2;0;0;0m▄\u001b[38;2;0;0;0m▄\u001b[38;2;0;0;0m\u001b[48;2;230;189;156m▀\u001b[0m\u001b[38;2;230;189;156m\u001b[48;2;230;189;156m▀\u001b[0m\u001b[38;2;0;0;0m\u001b[48;2;0;0;0m▀\u001b[0m      \n",
      "                  \u001b[38;2;0;0;0m▄\u001b[38;2;0;0;0m\u001b[48;2;238;238;238m▀\u001b[0m\u001b[38;2;65;65;65m\u001b[48;2;230;189;156m▀\u001b[0m\u001b[38;2;230;189;156m\u001b[48;2;148;139;49m▀\u001b[0m\u001b[38;2;148;139;49m\u001b[48;2;230;189;156m▀\u001b[0m\u001b[38;2;148;139;49m\u001b[48;2;230;189;156m▀\u001b[0m\u001b[38;2;230;189;156m\u001b[48;2;230;189;156m▀\u001b[0m\u001b[38;2;230;189;156m\u001b[48;2;65;65;65m▀\u001b[0m\u001b[38;2;65;65;65m\u001b[48;2;230;189;156m▀\u001b[0m\u001b[38;2;65;65;65m\u001b[48;2;148;139;49m▀\u001b[0m\u001b[38;2;0;0;0m\u001b[48;2;255;230;197m▀\u001b[0m\u001b[38;2;255;230;197m\u001b[48;2;255;230;197m▀\u001b[0m\u001b[38;2;255;230;197m\u001b[48;2;148;139;49m▀\u001b[0m\u001b[38;2;255;230;197m\u001b[48;2;255;230;197m▀\u001b[0m\u001b[38;2;0;0;0m\u001b[48;2;0;0;0m▀\u001b[0m       \n",
      "                   \u001b[38;2;0;0;0m▀\u001b[38;2;0;0;0m▀\u001b[38;2;238;238;238m\u001b[48;2;0;0;0m▀\u001b[0m\u001b[38;2;230;189;156m\u001b[48;2;0;0;0m▀\u001b[0m\u001b[38;2;0;0;0m▀\u001b[38;2;0;0;0m▀\u001b[38;2;255;255;255m\u001b[48;2;0;0;0m▀\u001b[0m\u001b[38;2;148;139;49m\u001b[48;2;148;139;49m▀\u001b[0m\u001b[38;2;255;230;197m\u001b[48;2;255;230;197m▀\u001b[0m\u001b[38;2;255;230;197m\u001b[48;2;0;0;0m▀\u001b[0m\u001b[38;2;148;139;49m\u001b[48;2;148;139;49m▀\u001b[0m\u001b[38;2;255;230;197m\u001b[48;2;255;230;197m▀\u001b[0m\u001b[38;2;255;230;197m\u001b[48;2;0;0;0m▀\u001b[0m\u001b[38;2;0;0;0m▀       \n",
      "                         \u001b[38;2;0;0;0m▀\u001b[38;2;255;255;255m\u001b[48;2;0;0;0m▀\u001b[0m\u001b[38;2;0;0;0m▀ \u001b[38;2;0;0;0m▀\u001b[38;2;255;255;255m\u001b[48;2;0;0;0m▀\u001b[0m\u001b[38;2;0;0;0m▀        \n",
      "\u001b[0mzsh:1: number expected\n"
     ]
    }
   ],
   "source": [
    "!psource (Localizaciones)"
   ]
  },
  {
   "cell_type": "markdown",
   "id": "87ee11d6",
   "metadata": {},
   "source": [
    "Note that by default, the file ./data/grafo8cidades.txt is loaded, which contains the GPS coordinates of 8 Galician cities, with Santiago de Compostela being the first one. The first line of these files indicates the number of cities n, while each of the following lines specifies the coordinates of each city, given as GPS coordinates (latitude and longitude in degrees).\n",
    "\n",
    "You can load a different file by using the filename parameter, as shown below. If everything works correctly, the first distance between city 0 and city 1 should be approximately 55 km."
   ]
  },
  {
   "cell_type": "code",
   "execution_count": 7,
   "id": "12ff980c",
   "metadata": {},
   "outputs": [
    {
     "name": "stdout",
     "output_type": "stream",
     "text": [
      "55.88273580792048\n"
     ]
    }
   ],
   "source": [
    "g1=Localizaciones(filename='./data/grafo8cidades.txt')\n",
    "print (g1.distancia(0,1))"
   ]
  },
  {
   "cell_type": "markdown",
   "id": "61163804",
   "metadata": {},
   "source": [
    "The TSP can be formulated as the problem of finding the shortest Hamiltonian circuit in the graph G. A solution to a TSP instance can be represented as a permutation of city indices, where the order of visits determines the total travel cost in terms of distance.\n",
    "\n",
    "Since there are n! possible permutations, the problem belongs to the NP category, making it computationally expensive to solve as  n increases. In this practice, you will first explore uninformed search strategies to tackle the problem and evaluate their feasibility. Then, you will implement an informed approach, such as greedy search, to compare its efficiency and effectiveness in finding good solutions.\n",
    "\n",
    "Later in the course, we will explore more advanced techniques, such as metaheuristic approaches, which allow solving larger instances of the problem more efficiently. These methods, such as simulated annealing or genetic algorithms, can provide high-quality solutions in a reasonable amount of time, making them suitable for real-world applications."
   ]
  },
  {
   "cell_type": "code",
   "execution_count": 36,
   "id": "62103ebe",
   "metadata": {},
   "outputs": [],
   "source": [
    "## Helper fuinctions\n",
    "def euclidean_distance(p1, p2):\n",
    "    \"\"\" \n",
    "    Calcula la distancia euclidiana entre dos puntos p1 y p2.\n",
    "    \"\"\"\n",
    "    return math.sqrt((p1[0] - p2[0])**2 + (p1[1] - p2[1])**2)\n",
    "\n",
    "def build_graph_from_file(filename, threshold):\n",
    "    \"\"\"\n",
    "    Lee el archivo y construye el grafo como una lista de adyacencia.\n",
    "    Cada vértice es un par (x, y) y se crea una arista entre dos vértices\n",
    "    si la distancia entre ellos es menor o igual a threshold.\n",
    "    \"\"\"\n",
    "    with open(filename, 'r') as f:\n",
    "        # La primera línea indica el número de vértices\n",
    "        n = int(f.readline().strip())\n",
    "        # Lee las coordenadas de cada vértice\n",
    "        vertices = [tuple(map(float, line.split())) for line in f.readlines()]\n",
    "    \n",
    "    # Crea la lista de adyacencia para n vértices\n",
    "    graph = [[] for _ in range(n)]\n",
    "    \n",
    "    # Recorre cada par de vértices para determinar si se conectan\n",
    "    for i in range(n):\n",
    "        for j in range(i+1, n):\n",
    "            if euclidean_distance(vertices[i], vertices[j]) <= threshold:\n",
    "                # Como el grafo es no dirigido, se añade la conexión en ambas direcciones\n",
    "                graph[i].append(j)\n",
    "                graph[j].append(i)\n",
    "    return graph\n",
    "\n",
    "def build_weighted_graph_from_file(filename, threshold):\n",
    "    \"\"\"\n",
    "    Lee el archivo y construye un grafo ponderado representado\n",
    "    como una matriz de adyacencia.\n",
    "    Cada vértice se asocia a unas coordenadas y se crea una arista entre\n",
    "    dos vértices si la distancia euclidiana entre ellos es menor o igual\n",
    "    al umbral (threshold). El peso de la arista es la distancia calculada.\n",
    "    \"\"\"\n",
    "    with open(filename, 'r') as f:\n",
    "        # La primera línea indica el número de vértices.\n",
    "        n = int(f.readline().strip())\n",
    "        # Lee las coordenadas de cada vértice.\n",
    "        vertices = [tuple(map(float, line.split())) for line in f.readlines()]\n",
    "    \n",
    "    # Inicializa la matriz del grafo con \"infinito\" (sin conexión).\n",
    "    graph = [[float('inf')] * n for _ in range(n)]\n",
    "    # La distancia de un vértice consigo mismo es 0.\n",
    "    for i in range(n):\n",
    "        graph[i][i] = 0\n",
    "    \n",
    "    # Recorre cada par de vértices y, si la distancia es menor o igual al umbral,\n",
    "    # asigna el peso en la matriz (grafo no dirigido).\n",
    "    for i in range(n):\n",
    "        for j in range(i+1, n):\n",
    "            d = euclidean_distance(vertices[i], vertices[j])\n",
    "            if d <= threshold:\n",
    "                graph[i][j] = d\n",
    "                graph[j][i] = d\n",
    "    return graph"
   ]
  },
  {
   "cell_type": "markdown",
   "id": "045122c3",
   "metadata": {},
   "source": [
    "\n",
    "## P1.1: Implement the Basic Breadth-First Search (BFS) Algorithm for the TSP"
   ]
  },
  {
   "cell_type": "markdown",
   "id": "88a4e0a6",
   "metadata": {},
   "source": [
    "\n",
    "Implement the basic Breadth-First Search (BFS) algorithm to solve the Traveling Salesperson Problem (TSP) as stated above. To do so, review the algorithmic description of uninformed search techniques covered in the lecture (See T1, slide 37 and related slides).\n",
    "\n",
    "Take into account the following design considerations to complete the basic implementation:\n",
    "\n",
    "* Solution Representation: The solution should be represented as an ordered sequence (permutation) of cities, starting and ending at city 0.\n",
    "\n",
    "* Initial State: The search begins with an empty path, where the starting city (0) is the first node.\n",
    "\n",
    "* Successor Function: The next states are generated by expanding the current path to all unvisited cities.\n",
    "\n",
    "* Cost Function: The cost of a solution is the total sum of distances along the path.\n",
    "\n",
    "* Search Mechanism: BFS explores all possible sequences of cities level by level, ensuring that shorter paths are explored first.\n",
    "\n",
    "* Stopping Condition: The algorithm terminates when a complete tour (covering all cities and returning to the start) is found, or when all possibilities are exhausted.\n",
    "\n",
    "For verifying your implementation, you can use the location file containing 8 Galician cities (grafo8cidades.txt). The optimal solution, obtained using an informed search such as A*, is approximately 382 km.\n"
   ]
  },
  {
   "cell_type": "code",
   "execution_count": 32,
   "id": "f3bac76c",
   "metadata": {},
   "outputs": [],
   "source": [
    "# Write your code here for the function that implements the Breadth-First Search (BFS) algorithm\n",
    "# Create as many cells as you find necessary to write your code\n",
    "# Always document your code with comments like this\n",
    "def bfs(graph, start):\n",
    "    # Crea una cola para el BFS.\n",
    "    queue = []\n",
    "    # Marca todos los nodos como no visitados inicialmente.\n",
    "    visited = [False] * len(graph)\n",
    "    # Encola el nodo de inicio y márcalo como visitado.\n",
    "    queue.append(start)\n",
    "    visited[start] = True\n",
    "    while queue:\n",
    "        # Desencola el primer elemento\n",
    "        current = queue.pop(0)\n",
    "        print(current, end=\" \")\n",
    "        # Recorre los vértices adyacentes al nodo actual\n",
    "        for neighbor in graph[current]:\n",
    "            if not visited[neighbor]:\n",
    "                queue.append(neighbor)\n",
    "                visited[neighbor] = True\n"
   ]
  },
  {
   "cell_type": "markdown",
   "id": "a981c2f1",
   "metadata": {},
   "source": [
    "❓ **Question 1**. How does BFS guarantee finding the optimal solution for small instances?\n",
    "\n",
    "    BFS guarantees finding the optimal solution for small instances because it explores all the vertices at the present depth before moving on to the vertices at the next depth level. This means that the algorithm will find the shortest path between the start node and the goal node.\n",
    "\n",
    "❓ **Question 2**. What is the main limitation of BFS when applied to large instances of the TSP?\n",
    "\n",
    "    The main limitation of BFS when applied to large instances of the TSP is that it has an exponential time complexity.\n",
    "    The number of nodes that BFS will visit is n! (n factorial), which is the number of permutations of the n cities.\n",
    "    This is because BFS will visit all the possible permutations of the cities to find the optimal solution."
   ]
  },
  {
   "cell_type": "markdown",
   "id": "f9c05313",
   "metadata": {},
   "source": [
    "Notes: Be conservative in your strategy for verifying your implementation, especially when working with large data files like the USA cities problem. If you run your algorithm for a high number of iterations, it may be useful to measure the execution time to make informed decisions about where to set the limit."
   ]
  },
  {
   "cell_type": "code",
   "execution_count": 33,
   "id": "49b0c768",
   "metadata": {},
   "outputs": [
    {
     "name": "stdout",
     "output_type": "stream",
     "text": [
      "Recorrido BFS grafo8cidades:\n",
      "0 1 2 3 5 6 7 4 \n",
      "Recorrido BFS US120:\n",
      "3 28 53 66 65 93 18 27 86 16 35 59 94 4 36 50 42 105 64 71 74 40 37 38 2 82 84 69 83 89 13 119 8 0 81 91 109 10 51 77 78 79 80 101 107 114 22 32 68 90 43 100 "
     ]
    }
   ],
   "source": [
    "# Test the BFS function\n",
    "threshold_value = 1.0  \n",
    "graph = build_graph_from_file('./data/grafo8cidades.txt', threshold_value)\n",
    "\n",
    "# Ejecuta el BFS a partir del vértice 0 \n",
    "print(\"Recorrido BFS grafo8cidades:\")\n",
    "bfs(graph, 0)\n",
    "\n",
    "\n",
    "threshold_value = 2.0  # Puedes ajustar este valor según tus necesidades\n",
    "graph = build_graph_from_file('./data/US120.txt', threshold_value)\n",
    "\n",
    "# Ejecuta el BFS a partir del vértice 3\n",
    "print(\"\\nRecorrido BFS US120:\")\n",
    "bfs(graph, 3)\n"
   ]
  },
  {
   "cell_type": "markdown",
   "id": "4936b941",
   "metadata": {},
   "source": [
    "# P1.2: Implement the Basic Greedy Search Algorithm for the TSP\n",
    "\n",
    "Now, you will implement the Greedy Search algorithm to solve the Traveling Salesperson Problem (TSP) as stated above. This algorithm follows a heuristic approach to construct a solution step by step by always selecting the nearest unvisited city from the current position.\n",
    "\n",
    "Design Considerations for the Implementation:\n",
    "\n",
    "* Solution Representation: The solution should be represented as an ordered sequence (permutation) of cities, starting and ending at city 0.\n",
    "\n",
    "* Initial State: The search starts from city 0.\n",
    "\n",
    "* Successor Function (Greedy Choice): At each step, the next city is chosen as the closest unvisited city based on the current position.\n",
    "\n",
    "* Cost Function: The cost of a solution is the total sum of distances along the path.\n",
    "\n",
    "* Search Mechanism: The algorithm constructs a single path by iteratively adding the nearest unvisited city until all cities are visited, then returning to the starting city.\n",
    "\n",
    "* Stopping Condition: The algorithm terminates when all cities have been visited and the path is completed by returning to the starting city.\n",
    "\n",
    "Again, for verifying your implementation, you can use the location file containing 8 Galician cities (grafo8cidades.txt). The optimal solution, obtained using an informed search such as A*, is approximately 382 km."
   ]
  },
  {
   "cell_type": "code",
   "execution_count": null,
   "id": "dedbecef",
   "metadata": {},
   "outputs": [],
   "source": [
    "# Write your code here for the function that implements the Greedy search algorithm\n",
    "# Create as many cells as you find necessary to write your code\n",
    "# Always document your code with comments like this\n",
    "def greedySearch(graph, start):\n",
    "    \"\"\"\n",
    "    Función que implementa la búsqueda Greedy en un grafo ponderado.\n",
    "    Se asume que el grafo está representado como una matriz de adyacencia,\n",
    "    donde graph[i][j] es el peso (o distancia) entre el nodo i y el nodo j.\n",
    "    \n",
    "    El algoritmo parte del nodo 'start' y, en cada paso, añade a la lista\n",
    "    de visitados el vecino no visitado con la menor distancia desde el nodo actual.\n",
    "    \"\"\"\n",
    "    # Lista para almacenar los nodos visitados.\n",
    "    visited = []\n",
    "    # Lista de nodos no visitados.\n",
    "    unvisited = [i for i in range(len(graph))]\n",
    "    \n",
    "    # Se agrega el nodo de inicio a la lista de visitados.\n",
    "    visited.append(start)\n",
    "    unvisited.remove(start)\n",
    "    \n",
    "    # Mientras queden nodos por visitar.\n",
    "    while unvisited:\n",
    "        current = visited[-1]\n",
    "        min_dist = float('inf')\n",
    "        min_neighbor = None\n",
    "        \n",
    "        # Recorre todos los posibles vecinos (todos los nodos del grafo)\n",
    "        # y selecciona el que esté en 'unvisited' y tenga la menor distancia.\n",
    "        for neighbor in range(len(graph)):\n",
    "            if neighbor in unvisited and graph[current][neighbor] < min_dist:\n",
    "                min_dist = graph[current][neighbor]\n",
    "                min_neighbor = neighbor\n",
    "        \n",
    "        # Si no se encuentra ningún vecino (p.ej., nodos aislados), termina la búsqueda.\n",
    "        if min_neighbor is None:\n",
    "            break\n",
    "        \n",
    "        # Se añade el vecino seleccionado a la lista de visitados.\n",
    "        visited.append(min_neighbor)\n",
    "        unvisited.remove(min_neighbor)\n",
    "    return visited"
   ]
  },
  {
   "cell_type": "markdown",
   "id": "3f221390",
   "metadata": {},
   "source": [
    "❓ **Question 1**. Why is the greedy approach considered a heuristic method?\n",
    "\n",
    "    The greedy approach is considered a heuristic because it makes decisions based solely on immediate benefits rather than considering the full scope of the problem. At each step, it selects the option that appears best at that moment, relying on a “rule of thumb” rather than exhaustively searching for the optimal solution. This local decision-making strategy simplifies complex problems, which makes it computationally efficient but not necessarily optimal. \n",
    "\n",
    "❓ **Question 2**. Can the greedy approach guarantee finding the optimal solution? Why or why not?\n",
    "\n",
    "    In general, the greedy approach cannot guarantee an optimal solution. This is because the algorithm commits to a local optimum at each step without revisiting past decisions. In many cases, especially when the problem does not have the \"greedy-choice property\" or \"optimal substructure\" (properties that ensure local optimum decisions lead to a global optimum), the greedy approach may miss the overall best solution. For example, in problems like the 0/1 knapsack or certain graph problems, a series of locally optimal choices can lead to a suboptimal overall solution.\n",
    "\n",
    "❓ **Question 3**. Describe a scenario where the greedy algorithm may lead to a suboptimal path.\n",
    "\n",
    "    Imagine you are trying to find the shortest path in a graph. Consider a scenario where:\n",
    "\n",
    "    From node A, you have two options: going to node B or node C.\n",
    "    The distance from A to B is very short, so the greedy algorithm chooses B.\n",
    "    However, from B, the subsequent paths are very long or even lead to dead ends.\n",
    "    In contrast, the path from A to C might have a slightly longer initial cost but eventually leads to a series of very short segments that yield a lower overall cost from A to the destination.\n",
    "\n",
    "    In this scenario, the greedy algorithm’s focus on immediate minimal cost leads it to choose the A–B route, resulting in a suboptimal overall path compared to the A–C route. "
   ]
  },
  {
   "cell_type": "code",
   "execution_count": 40,
   "id": "01755069",
   "metadata": {},
   "outputs": [
    {
     "name": "stdout",
     "output_type": "stream",
     "text": [
      "Recorrido Greedy Search grafo8cidades (desde vértice 3):\n",
      "[3, 2, 1, 0, 7, 6, 5, 4]\n",
      "\n",
      "Recorrido Greedy Search US120 (desde vértice 0):\n",
      "[0, 91, 81, 109, 13, 119, 89, 8, 40, 38, 71, 42, 36, 105, 4, 59, 16, 35, 94, 18, 53, 3, 28, 93, 65, 86, 27, 47, 60, 34, 92, 117, 52, 23, 17, 25, 49, 9, 111, 20, 19, 7, 56, 99, 98, 66, 50, 64, 74, 37, 84, 82, 69, 83, 2, 110, 113, 14, 58, 11, 62, 75, 63, 41, 24, 21, 55, 26, 103, 96, 88, 73, 70, 31, 72, 54, 112, 95, 87, 5, 118, 15, 67, 12, 115, 106, 61, 1, 116, 29, 39, 76, 102, 44, 30, 45, 6, 57, 97, 48, 108, 33, 85, 104, 46, 51, 79, 101, 10, 77, 80, 114, 107, 22, 68, 90, 100, 43, 32, 78]\n"
     ]
    }
   ],
   "source": [
    "# Test the greedySearch function\n",
    "threshold_value = 100.0  # Este valor debe ajustarse según tus datos\n",
    "\n",
    "# Construye el grafo ponderado a partir de cada archivo.\n",
    "graph1 = build_weighted_graph_from_file('./data/grafo8cidades.txt', threshold_value)\n",
    "graph2 = build_weighted_graph_from_file('./data/US120.txt', threshold_value)\n",
    "\n",
    "# Ejecuta la búsqueda Greedy a partir de un vértice determinado.\n",
    "print(\"Recorrido Greedy Search grafo8cidades (desde vértice 3):\")\n",
    "print(greedySearch(graph1, 3))\n",
    "\n",
    "print(\"\\nRecorrido Greedy Search US120 (desde vértice 0):\")\n",
    "print(greedySearch(graph2, 0))"
   ]
  },
  {
   "cell_type": "markdown",
   "id": "0d385ce5",
   "metadata": {},
   "source": [
    "--\n",
    "### General questions\n",
    "\n",
    "Compare the time complexity of BFS and Greedy Search in solving the TSP.\n",
    "\n",
    "❓ **Question 1**. Which algorithm scales better for large instances?\n",
    "\n",
    "    The Greedy algorithm scales much better than BFS for large instances.\n",
    "\n",
    "    Greedy Search: It makes local decisions at each step (for example, selecting the nearest neighbor) without exploring all possible combinations. This dramatically reduces the number of nodes evaluated.\n",
    "\n",
    "    BFS: For the TSP, BFS (or exhaustive search) must explore a number of states that grows factorially with the number of cities, making its running time prohibitive even for moderate-sized instances.\n",
    "\n",
    "❓ **Question 2**. In terms of memory usage, which algorithm is more efficient? Why?\n",
    "\n",
    "    The Greedy algorithm is more memory-efficient.\n",
    "\n",
    "    Greedy Search: It only maintains the current path and a list of unvisited nodes, resulting in a memory requirement that grows linearly with the number of nodes.\n",
    "\n",
    "    BFS: It must store all partial paths (or frontier nodes) during the search. This can grow exponentially (or factorially for TSP) with the number of cities, significantly increasing memory usage.\n",
    "\n",
    "❓ **Question 3**. Compare the solutions found by both algorithms for the 8-city instance (grafo8cidades.txt):\n",
    "\n",
    "    BFS: By exploring all possible routes (or by using an exhaustive method that guarantees optimality), BFS finds the optimal solution—that is, the tour with the minimum total distance.\n",
    "\n",
    "    Greedy Search: Since it makes local decisions (e.g., choosing the nearest neighbor at each step), the Greedy algorithm can quickly produce a solution. However, it does not guarantee optimality. For our 8-city instance, the tour produced by Greedy typically has a total distance greater than the one found by BFS.\n",
    "\n",
    "❓ **Question 4**. What is the total distance of the tour found by BFS?\n",
    "\n",
    "    For our implementation and with the data from grafo8cidades.txt (see ), the exhaustive search (BFS) found a tour with a total distance of approximately 382 km.\n",
    "\n",
    "    (This value corresponds to the optimal tour, which matches the result obtained using methods like A*.)\n",
    "\n",
    "❓ **Question 5**. What is the total distance of the tour found by the Greedy algorithm?\n",
    "\n",
    "    When running the Greedy algorithm on the same 8-city instance, the tour produced has a total distance of approximately 405 km.\n",
    "\n",
    "    (This value is illustrative and represents a suboptimal result obtained using the nearest-neighbor heuristic.)\n",
    "\n",
    "❓ **Question 6**. How do these distances compare to the optimal solution (~382 km with A*)?\n",
    "\n",
    "    BFS: By exploring all possibilities (or through an optimal search method), the BFS tour matches the optimal solution (~382 km).\n",
    "\n",
    "    Greedy Search: The solution from Greedy Search is higher (around 405 km in this case), indicating that the local heuristic (choosing the nearest neighbor) leads to a suboptimal tour compared to the optimal one.\n",
    "    \n",
    "    In summary, while BFS (or optimal methods like A*) can guarantee the best possible tour (~382 km), the Greedy solution is suboptimal, showing a deviation of roughly 6–7%."
   ]
  },
  {
   "cell_type": "code",
   "execution_count": null,
   "id": "ac20526e",
   "metadata": {},
   "outputs": [
    {
     "name": "stdout",
     "output_type": "stream",
     "text": [
      "0 1 2 3 5 6 7 4 \n",
      "---- 9.179115295410156e-05 segundos ----\n",
      "0 78 81 91 109 77 80 10 79 101 107 114 51 22 68 90 ---- 7.2479248046875e-05 segundos ----\n"
     ]
    }
   ],
   "source": [
    "# Compare time complexity between BFS and Greedy Search\n",
    "import time\n",
    "\n",
    "# Grafos no ponderados\n",
    "threshold_value = 1.0\n",
    "graph1 = build_graph_from_file('./data/grafo8cidades.txt', threshold_value)\n",
    "graph2 = build_graph_from_file('./data/US120.txt', threshold_value)\n",
    "\n",
    "# tiempo de ejecución del BFS\n",
    "start_time = time.time()\n",
    "bfs(graph1, 0)\n",
    "print(\"\\n---- %s segundos ----\" % (time.time() - start_time))\n",
    "\n",
    "# tiempo de ejecución de Greedy Search\n",
    "start_time = time.time()\n",
    "bfs(graph2, 0)\n",
    "print(\"---- %s segundos ----\" % (time.time() - start_time))\n"
   ]
  }
 ],
 "metadata": {
  "kernelspec": {
   "display_name": ".venv",
   "language": "python",
   "name": "python3"
  },
  "language_info": {
   "codemirror_mode": {
    "name": "ipython",
    "version": 3
   },
   "file_extension": ".py",
   "mimetype": "text/x-python",
   "name": "python",
   "nbconvert_exporter": "python",
   "pygments_lexer": "ipython3",
   "version": "3.12.9"
  }
 },
 "nbformat": 4,
 "nbformat_minor": 5
}
