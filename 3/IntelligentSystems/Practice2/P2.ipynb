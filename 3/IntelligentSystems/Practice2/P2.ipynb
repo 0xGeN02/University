{
 "cells": [
  {
   "cell_type": "markdown",
   "id": "3d57d457",
   "metadata": {},
   "source": [
    "\n",
    "# **Practice 2: Trajectory-Based Metaheuristics – Tabu Search**\n",
    "\n",
    "This practice focuses on implementing **Tabu Search**, a trajectory-based metaheuristic, to solve optimization problems efficiently. You will start by implementing a **basic version** of the algorithm and then have the option to develop an **improved version** with enhanced performance.\n",
    "\n",
    "## **Objectives**\n",
    "- Understand the principles of **Tabu Search**.\n",
    "- Implement a **basic** Tabu Search algorithm.\n",
    "- Analyze the impact of different **neighborhood structures** and **tabu list strategies**.\n",
    "- Compare the effectiveness of the **basic** and **improved** implementations.\n",
    "\n"
   ]
  },
  {
   "cell_type": "markdown",
   "id": "dc9d72a9",
   "metadata": {},
   "source": [
    "###    _Nombre Apellidos_\n",
    "\n"
   ]
  },
  {
   "cell_type": "markdown",
   "id": "a351019b",
   "metadata": {},
   "source": [
    "## **Instructions**\n",
    "Follow the provided steps carefully, executing the code in sequence and analyzing the results. Throughout the practice, you will find **questions** that must be answered in the designated section at the bottom of the document.\n",
    "\n",
    "Just like in **Practice 1**, we will use a **Jupyter Notebook** for this practice.\n",
    "\n",
    "As you already know, it allows us to execute code cells step by step, as well as automatically generate a well-formatted report of the practice. Nevertheless, here are some brief instructions on how it works:\n",
    "\n",
    "* You can add a cell using the **\"Insert\"** button in the toolbar and change its type with **\"Cell > Cell Type\"**.\n",
    "* To execute a code cell, select it and press the **\"▶ Run\"** button in the toolbar.\n",
    "* To export the document to HTML, select **\"File > Download as > HTML (.html)\"**.\n",
    "\n",
    "Follow this guide until the end. Execute the provided code step by step, understanding what you are doing and reflecting on the results. There will be questions interspersed throughout the guide—answer all of them in the designated section: **\"Responses to the questionnaires\"**. Please do not modify any line of code unless explicitly instructed to do so.\n",
    "\n",
    "Do not forget to insert your **name and surname** in the top cell.\n",
    "\n",
    "### **Implementation Requirements**\n",
    "You will be required to implement **two versions** of the **Tabu Search** algorithm:\n",
    "1. Implement a **mandatory** basic version of Tabu Search.\n",
    "2. Optionally, propose and implement an **improved** version with modifications such as:\n",
    "   - Different neighborhood selection strategies.\n",
    "   - Variable tabu list size.\n",
    "   - Diversification mechanisms to escape local optima.\n",
    "\n",
    "\n",
    "Write the code for your solution(s) in the designated cells. Additionally, throughout the practice, several questions will be posed that you must answer in the lower section of the document. Feel free to include any necessary cells (for example, if you reference specific parts of your code) to properly answer the questions.\n"
   ]
  },
  {
   "cell_type": "markdown",
   "id": "797d20ec",
   "metadata": {},
   "source": [
    "## Practice Submission\n",
    "\n",
    "The submission deadline will be the one indicated in the Virtual Campus. The submission must consist of a single compressed file named `LASTNAME_FIRSTNAME_TabuSearch.zip`, containing the following files:\n",
    "\n",
    " * `LASTNAME_FIRSTNAME_TabuSearch.html`: An HTML file generated from exporting this Notebook, with the answered questions at the end of the document.\n",
    " * `LASTNAME_FIRSTNAME_TabuSearch.ipynb`: The source Jupyter Notebook file.\n",
    " * The data file(s) used for problem-solving.\n",
    "\n",
    "\n",
    " ---"
   ]
  },
  {
   "cell_type": "markdown",
   "id": "f7f872a1",
   "metadata": {},
   "source": [
    "\n",
    "## Python preliminaries\n"
   ]
  },
  {
   "cell_type": "markdown",
   "id": "3c2f982c",
   "metadata": {},
   "source": [
    "Here you have some Python functions that may be helpful in the near future while developing this practice.\n",
    "\n",
    "For example, you can generate random numbers using the package `random`."
   ]
  },
  {
   "cell_type": "code",
   "execution_count": null,
   "id": "d6354e9a",
   "metadata": {},
   "outputs": [],
   "source": [
    "import random\n",
    "\n",
    "# we can create a random number between 1 and 10\n",
    "random_number = random.randint(1, 10)\n",
    "print(random_number)\n",
    "\n",
    "# and random numbers between 0 and 1 following a uniform distribution\n",
    "random_U = random.uniform(0, 1)\n",
    "print(random_U)"
   ]
  },
  {
   "cell_type": "markdown",
   "id": "a9c96428",
   "metadata": {},
   "source": [
    "You can generate vectors of fixed and random numbers that are also shuffled randomly, as illustrated below."
   ]
  },
  {
   "cell_type": "code",
   "execution_count": null,
   "id": "371102aa",
   "metadata": {},
   "outputs": [],
   "source": [
    "vector = [x for x in range(1, 10)]\n",
    "print(\"fixed vector\", vector)\n",
    "\n",
    "random.shuffle(vector)\n",
    "print(vector)\n",
    "\n",
    "random_vector = [random.randint(1, 10) for i in range(1, 10)]\n",
    "print(\"random vector\", random_vector)\n",
    "\n",
    "random.shuffle(random_vector)\n",
    "print(random_vector)\n"
   ]
  },
  {
   "cell_type": "markdown",
   "id": "e4c8a62e",
   "metadata": {},
   "source": [
    "**NEW:** You can also generate a list of random numbers without repetition within a given range (a permutation of the range)."
   ]
  },
  {
   "cell_type": "code",
   "execution_count": null,
   "id": "b4a134cd",
   "metadata": {},
   "outputs": [],
   "source": [
    "print(random.sample(range(1,10), 9))"
   ]
  },
  {
   "cell_type": "markdown",
   "id": "3a5608a8",
   "metadata": {},
   "source": [
    "Another important set of functions comes from the math module. You can find a list of available functions at https://docs.python.org/3/library/math.html. Below are some usage examples."
   ]
  },
  {
   "cell_type": "code",
   "execution_count": null,
   "id": "670e454e",
   "metadata": {},
   "outputs": [],
   "source": [
    "import math \n",
    "\n",
    "# number e raised to the specified power\n",
    "e = math.exp(1)\n",
    "print(e)\n",
    "\n",
    "power2_e = math.exp(2)\n",
    "print(power2_e)\n",
    "\n",
    "# example of exponentiation\n",
    "print(math.pow(e, 1))\n",
    "print(math.pow(e, 2))\n",
    "\n",
    "# example of the natural logarithm with base e\n",
    "base = e\n",
    "print(math.log(e))\n",
    "print(math.log(e, base))\n"
   ]
  },
  {
   "cell_type": "markdown",
   "id": "c1077d04",
   "metadata": {},
   "source": [
    "Finally, functions from the `time` module allow you to approximately measure the execution time of specific sections of code."
   ]
  },
  {
   "cell_type": "code",
   "execution_count": null,
   "id": "f19e7fd6",
   "metadata": {},
   "outputs": [],
   "source": [
    "import time\n",
    "start_time = time.time()\n",
    "\n",
    "sum = 0\n",
    "for i in range(1000000):\n",
    "    sum = sum * 1\n",
    "\n",
    "print(\"---- %s segundos ----\" % (time.time() - start_time))"
   ]
  },
  {
   "cell_type": "markdown",
   "id": "f73d01d4",
   "metadata": {},
   "source": [
    "# The Traveling Salesperson Problem (TSP) with Tabu Search\n",
    "\n",
    "Once again, we will attempt to solve the **Traveling Salesperson Problem (TSP)**, but this time using the **Tabu Search algorithm**.\n",
    "\n",
    "The objective of this practice is to **model and implement an intelligent agent** capable of solving the TSP using the **Tabu Search (TS) metaheuristic**. To achieve this, you will first implement the **basic algorithm** covered in the lecture and then evaluate whether introducing **modifications** to its design can improve the quality of the obtained solutions.\n"
   ]
  },
  {
   "cell_type": "markdown",
   "id": "2d8f430b",
   "metadata": {},
   "source": [
    "## Definition of the Traveling Salesperson Problem (TSP)\n",
    "\n",
    "The **Traveling Salesperson Problem (TSP)** involves a salesperson who wants to sell a product and, to do so, needs to find the **shortest possible route** through the cities of their customers, visiting each city only once and **starting and ending** the journey in their own city (a circular route from the initial city).\n",
    "\n",
    "Typically, the problem is represented using a **weighted graph** \\( G = (N, A) \\), where:\n",
    "- \\( N \\) is the set of **\\( n = |N| \\) nodes** (cities).\n",
    "- \\( A \\) is the set of **edges** connecting the nodes.\n",
    "- Each edge \\( (i, j) in A \\) has an associated weight \\( d_ij \\), which represents the **distance** between cities \\( i \\) and \\( j \\).\n",
    "\n",
    "The **TSP reduces to the problem of finding the minimum-length Hamiltonian circuit** in the graph \\( G \\). A solution to a TSP instance can be represented as a **permutation of city indices**, where the **order of visits** determines the **total travel cost** in terms of the total distance covered.\n",
    "\n",
    "Since there are **\\( n! \\) possible permutations**, the problem belongs to the **NP category**, making it computationally expensive to solve as \\( n \\) increases. This means that solving instances with a large number of cities (**large \\( n \\)**) is impractical using **uninformed search strategies**. Instead, the problem can **benefit from metaheuristics**, allowing larger instances to be tackled while still obtaining **reasonably good solutions** within a feasible time.\n"
   ]
  },
  {
   "cell_type": "markdown",
   "id": "3a2d6367",
   "metadata": {},
   "source": [
    "### Preliminary Concepts\n",
    "\n",
    "To facilitate your implementation work, we provide the **`Localizaciones`** class, which allows you to **load GPS locations** representing the vertices of the graph \\( G \\) of \\( N \\) cities. It also enables you to **transparently calculate** the distance between any pair of cities using the **[haversine formula](https://en.wikipedia.org/wiki/Haversine_formula)**, which accounts for the Earth's curvature when computing distances.\n",
    "\n",
    "It is important to note that in the **haversine formula**, the coordinates must be expressed in **radians**.\n",
    "\n",
    "First, import the **Python module** that accompanies this practice, which includes some **support functions** as well as the **data loading class**.\n"
   ]
  },
  {
   "cell_type": "code",
   "execution_count": null,
   "id": "7e422090",
   "metadata": {},
   "outputs": [],
   "source": [
    "from helpers_mod_sa import *"
   ]
  },
  {
   "cell_type": "markdown",
   "id": "6438416b",
   "metadata": {},
   "source": [
    "Inspect the location loading code using `psource(Localizaciones)`."
   ]
  },
  {
   "cell_type": "code",
   "execution_count": null,
   "id": "b4b9896c",
   "metadata": {},
   "outputs": [],
   "source": [
    "psource (Localizaciones)"
   ]
  },
  {
   "cell_type": "markdown",
   "id": "87ee11d6",
   "metadata": {},
   "source": [
    "By default, the file `./data/grafo8cidades.txt` is loaded, which contains the **GPS coordinates** of **8 Galician cities**, with **Santiago de Compostela** being the first one. The first line of these files indicates the **number of cities** \\( n \\), while each of the following lines specifies the **coordinates** of each city, given as **GPS coordinates (latitude and longitude in degrees).**\n",
    "\n",
    "You can load a different file by using the **`filename`** parameter, as shown below. If everything works correctly, the **first distance between city 0 and city 1 should be approximately 55 km**.\n",
    "\n",
    "> ❗ **Important:** For this practice, **you must use** the file `./data/grafo100cidades.txt`, which contains the coordinates of **100 Galician municipalities**."
   ]
  },
  {
   "cell_type": "code",
   "execution_count": null,
   "id": "12ff980c",
   "metadata": {},
   "outputs": [],
   "source": [
    "g1=Localizaciones(filename='./data/grafo8cidades.txt')\n",
    "print (g1.distancia(0,1))\n",
    "g2=Localizaciones(filename='./data/grafos10_10/grafo_1.txt')\n",
    "print (g2.distancia(0,1))\n",
    "g3=Localizaciones(filename='./data/grafo100cidades.txt')\n",
    "print(g3.distancia(0,1))"
   ]
  },
  {
   "cell_type": "markdown",
   "id": "88a4e0a6",
   "metadata": {},
   "source": [
    "\n",
    "---\n",
    "\n",
    "# P2.1: Basic Implementation of Tabu Search\n",
    "\n",
    "In this section, you must develop a **basic version** of the **Tabu Search** algorithm to solve the **Traveling Salesperson Problem (TSP)** applied to the municipalities of Galicia. The specification of the algorithm will be highly detailed since the main objective of this first part is to ensure you have a **fully functional and verified implementation** that correctly solves the problem. As in **P1**, we assume that the **tour is circular** (starting and ending at the same municipality) and must include **N = 100** municipalities in Galicia.\n",
    "\n",
    "To implement the algorithm, **review the algorithmic description** of the metaheuristic covered in the lecture (**See T1, slide 49 and related slides**).\n",
    "\n",
    "### Design Considerations for the Basic Implementation\n",
    "- **Solution Representation:** The solution is represented as an **ordered sequence (permutation)** **starting and ending at city 0**. That is, we use an ordered representation consisting of a sequence of numerical values representing each municipality **{0, 1, ..., 99}**. The starting and ending point is always **municipality 0**, so a valid solution **S** is represented as a permutation of the remaining values **{1, ..., 99}**.\n",
    "\n",
    "- **Initial Solution:** A **completely random** permutation of the cities is generated as described in previous sections.\n",
    "\n",
    "- **Neighborhood Generation Operator:** The **swap operator** is used to generate new neighboring solutions. The maximum number of different neighbors that can be generated from a given solution (all possible swaps) is:\n",
    "\n",
    "  $$\n",
    "  \\sum_{i=1}^{L-1}i = \\frac{L(L-1)}{2}\n",
    "  $$\n",
    "\n",
    "  Where **L** is the length of the solution.\n",
    "\n",
    "- **Cost Function:** The total travel cost is computed as the **sum of the distances** in the tour while ensuring that the solution **starts and ends at city 0**. The distance is calculated based on the following three elements:\n",
    "    - **Distance from city 0 to the first city in the solution:** `0 -> S[0]`\n",
    "    - **Total distance traveled in the solution:** `S[0] -> S[1] -> ... -> S[-1]`\n",
    "    - **Distance from the final city back to city 0:** `S[-1] -> 0`\n",
    "\n",
    "- **Tabu List:** The **Tabu List (TL)** consists of **swap moves** `{i, j}` that generate the solutions forming the search trajectory. You must set **N = 100** as the **tabu tenure** parameter, meaning that the **tabu list will store N elements**. A move `{i, j}` will exit the tabu list after **N = 100** operations, making it permissible again.\n",
    "\n",
    "- **Reinitialization Strategy:** If **100 consecutive iterations** pass without improving the best solution **\\( S_{opt} \\)** found so far, a **restart** is triggered from **\\( S_{opt} \\)**. This serves as an **intensification strategy**.  \n",
    "  - The **tabu list is NOT reset** during reinitialization, allowing the exploration of previously unvisited neighbors due to prohibited swaps.\n",
    "  - When restarting, the algorithm returns to **\\( S_{opt} \\)** and clears the tabu list.\n",
    "\n",
    "- **Stopping Criterion:** The algorithm terminates after **10,000 iterations**.\n",
    "\n",
    "### **Verification of Your Implementation**\n",
    "To verify your implementation, **you must use** the **100-city Galician dataset** (`grafo100cidades.txt`).  \n",
    "As an initial test to ensure the implementation works correctly, you can use the **8-city Galician dataset** (`grafo8cidades.txt`). The **optimal solution** found using an **informed search** such as **A*** is approximately **382 km**.\n"
   ]
  },
  {
   "cell_type": "code",
   "execution_count": null,
   "id": "f3bac76c",
   "metadata": {},
   "outputs": [],
   "source": [
    "# Write your code and responses to the questions in the cells at the end of this notebook"
   ]
  },
  {
   "cell_type": "markdown",
   "id": "d2ae5035",
   "metadata": {},
   "source": [
    "❓ **Question 1**: Briefly explain the relevant details of your code to help understand your implementation (e.g., code structure, functions, etc.).\n",
    "\n",
    "❓ **Question 2**: The experimental part of this practice consists of performing **10 different runs** of your implementation and reporting the **mean and standard deviation** of:\n",
    "   - The best solution obtained.\n",
    "   - The iteration number at which it was reached.\n",
    "   - The execution time of the algorithm.\n",
    "\n",
    "🔹 **Note**: Be cautious when verifying your implementation, especially when using **large datasets**, such as the **USA cities problem**. If you run your algorithm for a **large number of iterations**, it may be useful to **measure execution time** to make informed decisions about where to set the iteration limit.\n"
   ]
  },
  {
   "cell_type": "markdown",
   "id": "ac8d9805",
   "metadata": {},
   "source": [
    "---\n",
    "\n",
    "# P2.2: Improvements to the Tabu Search Algorithm (Optional)\n",
    "\n",
    "In this section, the objective is to apply the algorithm you have just implemented to a **new dataset of 120 locations** extracted from the [50,000 historical places in the U.S. National Register](http://www.math.uwaterloo.ca/tsp/us/data.html), as described on the [Traveling Salesman Problem (TSP)](http://www.math.uwaterloo.ca/tsp/) website of the [Department of Combinatorics and Optimization](https://uwaterloo.ca/combinatorics-and-optimization/) at **University of Waterloo, CA** [(Prof. William Cook)](http://www.math.uwaterloo.ca/~bico/).\n",
    "\n",
    "To **avoid excessive computation time**, we will limit the problem to **120 locations**, which are provided in the file **US120.txt**.\n",
    "\n",
    "> 🔹 **Note**: If anyone wants to test the algorithm with the full dataset, the original text file can be downloaded from the [following link](http://www.math.uwaterloo.ca/tsp/us/files/us50000_latlong.txt).\n",
    "\n",
    "\n",
    "### Goal: Improving the Tabu Search Algorithm\n",
    "In this section, the objective is to **enhance** the previously developed algorithm based on the concepts covered in the lectures. You may modify any parameter or operator, such as:\n",
    "\n",
    "- **Initial solution generation** (e.g., using a greedy initialization).\n",
    "- **Tabu list management**, including an **aspiration criterion** (e.g., allowing a solution to be removed from the tabu list if it improves the best solution found so far).\n",
    "- **Neighborhood generation operator**, such as:\n",
    "  - Not considering all pairs of indices.\n",
    "  - Changing the neighborhood generation operator.\n",
    "- **Alternative intensification restart strategies**, such as:\n",
    "  - Restarting from a random solution selected from the **N best solutions found so far**.\n",
    "  - Restoring the tabu list.\n",
    "- **Diversification strategy using long-term memory**, such as:\n",
    "  - Implementing a **frequency matrix** (`frec`) that records the number of times each pair of cities appears consecutively in accepted solutions.\n",
    "  - Using this frequency matrix to perform a greedy initialization on a **modified distance matrix**, which **penalizes frequently visited pairs** by increasing their distance artificially:\n",
    "\n",
    "  $$\n",
    "  D(i,j)_{MOD} = D(i,j) + \\mu (D_{MAX} - D_{MIN}) \\frac{frec(i,j)}{frec_{MAX}}\n",
    "  $$\n",
    "\n",
    "- **Strategic oscillation**: Alternating between **intensification** and **diversification** strategies.\n",
    "\n",
    "This section is **optional** but provides an opportunity to explore **advanced techniques** that improve the efficiency and solution quality of Tabu Search for larger instances of the TSP."
   ]
  },
  {
   "cell_type": "code",
   "execution_count": null,
   "id": "19ea9177",
   "metadata": {},
   "outputs": [],
   "source": [
    "# Write your code and responses to the questions in the cells at the end of this notebook"
   ]
  },
  {
   "cell_type": "markdown",
   "id": "0c0ccfd8",
   "metadata": {},
   "source": [
    "❓ **Question 3**: Which improvements led to better results?  \n",
    "\n",
    "Briefly explain the **enhancements or modifications** you implemented, how you implemented them, and why you believe they are beneficial for the problem. Present your **conclusions** along with the **results obtained** to support your analysis."
   ]
  },
  {
   "cell_type": "markdown",
   "id": "82f11936",
   "metadata": {},
   "source": [
    "---\n",
    "\n",
    "# Responses to the Questions\n",
    "\n",
    "> **Reminder**: Do not forget to write your **name and surname** in the second cell of this document.  The responses to the questions must be **accompanied by the necessary implementations** to support your answers.\n",
    "\n",
    "### **P1.1 Mandatory Specification**\n",
    "\n",
    "This first part is **graded out of 6 points**. To complete it, you must:  \n",
    "- **Implement the algorithm**, and  \n",
    "- **Answer Questions 1 and 2** accordingly.  \n",
    "\n",
    "The **evaluation** of this section will be based on the **combination of the implementation and the responses** to both questions.\n",
    "\n",
    "❓ **Question 1**: Briefly explain the relevant details of your code to help understand your implementation (e.g., code structure, functions, etc.).  \n",
    "\n",
    "💡 *Include all the cells you find necessary to make your explanation clear and easy to follow.*\n"
   ]
  },
  {
   "cell_type": "code",
   "execution_count": null,
   "id": "d925ce44",
   "metadata": {},
   "outputs": [],
   "source": [
    "# Write your code here for the function that implements the Tabu Search\n",
    "# Create as many cells as you find necessary to write your code\n",
    "# Always document your code with comments like this"
   ]
  },
  {
   "cell_type": "markdown",
   "id": "214a8163",
   "metadata": {},
   "source": [
    "❓ **Question 2**: The experimental part of this practice consists of performing **10 different runs** of your implementation and reporting the **mean and standard deviation** of:\n",
    "   - The best solution obtained.\n",
    "   - The iteration number at which it was reached.\n",
    "   - The execution time of the algorithm.\n",
    "\n",
    "💡 *Include all the cells you find necessary to make your explanation clear and easy to follow.*\n",
    "\n"
   ]
  },
  {
   "cell_type": "code",
   "execution_count": null,
   "id": "8347e120",
   "metadata": {},
   "outputs": [],
   "source": [
    "# Write your code here for the function that implements the experimental part"
   ]
  },
  {
   "cell_type": "markdown",
   "id": "fc1d87f6",
   "metadata": {},
   "source": [
    "### **Optional Specification (Improvements)**\n",
    "\n",
    "This second part is **optional** and will be graded out of **4 points**. To complete it, you must:  \n",
    "- **Implement improvements**,  \n",
    "- **Show the code** where these improvements were implemented, and  \n",
    "- **Explain the rationale** behind these improvements and the results obtained.\n",
    "\n",
    "❓ **Question 3**: Which improvements led to better results?  \n",
    "\n",
    "Briefly explain the **enhancements or modifications** you implemented, how you implemented them, and why you believe they are beneficial for the problem. Present your **conclusions** along with the **results obtained** to support your analysis.  \n",
    "\n",
    "💡 *Include all the cells you find necessary to make your explanation clear and easy to follow.*"
   ]
  },
  {
   "cell_type": "code",
   "execution_count": null,
   "id": "19ee3c7d",
   "metadata": {},
   "outputs": [],
   "source": [
    "# Write your code here for the function that implements the Tabu Search\n",
    "# Create as many cells as you find necessary to write your code\n",
    "# Always document your code with comments like this"
   ]
  }
 ],
 "metadata": {
  "kernelspec": {
   "display_name": "Python 3",
   "language": "python",
   "name": "python3"
  },
  "language_info": {
   "codemirror_mode": {
    "name": "ipython",
    "version": 3
   },
   "file_extension": ".py",
   "mimetype": "text/x-python",
   "name": "python",
   "nbconvert_exporter": "python",
   "pygments_lexer": "ipython3",
   "version": "3.8.8"
  }
 },
 "nbformat": 4,
 "nbformat_minor": 5
}
